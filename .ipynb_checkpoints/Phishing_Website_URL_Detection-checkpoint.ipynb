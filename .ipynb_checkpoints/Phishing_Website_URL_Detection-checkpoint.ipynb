{
 "cells": [
  {
   "cell_type": "markdown",
   "id": "0f8b3fcd",
   "metadata": {},
   "source": [
    "## <font color=blue> Problem Statement: </font>\n",
    "\n",
    "Phishing is a type of fraud in which an attacker impersonates a reputable company or\n",
    "person in order to get sensitive information such as login credentials or account\n",
    "information via email or other communication channels. Phishing is popular among\n",
    "attackers because it is easier to persuade someone to click a malicious link that appears\n",
    "to be authentic than it is to break through a computer's protection measures.\n"
   ]
  },
  {
   "cell_type": "markdown",
   "id": "575931e4",
   "metadata": {},
   "source": [
    "In this project, we address the detection of malicious URLs as a multi-class classification problem. With this project, we classify the raw URLs into different class types such as benign or safe URLs, phishing URLs, malware URLs, or defacement URLs.\n",
    "    Overall, the goal of this project is to develop an accurate and robust system for detecting malicious URLs. By using machine learning algorithms and carefully selected features, it is possible to achieve high levels of accuracy and effectively protect users from potential security threats."
   ]
  },
  {
   "cell_type": "markdown",
   "id": "5b35c8e6",
   "metadata": {},
   "source": [
    "# **Context**\n",
    "Malicious URLs or malicious website is a very serious threat to cybersecurity. Malicious URLs host unsolicited content (spam, phishing, drive-by downloads, etc.) and lure unsuspecting users to become victims of scams (monetary loss, theft of private information, and malware installation), and cause losses of billions of dollars every year. We have collected this dataset to include a large number of examples of Malicious URLs so that a machine learning-based model can be developed to identify malicious urls so that we can stop them in advance before infecting computer system or spreading through inteinternet.\n",
    "\n",
    "# **Content**\n",
    "we have collected a huge dataset of 651,191 URLs, out of which 428103 benign or safe URLs, 96457 defacement URLs, 94111 phishing URLs, and 32520 malware URLs. Figure 2 depicts their distribution in terms of percentage. As we know one of the most crucial tasks is to curate the dataset for a machine learning project. We have curated this dataset from five different sources.\n",
    "\n",
    "For collecting benign, phishing, malware and defacement URLs we have used [URL dataset (ISCX-URL-2016)](https://www.unb.ca/cic/datasets/url-2016.html) For increasing phishing and malware URLs, we have used [Malware domain black list dataset](http://www.malwaredomains.com/wordpress/?page_id=66). We have increased benign URLs using [faizan git repo](https://github.com/faizann24/Using-machine-learning-to-detect-malicious-URLs/tree/master/data) At last, we have increased more number of phishing URLs using [Phishtank dataset](https://www.phishtank.com/developer_info.php) and [PhishStorm dataset](https://research.aalto.fi/en/datasets/phishstorm--phishing--legitimate-url-dataset(f49465b2-c68a-4182-9171-075f0ed797d5).html) As we have told you that dataset is collected from different sources. So firstly, we have collected the URLs from different sources into a separate data frame and finally merge them to retain only URLs and their class type."
   ]
  },
  {
   "cell_type": "markdown",
   "id": "5ca53973",
   "metadata": {},
   "source": [
    "A URL consists of the top-level domain, hostname, paths, and port of the web\n",
    "address, as in the following diagram:"
   ]
  },
  {
   "cell_type": "markdown",
   "id": "11d96176",
   "metadata": {},
   "source": [
    "![url](https://user-images.githubusercontent.com/70811337/150021474-4ba64b34-1d09-427f-9cf6-25508571d18d.PNG)"
   ]
  },
  {
   "cell_type": "markdown",
   "id": "06c8b8e3",
   "metadata": {},
   "source": [
    "# Quick Links"
   ]
  },
  {
   "cell_type": "markdown",
   "id": "a6d5dae0",
   "metadata": {},
   "source": [
    "1. [Libraries](#section-1)\n",
    "2. [Preprocessing](#section-2)\n",
    "3. [Feature Engineering](#section-3)\n",
    "4. [EDA](#4)\n",
    "5. [Target Encoding](#section-5)\n",
    "6. [Creation of Dataframe (Features and Target)](#section-6)\n",
    "7. [Scaling of Data](#section-7)\n",
    "8. [Analysis after scaling Data](#section-8)\n",
    "9. [Correlation and heatmap](#section-9)\n",
    "10. [p_value and variance inflation factor](#section-10)\n",
    "11. [Train Test Split](#section-11)\n",
    "12. [Data Balancing](#section-12)\n",
    "13. [Model Building & Hyperparameter tuning](#section-13)\n",
    "14. [ANN Model](#section-14)\n",
    "15. [Creating Best Model](#section-15)"
   ]
  },
  {
   "cell_type": "markdown",
   "id": "b8a57963",
   "metadata": {},
   "source": [
    "# **<a id=\"section-1\"></a><font color='3D87A6'> Libraries </font>**"
   ]
  },
  {
   "cell_type": "code",
   "execution_count": 189,
   "id": "33a00afa",
   "metadata": {},
   "outputs": [],
   "source": [
    "import pandas as pd\n",
    "import numpy as np\n",
    "import matplotlib.pyplot as plt\n",
    "import seaborn as sns\n",
    "from warnings import filterwarnings\n",
    "import graphviz\n",
    "from sklearn.tree import DecisionTreeClassifier, export_graphviz\n",
    "from sklearn import tree\n",
    "from sklearn.model_selection import train_test_split,GridSearchCV\n",
    "from sklearn.preprocessing import StandardScaler,MinMaxScaler\n",
    "from sklearn.metrics import accuracy_score, confusion_matrix, roc_curve, roc_auc_score, classification_report\n",
    "from IPython.display import Image  \n",
    "from sklearn.tree import export_graphviz\n",
    "import pydotplus\n",
    "import itertools\n",
    "from sklearn.model_selection import train_test_split\n",
    "import xgboost as xgb\n",
    "from lightgbm import LGBMClassifier\n",
    "import os\n",
    "from wordcloud import WordCloud\n",
    "pd.set_option(\"display.max_columns\",None)\n",
    "pd.set_option(\"max_colwidth\",None)\n",
    "pd.set_option(\"display.max_rows\",None)\n",
    "filterwarnings(\"ignore\")"
   ]
  },
  {
   "cell_type": "markdown",
   "id": "bf964714",
   "metadata": {},
   "source": [
    "# **<a id=\"section-2\"></a><font color='3D87A6'> Preprocessing </font>**"
   ]
  },
  {
   "cell_type": "code",
   "execution_count": 190,
   "id": "72d019c7",
   "metadata": {},
   "outputs": [
    {
     "data": {
      "text/html": [
       "<div>\n",
       "<style scoped>\n",
       "    .dataframe tbody tr th:only-of-type {\n",
       "        vertical-align: middle;\n",
       "    }\n",
       "\n",
       "    .dataframe tbody tr th {\n",
       "        vertical-align: top;\n",
       "    }\n",
       "\n",
       "    .dataframe thead th {\n",
       "        text-align: right;\n",
       "    }\n",
       "</style>\n",
       "<table border=\"1\" class=\"dataframe\">\n",
       "  <thead>\n",
       "    <tr style=\"text-align: right;\">\n",
       "      <th></th>\n",
       "      <th>url</th>\n",
       "      <th>type</th>\n",
       "    </tr>\n",
       "  </thead>\n",
       "  <tbody>\n",
       "    <tr>\n",
       "      <th>0</th>\n",
       "      <td>br-icloud.com.br</td>\n",
       "      <td>phishing</td>\n",
       "    </tr>\n",
       "    <tr>\n",
       "      <th>1</th>\n",
       "      <td>mp3raid.com/music/krizz_kaliko.html</td>\n",
       "      <td>benign</td>\n",
       "    </tr>\n",
       "    <tr>\n",
       "      <th>2</th>\n",
       "      <td>bopsecrets.org/rexroth/cr/1.htm</td>\n",
       "      <td>benign</td>\n",
       "    </tr>\n",
       "    <tr>\n",
       "      <th>3</th>\n",
       "      <td>http://www.garage-pirenne.be/index.php?option=com_content&amp;view=article&amp;id=70&amp;vsig70_0=15</td>\n",
       "      <td>defacement</td>\n",
       "    </tr>\n",
       "    <tr>\n",
       "      <th>4</th>\n",
       "      <td>http://adventure-nicaragua.net/index.php?option=com_mailto&amp;tmpl=component&amp;link=aHR0cDovL2FkdmVudHVyZS1uaWNhcmFndWEubmV0L2luZGV4LnBocD9vcHRpb249Y29tX2NvbnRlbnQmdmlldz1hcnRpY2xlJmlkPTQ3OmFib3V0JmNhdGlkPTM2OmRlbW8tYXJ0aWNsZXMmSXRlbWlkPTU0</td>\n",
       "      <td>defacement</td>\n",
       "    </tr>\n",
       "  </tbody>\n",
       "</table>\n",
       "</div>"
      ],
      "text/plain": [
       "                                                                                                                                                                                                                                           url  \\\n",
       "0                                                                                                                                                                                                                             br-icloud.com.br   \n",
       "1                                                                                                                                                                                                          mp3raid.com/music/krizz_kaliko.html   \n",
       "2                                                                                                                                                                                                              bopsecrets.org/rexroth/cr/1.htm   \n",
       "3                                                                                                                                                     http://www.garage-pirenne.be/index.php?option=com_content&view=article&id=70&vsig70_0=15   \n",
       "4  http://adventure-nicaragua.net/index.php?option=com_mailto&tmpl=component&link=aHR0cDovL2FkdmVudHVyZS1uaWNhcmFndWEubmV0L2luZGV4LnBocD9vcHRpb249Y29tX2NvbnRlbnQmdmlldz1hcnRpY2xlJmlkPTQ3OmFib3V0JmNhdGlkPTM2OmRlbW8tYXJ0aWNsZXMmSXRlbWlkPTU0   \n",
       "\n",
       "         type  \n",
       "0    phishing  \n",
       "1      benign  \n",
       "2      benign  \n",
       "3  defacement  \n",
       "4  defacement  "
      ]
     },
     "execution_count": 190,
     "metadata": {},
     "output_type": "execute_result"
    }
   ],
   "source": [
    "data = pd.read_csv(\"malicious_phish.csv\")\n",
    "df = data.copy()\n",
    "df.head()"
   ]
  },
  {
   "cell_type": "code",
   "execution_count": 191,
   "id": "3b86a6ba",
   "metadata": {},
   "outputs": [
    {
     "data": {
      "text/plain": [
       "(651191, 2)"
      ]
     },
     "execution_count": 191,
     "metadata": {},
     "output_type": "execute_result"
    }
   ],
   "source": [
    "df.shape"
   ]
  },
  {
   "cell_type": "code",
   "execution_count": 192,
   "id": "35cfae6e",
   "metadata": {},
   "outputs": [
    {
     "name": "stdout",
     "output_type": "stream",
     "text": [
      "<class 'pandas.core.frame.DataFrame'>\n",
      "RangeIndex: 651191 entries, 0 to 651190\n",
      "Data columns (total 2 columns):\n",
      " #   Column  Non-Null Count   Dtype \n",
      "---  ------  --------------   ----- \n",
      " 0   url     651191 non-null  object\n",
      " 1   type    651191 non-null  object\n",
      "dtypes: object(2)\n",
      "memory usage: 9.9+ MB\n"
     ]
    }
   ],
   "source": [
    "df.info()"
   ]
  },
  {
   "cell_type": "code",
   "execution_count": 193,
   "id": "6ddc1191",
   "metadata": {},
   "outputs": [
    {
     "data": {
      "text/html": [
       "<div>\n",
       "<style scoped>\n",
       "    .dataframe tbody tr th:only-of-type {\n",
       "        vertical-align: middle;\n",
       "    }\n",
       "\n",
       "    .dataframe tbody tr th {\n",
       "        vertical-align: top;\n",
       "    }\n",
       "\n",
       "    .dataframe thead th {\n",
       "        text-align: right;\n",
       "    }\n",
       "</style>\n",
       "<table border=\"1\" class=\"dataframe\">\n",
       "  <thead>\n",
       "    <tr style=\"text-align: right;\">\n",
       "      <th></th>\n",
       "      <th>url</th>\n",
       "      <th>type</th>\n",
       "    </tr>\n",
       "  </thead>\n",
       "  <tbody>\n",
       "    <tr>\n",
       "      <th>count</th>\n",
       "      <td>651191</td>\n",
       "      <td>651191</td>\n",
       "    </tr>\n",
       "    <tr>\n",
       "      <th>unique</th>\n",
       "      <td>641119</td>\n",
       "      <td>4</td>\n",
       "    </tr>\n",
       "    <tr>\n",
       "      <th>top</th>\n",
       "      <td>http://style.org.hc360.com/css/detail/mysite/siteconfig/pro_control.css</td>\n",
       "      <td>benign</td>\n",
       "    </tr>\n",
       "    <tr>\n",
       "      <th>freq</th>\n",
       "      <td>180</td>\n",
       "      <td>428103</td>\n",
       "    </tr>\n",
       "  </tbody>\n",
       "</table>\n",
       "</div>"
      ],
      "text/plain": [
       "                                                                            url  \\\n",
       "count                                                                    651191   \n",
       "unique                                                                   641119   \n",
       "top     http://style.org.hc360.com/css/detail/mysite/siteconfig/pro_control.css   \n",
       "freq                                                                        180   \n",
       "\n",
       "          type  \n",
       "count   651191  \n",
       "unique       4  \n",
       "top     benign  \n",
       "freq    428103  "
      ]
     },
     "execution_count": 193,
     "metadata": {},
     "output_type": "execute_result"
    }
   ],
   "source": [
    "df.describe()"
   ]
  },
  {
   "cell_type": "code",
   "execution_count": 194,
   "id": "feb263d6",
   "metadata": {},
   "outputs": [
    {
     "data": {
      "text/plain": [
       "url     object\n",
       "type    object\n",
       "dtype: object"
      ]
     },
     "execution_count": 194,
     "metadata": {},
     "output_type": "execute_result"
    }
   ],
   "source": [
    "df.dtypes"
   ]
  },
  {
   "cell_type": "markdown",
   "id": "d81d2d6a",
   "metadata": {},
   "source": [
    "## checking null values from our dataset"
   ]
  },
  {
   "cell_type": "code",
   "execution_count": 195,
   "id": "c0d7d1e8",
   "metadata": {},
   "outputs": [
    {
     "data": {
      "text/plain": [
       "0"
      ]
     },
     "execution_count": 195,
     "metadata": {},
     "output_type": "execute_result"
    }
   ],
   "source": [
    "df.isna().sum().sum()"
   ]
  },
  {
   "cell_type": "markdown",
   "id": "caeb306d",
   "metadata": {},
   "source": [
    "### There is no null value present in our data"
   ]
  },
  {
   "cell_type": "code",
   "execution_count": 196,
   "id": "cea45821",
   "metadata": {},
   "outputs": [
    {
     "data": {
      "text/plain": [
       "benign        428103\n",
       "defacement     96457\n",
       "phishing       94111\n",
       "malware        32520\n",
       "Name: type, dtype: int64"
      ]
     },
     "execution_count": 196,
     "metadata": {},
     "output_type": "execute_result"
    }
   ],
   "source": [
    "df.type.value_counts()"
   ]
  },
  {
   "cell_type": "code",
   "execution_count": 197,
   "id": "029caf7e",
   "metadata": {},
   "outputs": [],
   "source": [
    "df_phish = df[df.type=='phishing']\n",
    "df_malware = df[df.type=='malware']\n",
    "df_deface = df[df.type=='defacement']\n",
    "df_benign = df[df.type=='benign']"
   ]
  },
  {
   "cell_type": "code",
   "execution_count": 198,
   "id": "33fb679b",
   "metadata": {},
   "outputs": [
    {
     "data": {
      "text/html": [
       "<div>\n",
       "<style scoped>\n",
       "    .dataframe tbody tr th:only-of-type {\n",
       "        vertical-align: middle;\n",
       "    }\n",
       "\n",
       "    .dataframe tbody tr th {\n",
       "        vertical-align: top;\n",
       "    }\n",
       "\n",
       "    .dataframe thead th {\n",
       "        text-align: right;\n",
       "    }\n",
       "</style>\n",
       "<table border=\"1\" class=\"dataframe\">\n",
       "  <thead>\n",
       "    <tr style=\"text-align: right;\">\n",
       "      <th></th>\n",
       "      <th>url</th>\n",
       "      <th>type</th>\n",
       "    </tr>\n",
       "  </thead>\n",
       "  <tbody>\n",
       "    <tr>\n",
       "      <th>0</th>\n",
       "      <td>br-icloud.com.br</td>\n",
       "      <td>phishing</td>\n",
       "    </tr>\n",
       "    <tr>\n",
       "      <th>1</th>\n",
       "      <td>mp3raid.com/music/krizz_kaliko.html</td>\n",
       "      <td>benign</td>\n",
       "    </tr>\n",
       "    <tr>\n",
       "      <th>2</th>\n",
       "      <td>bopsecrets.org/rexroth/cr/1.htm</td>\n",
       "      <td>benign</td>\n",
       "    </tr>\n",
       "    <tr>\n",
       "      <th>3</th>\n",
       "      <td>http://www.garage-pirenne.be/index.php?option=com_content&amp;view=article&amp;id=70&amp;vsig70_0=15</td>\n",
       "      <td>defacement</td>\n",
       "    </tr>\n",
       "    <tr>\n",
       "      <th>4</th>\n",
       "      <td>http://adventure-nicaragua.net/index.php?option=com_mailto&amp;tmpl=component&amp;link=aHR0cDovL2FkdmVudHVyZS1uaWNhcmFndWEubmV0L2luZGV4LnBocD9vcHRpb249Y29tX2NvbnRlbnQmdmlldz1hcnRpY2xlJmlkPTQ3OmFib3V0JmNhdGlkPTM2OmRlbW8tYXJ0aWNsZXMmSXRlbWlkPTU0</td>\n",
       "      <td>defacement</td>\n",
       "    </tr>\n",
       "  </tbody>\n",
       "</table>\n",
       "</div>"
      ],
      "text/plain": [
       "                                                                                                                                                                                                                                           url  \\\n",
       "0                                                                                                                                                                                                                             br-icloud.com.br   \n",
       "1                                                                                                                                                                                                          mp3raid.com/music/krizz_kaliko.html   \n",
       "2                                                                                                                                                                                                              bopsecrets.org/rexroth/cr/1.htm   \n",
       "3                                                                                                                                                     http://www.garage-pirenne.be/index.php?option=com_content&view=article&id=70&vsig70_0=15   \n",
       "4  http://adventure-nicaragua.net/index.php?option=com_mailto&tmpl=component&link=aHR0cDovL2FkdmVudHVyZS1uaWNhcmFndWEubmV0L2luZGV4LnBocD9vcHRpb249Y29tX2NvbnRlbnQmdmlldz1hcnRpY2xlJmlkPTQ3OmFib3V0JmNhdGlkPTM2OmRlbW8tYXJ0aWNsZXMmSXRlbWlkPTU0   \n",
       "\n",
       "         type  \n",
       "0    phishing  \n",
       "1      benign  \n",
       "2      benign  \n",
       "3  defacement  \n",
       "4  defacement  "
      ]
     },
     "execution_count": 198,
     "metadata": {},
     "output_type": "execute_result"
    }
   ],
   "source": [
    "df.head()"
   ]
  },
  {
   "cell_type": "markdown",
   "id": "18ded4d8",
   "metadata": {},
   "source": [
    "### Phishing URL"
   ]
  },
  {
   "cell_type": "markdown",
   "id": "68ef7c86",
   "metadata": {},
   "source": [
    "**Phishing** is a type of social engineering attack often used to steal user data, including login credentials and credit card numbers. It occurs when an attacker, masquerading as a trusted entity, dupes a victim into opening an email, instant message, or text message"
   ]
  },
  {
   "cell_type": "code",
   "execution_count": null,
   "id": "b3270571",
   "metadata": {},
   "outputs": [],
   "source": [
    "phish_url = \" \".join(i for i in df_phish.url)\n",
    "wordcloud = WordCloud(width=1600, height=800,colormap='Paired').generate(phish_url)\n",
    "plt.figure( figsize=(12,14),facecolor='k')\n",
    "plt.imshow(wordcloud, interpolation='bilinear')\n",
    "plt.axis(\"off\")\n",
    "plt.tight_layout(pad=0)\n",
    "plt.show()"
   ]
  },
  {
   "cell_type": "markdown",
   "id": "fa083a76",
   "metadata": {},
   "source": [
    "### Malware URL"
   ]
  },
  {
   "cell_type": "markdown",
   "id": "a963b73e",
   "metadata": {},
   "source": [
    "**Malware** (short for “malicious software”) is a file or code, typically delivered over a network, that infects, explores, steals or conducts virtually any behavior an attacker wants. And because malware comes in so many variants, there are numerous methods to infect computer systems."
   ]
  },
  {
   "cell_type": "code",
   "execution_count": null,
   "id": "3f533768",
   "metadata": {},
   "outputs": [],
   "source": [
    "malware_url = \" \".join(i for i in df_malware.url)\n",
    "wordcloud = WordCloud(width=1600, height=800,colormap='Paired').generate(malware_url)\n",
    "plt.figure( figsize=(12,14),facecolor='k')\n",
    "plt.imshow(wordcloud, interpolation='bilinear')\n",
    "plt.axis(\"off\")\n",
    "plt.tight_layout(pad=0)\n",
    "plt.show()"
   ]
  },
  {
   "cell_type": "markdown",
   "id": "2256d7ef",
   "metadata": {},
   "source": [
    "### Defacement URL"
   ]
  },
  {
   "cell_type": "markdown",
   "id": "91c0aee6",
   "metadata": {},
   "source": [
    "Website **defacements** are the unauthorized modification of web pages, including the addition, removal, or alteration of existing content. These attacks are commonly carried out by hacktivists, who compromise a website or web server and replace or alter the hosted website information with their own messages."
   ]
  },
  {
   "cell_type": "code",
   "execution_count": null,
   "id": "a887f3fc",
   "metadata": {},
   "outputs": [],
   "source": [
    "deface_url = \" \".join(i for i in df_deface.url)\n",
    "wordcloud = WordCloud(width=1600, height=800,colormap='Paired').generate(deface_url)\n",
    "plt.figure( figsize=(12,14),facecolor='k')\n",
    "plt.imshow(wordcloud, interpolation='bilinear')\n",
    "plt.axis(\"off\")\n",
    "plt.tight_layout(pad=0)\n",
    "plt.show()"
   ]
  },
  {
   "cell_type": "markdown",
   "id": "154f8b61",
   "metadata": {},
   "source": [
    "### Benign URL"
   ]
  },
  {
   "cell_type": "markdown",
   "id": "c66330f8",
   "metadata": {},
   "source": [
    "A benign website or URL refers to a website or URL that is considered safe, trustworthy, and does not pose any harm to the user's device or data. Typically, a benign website or URL is not associated with any malicious or harmful activities, such as malware infections, phishing scams, or cyber attacks."
   ]
  },
  {
   "cell_type": "code",
   "execution_count": null,
   "id": "94eb7c6c",
   "metadata": {},
   "outputs": [],
   "source": [
    "benign_url = \" \".join(i for i in df_benign.url)\n",
    "wordcloud = WordCloud(width=1600, height=800,colormap='Paired').generate(benign_url)\n",
    "plt.figure( figsize=(12,14),facecolor='k')\n",
    "plt.imshow(wordcloud, interpolation='bilinear')\n",
    "plt.axis(\"off\")\n",
    "plt.tight_layout(pad=0)\n",
    "plt.show()"
   ]
  },
  {
   "cell_type": "code",
   "execution_count": 121,
   "id": "93d75cb7",
   "metadata": {},
   "outputs": [
    {
     "data": {
      "text/plain": [
       "benign        428103\n",
       "defacement     96457\n",
       "phishing       94111\n",
       "malware        32520\n",
       "Name: type, dtype: int64"
      ]
     },
     "execution_count": 121,
     "metadata": {},
     "output_type": "execute_result"
    }
   ],
   "source": [
    "count = df.type.value_counts()\n",
    "count"
   ]
  },
  {
   "cell_type": "code",
   "execution_count": 122,
   "id": "e5b8e954",
   "metadata": {},
   "outputs": [
    {
     "data": {
      "text/plain": [
       "Index(['benign', 'defacement', 'phishing', 'malware'], dtype='object')"
      ]
     },
     "execution_count": 122,
     "metadata": {},
     "output_type": "execute_result"
    }
   ],
   "source": [
    "x=count.index\n",
    "x"
   ]
  },
  {
   "cell_type": "code",
   "execution_count": 199,
   "id": "f87e497a",
   "metadata": {},
   "outputs": [
    {
     "data": {
      "text/plain": [
       "Text(0, 0.5, 'Count')"
      ]
     },
     "execution_count": 199,
     "metadata": {},
     "output_type": "execute_result"
    },
    {
     "data": {
      "image/png": "[encoded data removed]",
      "text/plain": [
       "<Figure size 640x480 with 1 Axes>"
      ]
     },
     "metadata": {},
     "output_type": "display_data"
    }
   ],
   "source": [
    "sns.barplot(x=count.index, y=count)\n",
    "plt.xlabel('Types')\n",
    "plt.ylabel('Count')"
   ]
  },
  {
   "cell_type": "markdown",
   "id": "55f5cce3",
   "metadata": {},
   "source": [
    "<h4>first have to omit the (www.) from the URL which is in fact a sub domain in itself.</h4>"
   ]
  },
  {
   "attachments": {
    "image.png": {
     "image/png": "[encoded data removed]"
    }
   },
   "cell_type": "markdown",
   "id": "093832a2",
   "metadata": {},
   "source": [
    "![image.png](attachment:image.png)"
   ]
  },
  {
   "cell_type": "markdown",
   "id": "e5a8d890",
   "metadata": {},
   "source": [
    "# **<a id=\"section-3\"></a><font color='3D87A6'> Feature Engineering</font>**"
   ]
  },
  {
   "cell_type": "code",
   "execution_count": 200,
   "id": "7ec6b768",
   "metadata": {},
   "outputs": [],
   "source": [
    "import re\n",
    "#Use of IP or not in domain\n",
    "def having_ip_address(url):\n",
    "    match = re.search(\n",
    "        '(([01]?\\\\d\\\\d?|2[0-4]\\\\d|25[0-5])\\\\.([01]?\\\\d\\\\d?|2[0-4]\\\\d|25[0-5])\\\\.([01]?\\\\d\\\\d?|2[0-4]\\\\d|25[0-5])\\\\.'\n",
    "        '([01]?\\\\d\\\\d?|2[0-4]\\\\d|25[0-5])\\\\/)|'  # IPv4\n",
    "        '((0x[0-9a-fA-F]{1,2})\\\\.(0x[0-9a-fA-F]{1,2})\\\\.(0x[0-9a-fA-F]{1,2})\\\\.(0x[0-9a-fA-F]{1,2})\\\\/)' # IPv4 in hexadecimal\n",
    "        '(?:[a-fA-F0-9]{1,4}:){7}[a-fA-F0-9]{1,4}', url)  # Ipv6\n",
    "    if match:\n",
    "        # print match.group()\n",
    "        return 1\n",
    "    else:\n",
    "        # print 'No matching pattern found'\n",
    "        return 0\n",
    "df['use_of_ip'] = df['url'].apply(lambda i: having_ip_address(i))"
   ]
  },
  {
   "cell_type": "code",
   "execution_count": 201,
   "id": "06e53408",
   "metadata": {},
   "outputs": [],
   "source": [
    "from urllib.parse import urlparse\n",
    "\n",
    "def abnormal_url(url):\n",
    "    hostname = urlparse(url).hostname\n",
    "    hostname = str(hostname)\n",
    "    match = re.search(hostname, url)\n",
    "    if match:\n",
    "        # print match.group()\n",
    "        return 1\n",
    "    else:\n",
    "        # print 'No matching pattern found'\n",
    "        return 0\n",
    "\n",
    "\n",
    "df['abnormal_url'] = df['url'].apply(lambda i: abnormal_url(i))"
   ]
  },
  {
   "cell_type": "code",
   "execution_count": 202,
   "id": "b6a6e925",
   "metadata": {},
   "outputs": [],
   "source": [
    "from googlesearch import search"
   ]
  },
  {
   "cell_type": "code",
   "execution_count": 203,
   "id": "204b5899",
   "metadata": {},
   "outputs": [],
   "source": [
    "def google_index(url):\n",
    "    site = search(url, 5)\n",
    "    return 1 if site else 0\n",
    "df['google_index'] = df['url'].apply(lambda i: google_index(i))"
   ]
  },
  {
   "cell_type": "code",
   "execution_count": 204,
   "id": "b63b34e6",
   "metadata": {},
   "outputs": [
    {
     "data": {
      "text/html": [
       "<div>\n",
       "<style scoped>\n",
       "    .dataframe tbody tr th:only-of-type {\n",
       "        vertical-align: middle;\n",
       "    }\n",
       "\n",
       "    .dataframe tbody tr th {\n",
       "        vertical-align: top;\n",
       "    }\n",
       "\n",
       "    .dataframe thead th {\n",
       "        text-align: right;\n",
       "    }\n",
       "</style>\n",
       "<table border=\"1\" class=\"dataframe\">\n",
       "  <thead>\n",
       "    <tr style=\"text-align: right;\">\n",
       "      <th></th>\n",
       "      <th>url</th>\n",
       "      <th>type</th>\n",
       "      <th>use_of_ip</th>\n",
       "      <th>abnormal_url</th>\n",
       "      <th>google_index</th>\n",
       "      <th>count.</th>\n",
       "    </tr>\n",
       "  </thead>\n",
       "  <tbody>\n",
       "    <tr>\n",
       "      <th>0</th>\n",
       "      <td>br-icloud.com.br</td>\n",
       "      <td>phishing</td>\n",
       "      <td>0</td>\n",
       "      <td>0</td>\n",
       "      <td>1</td>\n",
       "      <td>2</td>\n",
       "    </tr>\n",
       "    <tr>\n",
       "      <th>1</th>\n",
       "      <td>mp3raid.com/music/krizz_kaliko.html</td>\n",
       "      <td>benign</td>\n",
       "      <td>0</td>\n",
       "      <td>0</td>\n",
       "      <td>1</td>\n",
       "      <td>2</td>\n",
       "    </tr>\n",
       "    <tr>\n",
       "      <th>2</th>\n",
       "      <td>bopsecrets.org/rexroth/cr/1.htm</td>\n",
       "      <td>benign</td>\n",
       "      <td>0</td>\n",
       "      <td>0</td>\n",
       "      <td>1</td>\n",
       "      <td>2</td>\n",
       "    </tr>\n",
       "    <tr>\n",
       "      <th>3</th>\n",
       "      <td>http://www.garage-pirenne.be/index.php?option=com_content&amp;view=article&amp;id=70&amp;vsig70_0=15</td>\n",
       "      <td>defacement</td>\n",
       "      <td>0</td>\n",
       "      <td>1</td>\n",
       "      <td>1</td>\n",
       "      <td>3</td>\n",
       "    </tr>\n",
       "    <tr>\n",
       "      <th>4</th>\n",
       "      <td>http://adventure-nicaragua.net/index.php?option=com_mailto&amp;tmpl=component&amp;link=aHR0cDovL2FkdmVudHVyZS1uaWNhcmFndWEubmV0L2luZGV4LnBocD9vcHRpb249Y29tX2NvbnRlbnQmdmlldz1hcnRpY2xlJmlkPTQ3OmFib3V0JmNhdGlkPTM2OmRlbW8tYXJ0aWNsZXMmSXRlbWlkPTU0</td>\n",
       "      <td>defacement</td>\n",
       "      <td>0</td>\n",
       "      <td>1</td>\n",
       "      <td>1</td>\n",
       "      <td>2</td>\n",
       "    </tr>\n",
       "  </tbody>\n",
       "</table>\n",
       "</div>"
      ],
      "text/plain": [
       "                                                                                                                                                                                                                                           url  \\\n",
       "0                                                                                                                                                                                                                             br-icloud.com.br   \n",
       "1                                                                                                                                                                                                          mp3raid.com/music/krizz_kaliko.html   \n",
       "2                                                                                                                                                                                                              bopsecrets.org/rexroth/cr/1.htm   \n",
       "3                                                                                                                                                     http://www.garage-pirenne.be/index.php?option=com_content&view=article&id=70&vsig70_0=15   \n",
       "4  http://adventure-nicaragua.net/index.php?option=com_mailto&tmpl=component&link=aHR0cDovL2FkdmVudHVyZS1uaWNhcmFndWEubmV0L2luZGV4LnBocD9vcHRpb249Y29tX2NvbnRlbnQmdmlldz1hcnRpY2xlJmlkPTQ3OmFib3V0JmNhdGlkPTM2OmRlbW8tYXJ0aWNsZXMmSXRlbWlkPTU0   \n",
       "\n",
       "         type  use_of_ip  abnormal_url  google_index  count.  \n",
       "0    phishing          0             0             1       2  \n",
       "1      benign          0             0             1       2  \n",
       "2      benign          0             0             1       2  \n",
       "3  defacement          0             1             1       3  \n",
       "4  defacement          0             1             1       2  "
      ]
     },
     "execution_count": 204,
     "metadata": {},
     "output_type": "execute_result"
    }
   ],
   "source": [
    "def count_dot(url):\n",
    "    count_dot = url.count('.')\n",
    "    return count_dot\n",
    "\n",
    "df['count.'] = df['url'].apply(lambda i: count_dot(i))\n",
    "df.head()"
   ]
  },
  {
   "cell_type": "code",
   "execution_count": 205,
   "id": "19b2844c",
   "metadata": {},
   "outputs": [],
   "source": [
    "def count_www(url):\n",
    "    url.count('www')\n",
    "    return url.count('www')\n",
    "\n",
    "df['count-www'] = df['url'].apply(lambda i: count_www(i))"
   ]
  },
  {
   "cell_type": "code",
   "execution_count": 206,
   "id": "4e07a7df",
   "metadata": {},
   "outputs": [],
   "source": [
    "def count_atrate(url):\n",
    "     \n",
    "    return url.count('@')\n",
    "\n",
    "df['count@'] = df['url'].apply(lambda i: count_atrate(i))"
   ]
  },
  {
   "cell_type": "code",
   "execution_count": 207,
   "id": "3a910a72",
   "metadata": {},
   "outputs": [],
   "source": [
    "def no_of_dir(url):\n",
    "    urldir = urlparse(url).path\n",
    "    return urldir.count('/')\n",
    "df['count_dir'] = df['url'].apply(lambda i: no_of_dir(i))"
   ]
  },
  {
   "cell_type": "code",
   "execution_count": 208,
   "id": "090669db",
   "metadata": {},
   "outputs": [],
   "source": [
    "def no_of_embed(url):\n",
    "    urldir = urlparse(url).path\n",
    "    return urldir.count('//')\n",
    "\n",
    "df['count_embed_domian'] = df['url'].apply(lambda i: no_of_embed(i))"
   ]
  },
  {
   "cell_type": "code",
   "execution_count": 209,
   "id": "10240104",
   "metadata": {},
   "outputs": [],
   "source": [
    "def shortening_service(url):\n",
    "    match = re.search('bit\\.ly|goo\\.gl|shorte\\.st|go2l\\.ink|x\\.co|ow\\.ly|t\\.co|tinyurl|tr\\.im|is\\.gd|cli\\.gs|'\n",
    "                      'yfrog\\.com|migre\\.me|ff\\.im|tiny\\.cc|url4\\.eu|twit\\.ac|su\\.pr|twurl\\.nl|snipurl\\.com|'\n",
    "                      'short\\.to|BudURL\\.com|ping\\.fm|post\\.ly|Just\\.as|bkite\\.com|snipr\\.com|fic\\.kr|loopt\\.us|'\n",
    "                      'doiop\\.com|short\\.ie|kl\\.am|wp\\.me|rubyurl\\.com|om\\.ly|to\\.ly|bit\\.do|t\\.co|lnkd\\.in|'\n",
    "                      'db\\.tt|qr\\.ae|adf\\.ly|goo\\.gl|bitly\\.com|cur\\.lv|tinyurl\\.com|ow\\.ly|bit\\.ly|ity\\.im|'\n",
    "                      'q\\.gs|is\\.gd|po\\.st|bc\\.vc|twitthis\\.com|u\\.to|j\\.mp|buzurl\\.com|cutt\\.us|u\\.bb|yourls\\.org|'\n",
    "                      'x\\.co|prettylinkpro\\.com|scrnch\\.me|filoops\\.info|vzturl\\.com|qr\\.net|1url\\.com|tweez\\.me|v\\.gd|'\n",
    "                      'tr\\.im|link\\.zip\\.net',\n",
    "                      url)\n",
    "    if match:\n",
    "        return 1\n",
    "    else:\n",
    "        return 0\n",
    "    \n",
    "    \n",
    "df['short_url'] = df['url'].apply(lambda i: shortening_service(i))"
   ]
  },
  {
   "cell_type": "code",
   "execution_count": 210,
   "id": "a6246ad4",
   "metadata": {},
   "outputs": [],
   "source": [
    "def count_https(url):\n",
    "    return url.count('https')\n",
    "\n",
    "df['count-https'] = df['url'].apply(lambda i : count_https(i))"
   ]
  },
  {
   "cell_type": "code",
   "execution_count": 211,
   "id": "afc4915c",
   "metadata": {},
   "outputs": [],
   "source": [
    "def count_http(url):\n",
    "    return url.count('http')\n",
    "\n",
    "df['count-http'] = df['url'].apply(lambda i : count_http(i))"
   ]
  },
  {
   "cell_type": "code",
   "execution_count": 212,
   "id": "b01e708e",
   "metadata": {},
   "outputs": [],
   "source": [
    "def count_per(url):\n",
    "    return url.count('%')\n",
    "\n",
    "df['count%'] = df['url'].apply(lambda i : count_per(i))"
   ]
  },
  {
   "cell_type": "code",
   "execution_count": 213,
   "id": "0e83cb42",
   "metadata": {},
   "outputs": [],
   "source": [
    "def count_ques(url):\n",
    "    return url.count('?')\n",
    "\n",
    "df['count?'] = df['url'].apply(lambda i: count_ques(i))"
   ]
  },
  {
   "cell_type": "code",
   "execution_count": 214,
   "id": "cb382561",
   "metadata": {},
   "outputs": [],
   "source": [
    "def count_hyphen(url):\n",
    "    return url.count('-')\n",
    "\n",
    "df['count-'] = df['url'].apply(lambda i: count_hyphen(i))"
   ]
  },
  {
   "cell_type": "code",
   "execution_count": 215,
   "id": "ab703f2f",
   "metadata": {},
   "outputs": [],
   "source": [
    "def count_equal(url):\n",
    "    return url.count('=')\n",
    "\n",
    "df['count='] = df['url'].apply(lambda i: count_equal(i))"
   ]
  },
  {
   "cell_type": "code",
   "execution_count": 216,
   "id": "28d6f75f",
   "metadata": {},
   "outputs": [],
   "source": [
    "def url_length(url):\n",
    "    return len(str(url))\n",
    "\n",
    "\n",
    "#Length of URL\n",
    "df['url_length'] = df['url'].apply(lambda i: url_length(i))"
   ]
  },
  {
   "cell_type": "code",
   "execution_count": 217,
   "id": "3175c382",
   "metadata": {},
   "outputs": [
    {
     "data": {
      "text/html": [
       "<div>\n",
       "<style scoped>\n",
       "    .dataframe tbody tr th:only-of-type {\n",
       "        vertical-align: middle;\n",
       "    }\n",
       "\n",
       "    .dataframe tbody tr th {\n",
       "        vertical-align: top;\n",
       "    }\n",
       "\n",
       "    .dataframe thead th {\n",
       "        text-align: right;\n",
       "    }\n",
       "</style>\n",
       "<table border=\"1\" class=\"dataframe\">\n",
       "  <thead>\n",
       "    <tr style=\"text-align: right;\">\n",
       "      <th></th>\n",
       "      <th>url</th>\n",
       "      <th>type</th>\n",
       "      <th>use_of_ip</th>\n",
       "      <th>abnormal_url</th>\n",
       "      <th>google_index</th>\n",
       "      <th>count.</th>\n",
       "      <th>count-www</th>\n",
       "      <th>count@</th>\n",
       "      <th>count_dir</th>\n",
       "      <th>count_embed_domian</th>\n",
       "      <th>short_url</th>\n",
       "      <th>count-https</th>\n",
       "      <th>count-http</th>\n",
       "      <th>count%</th>\n",
       "      <th>count?</th>\n",
       "      <th>count-</th>\n",
       "      <th>count=</th>\n",
       "      <th>url_length</th>\n",
       "      <th>hostname_length</th>\n",
       "    </tr>\n",
       "  </thead>\n",
       "  <tbody>\n",
       "    <tr>\n",
       "      <th>0</th>\n",
       "      <td>br-icloud.com.br</td>\n",
       "      <td>phishing</td>\n",
       "      <td>0</td>\n",
       "      <td>0</td>\n",
       "      <td>1</td>\n",
       "      <td>2</td>\n",
       "      <td>0</td>\n",
       "      <td>0</td>\n",
       "      <td>0</td>\n",
       "      <td>0</td>\n",
       "      <td>0</td>\n",
       "      <td>0</td>\n",
       "      <td>0</td>\n",
       "      <td>0</td>\n",
       "      <td>0</td>\n",
       "      <td>1</td>\n",
       "      <td>0</td>\n",
       "      <td>16</td>\n",
       "      <td>0</td>\n",
       "    </tr>\n",
       "    <tr>\n",
       "      <th>1</th>\n",
       "      <td>mp3raid.com/music/krizz_kaliko.html</td>\n",
       "      <td>benign</td>\n",
       "      <td>0</td>\n",
       "      <td>0</td>\n",
       "      <td>1</td>\n",
       "      <td>2</td>\n",
       "      <td>0</td>\n",
       "      <td>0</td>\n",
       "      <td>2</td>\n",
       "      <td>0</td>\n",
       "      <td>0</td>\n",
       "      <td>0</td>\n",
       "      <td>0</td>\n",
       "      <td>0</td>\n",
       "      <td>0</td>\n",
       "      <td>0</td>\n",
       "      <td>0</td>\n",
       "      <td>35</td>\n",
       "      <td>0</td>\n",
       "    </tr>\n",
       "    <tr>\n",
       "      <th>2</th>\n",
       "      <td>bopsecrets.org/rexroth/cr/1.htm</td>\n",
       "      <td>benign</td>\n",
       "      <td>0</td>\n",
       "      <td>0</td>\n",
       "      <td>1</td>\n",
       "      <td>2</td>\n",
       "      <td>0</td>\n",
       "      <td>0</td>\n",
       "      <td>3</td>\n",
       "      <td>0</td>\n",
       "      <td>0</td>\n",
       "      <td>0</td>\n",
       "      <td>0</td>\n",
       "      <td>0</td>\n",
       "      <td>0</td>\n",
       "      <td>0</td>\n",
       "      <td>0</td>\n",
       "      <td>31</td>\n",
       "      <td>0</td>\n",
       "    </tr>\n",
       "    <tr>\n",
       "      <th>3</th>\n",
       "      <td>http://www.garage-pirenne.be/index.php?option=com_content&amp;view=article&amp;id=70&amp;vsig70_0=15</td>\n",
       "      <td>defacement</td>\n",
       "      <td>0</td>\n",
       "      <td>1</td>\n",
       "      <td>1</td>\n",
       "      <td>3</td>\n",
       "      <td>1</td>\n",
       "      <td>0</td>\n",
       "      <td>1</td>\n",
       "      <td>0</td>\n",
       "      <td>0</td>\n",
       "      <td>0</td>\n",
       "      <td>1</td>\n",
       "      <td>0</td>\n",
       "      <td>1</td>\n",
       "      <td>1</td>\n",
       "      <td>4</td>\n",
       "      <td>88</td>\n",
       "      <td>21</td>\n",
       "    </tr>\n",
       "    <tr>\n",
       "      <th>4</th>\n",
       "      <td>http://adventure-nicaragua.net/index.php?option=com_mailto&amp;tmpl=component&amp;link=aHR0cDovL2FkdmVudHVyZS1uaWNhcmFndWEubmV0L2luZGV4LnBocD9vcHRpb249Y29tX2NvbnRlbnQmdmlldz1hcnRpY2xlJmlkPTQ3OmFib3V0JmNhdGlkPTM2OmRlbW8tYXJ0aWNsZXMmSXRlbWlkPTU0</td>\n",
       "      <td>defacement</td>\n",
       "      <td>0</td>\n",
       "      <td>1</td>\n",
       "      <td>1</td>\n",
       "      <td>2</td>\n",
       "      <td>0</td>\n",
       "      <td>0</td>\n",
       "      <td>1</td>\n",
       "      <td>0</td>\n",
       "      <td>0</td>\n",
       "      <td>0</td>\n",
       "      <td>1</td>\n",
       "      <td>0</td>\n",
       "      <td>1</td>\n",
       "      <td>1</td>\n",
       "      <td>3</td>\n",
       "      <td>235</td>\n",
       "      <td>23</td>\n",
       "    </tr>\n",
       "  </tbody>\n",
       "</table>\n",
       "</div>"
      ],
      "text/plain": [
       "                                                                                                                                                                                                                                           url  \\\n",
       "0                                                                                                                                                                                                                             br-icloud.com.br   \n",
       "1                                                                                                                                                                                                          mp3raid.com/music/krizz_kaliko.html   \n",
       "2                                                                                                                                                                                                              bopsecrets.org/rexroth/cr/1.htm   \n",
       "3                                                                                                                                                     http://www.garage-pirenne.be/index.php?option=com_content&view=article&id=70&vsig70_0=15   \n",
       "4  http://adventure-nicaragua.net/index.php?option=com_mailto&tmpl=component&link=aHR0cDovL2FkdmVudHVyZS1uaWNhcmFndWEubmV0L2luZGV4LnBocD9vcHRpb249Y29tX2NvbnRlbnQmdmlldz1hcnRpY2xlJmlkPTQ3OmFib3V0JmNhdGlkPTM2OmRlbW8tYXJ0aWNsZXMmSXRlbWlkPTU0   \n",
       "\n",
       "         type  use_of_ip  abnormal_url  google_index  count.  count-www  \\\n",
       "0    phishing          0             0             1       2          0   \n",
       "1      benign          0             0             1       2          0   \n",
       "2      benign          0             0             1       2          0   \n",
       "3  defacement          0             1             1       3          1   \n",
       "4  defacement          0             1             1       2          0   \n",
       "\n",
       "   count@  count_dir  count_embed_domian  short_url  count-https  count-http  \\\n",
       "0       0          0                   0          0            0           0   \n",
       "1       0          2                   0          0            0           0   \n",
       "2       0          3                   0          0            0           0   \n",
       "3       0          1                   0          0            0           1   \n",
       "4       0          1                   0          0            0           1   \n",
       "\n",
       "   count%  count?  count-  count=  url_length  hostname_length  \n",
       "0       0       0       1       0          16                0  \n",
       "1       0       0       0       0          35                0  \n",
       "2       0       0       0       0          31                0  \n",
       "3       0       1       1       4          88               21  \n",
       "4       0       1       1       3         235               23  "
      ]
     },
     "execution_count": 217,
     "metadata": {},
     "output_type": "execute_result"
    }
   ],
   "source": [
    "#Hostname Length\n",
    "def hostname_length(url):\n",
    "    return len(urlparse(url).netloc)\n",
    "\n",
    "df['hostname_length'] = df['url'].apply(lambda i: hostname_length(i))\n",
    "\n",
    "df.head()"
   ]
  },
  {
   "cell_type": "code",
   "execution_count": 218,
   "id": "0d4ff335",
   "metadata": {},
   "outputs": [],
   "source": [
    "def suspicious_words(url):\n",
    "    match = re.search('PayPal|login|signin|bank|account|update|free|lucky|service|bonus|ebayisapi|webscr',\n",
    "                      url)\n",
    "    if match:\n",
    "        return 1\n",
    "    else:\n",
    "        return 0\n",
    "df['sus_url'] = df['url'].apply(lambda i: suspicious_words(i))"
   ]
  },
  {
   "cell_type": "code",
   "execution_count": 219,
   "id": "f64f3811",
   "metadata": {},
   "outputs": [],
   "source": [
    "def digit_count(url):\n",
    "    digits = 0\n",
    "    for i in url:\n",
    "        if i.isnumeric():\n",
    "            digits = digits + 1\n",
    "    return digits\n",
    "\n",
    "\n",
    "df['count-digits']= df['url'].apply(lambda i: digit_count(i))"
   ]
  },
  {
   "cell_type": "code",
   "execution_count": 220,
   "id": "f5cfa536",
   "metadata": {},
   "outputs": [
    {
     "data": {
      "text/html": [
       "<div>\n",
       "<style scoped>\n",
       "    .dataframe tbody tr th:only-of-type {\n",
       "        vertical-align: middle;\n",
       "    }\n",
       "\n",
       "    .dataframe tbody tr th {\n",
       "        vertical-align: top;\n",
       "    }\n",
       "\n",
       "    .dataframe thead th {\n",
       "        text-align: right;\n",
       "    }\n",
       "</style>\n",
       "<table border=\"1\" class=\"dataframe\">\n",
       "  <thead>\n",
       "    <tr style=\"text-align: right;\">\n",
       "      <th></th>\n",
       "      <th>url</th>\n",
       "      <th>type</th>\n",
       "      <th>use_of_ip</th>\n",
       "      <th>abnormal_url</th>\n",
       "      <th>google_index</th>\n",
       "      <th>count.</th>\n",
       "      <th>count-www</th>\n",
       "      <th>count@</th>\n",
       "      <th>count_dir</th>\n",
       "      <th>count_embed_domian</th>\n",
       "      <th>short_url</th>\n",
       "      <th>count-https</th>\n",
       "      <th>count-http</th>\n",
       "      <th>count%</th>\n",
       "      <th>count?</th>\n",
       "      <th>count-</th>\n",
       "      <th>count=</th>\n",
       "      <th>url_length</th>\n",
       "      <th>hostname_length</th>\n",
       "      <th>sus_url</th>\n",
       "      <th>count-digits</th>\n",
       "      <th>count-letters</th>\n",
       "    </tr>\n",
       "  </thead>\n",
       "  <tbody>\n",
       "    <tr>\n",
       "      <th>0</th>\n",
       "      <td>br-icloud.com.br</td>\n",
       "      <td>phishing</td>\n",
       "      <td>0</td>\n",
       "      <td>0</td>\n",
       "      <td>1</td>\n",
       "      <td>2</td>\n",
       "      <td>0</td>\n",
       "      <td>0</td>\n",
       "      <td>0</td>\n",
       "      <td>0</td>\n",
       "      <td>0</td>\n",
       "      <td>0</td>\n",
       "      <td>0</td>\n",
       "      <td>0</td>\n",
       "      <td>0</td>\n",
       "      <td>1</td>\n",
       "      <td>0</td>\n",
       "      <td>16</td>\n",
       "      <td>0</td>\n",
       "      <td>0</td>\n",
       "      <td>0</td>\n",
       "      <td>13</td>\n",
       "    </tr>\n",
       "    <tr>\n",
       "      <th>1</th>\n",
       "      <td>mp3raid.com/music/krizz_kaliko.html</td>\n",
       "      <td>benign</td>\n",
       "      <td>0</td>\n",
       "      <td>0</td>\n",
       "      <td>1</td>\n",
       "      <td>2</td>\n",
       "      <td>0</td>\n",
       "      <td>0</td>\n",
       "      <td>2</td>\n",
       "      <td>0</td>\n",
       "      <td>0</td>\n",
       "      <td>0</td>\n",
       "      <td>0</td>\n",
       "      <td>0</td>\n",
       "      <td>0</td>\n",
       "      <td>0</td>\n",
       "      <td>0</td>\n",
       "      <td>35</td>\n",
       "      <td>0</td>\n",
       "      <td>0</td>\n",
       "      <td>1</td>\n",
       "      <td>29</td>\n",
       "    </tr>\n",
       "    <tr>\n",
       "      <th>2</th>\n",
       "      <td>bopsecrets.org/rexroth/cr/1.htm</td>\n",
       "      <td>benign</td>\n",
       "      <td>0</td>\n",
       "      <td>0</td>\n",
       "      <td>1</td>\n",
       "      <td>2</td>\n",
       "      <td>0</td>\n",
       "      <td>0</td>\n",
       "      <td>3</td>\n",
       "      <td>0</td>\n",
       "      <td>0</td>\n",
       "      <td>0</td>\n",
       "      <td>0</td>\n",
       "      <td>0</td>\n",
       "      <td>0</td>\n",
       "      <td>0</td>\n",
       "      <td>0</td>\n",
       "      <td>31</td>\n",
       "      <td>0</td>\n",
       "      <td>0</td>\n",
       "      <td>1</td>\n",
       "      <td>25</td>\n",
       "    </tr>\n",
       "    <tr>\n",
       "      <th>3</th>\n",
       "      <td>http://www.garage-pirenne.be/index.php?option=com_content&amp;view=article&amp;id=70&amp;vsig70_0=15</td>\n",
       "      <td>defacement</td>\n",
       "      <td>0</td>\n",
       "      <td>1</td>\n",
       "      <td>1</td>\n",
       "      <td>3</td>\n",
       "      <td>1</td>\n",
       "      <td>0</td>\n",
       "      <td>1</td>\n",
       "      <td>0</td>\n",
       "      <td>0</td>\n",
       "      <td>0</td>\n",
       "      <td>1</td>\n",
       "      <td>0</td>\n",
       "      <td>1</td>\n",
       "      <td>1</td>\n",
       "      <td>4</td>\n",
       "      <td>88</td>\n",
       "      <td>21</td>\n",
       "      <td>0</td>\n",
       "      <td>7</td>\n",
       "      <td>63</td>\n",
       "    </tr>\n",
       "    <tr>\n",
       "      <th>4</th>\n",
       "      <td>http://adventure-nicaragua.net/index.php?option=com_mailto&amp;tmpl=component&amp;link=aHR0cDovL2FkdmVudHVyZS1uaWNhcmFndWEubmV0L2luZGV4LnBocD9vcHRpb249Y29tX2NvbnRlbnQmdmlldz1hcnRpY2xlJmlkPTQ3OmFib3V0JmNhdGlkPTM2OmRlbW8tYXJ0aWNsZXMmSXRlbWlkPTU0</td>\n",
       "      <td>defacement</td>\n",
       "      <td>0</td>\n",
       "      <td>1</td>\n",
       "      <td>1</td>\n",
       "      <td>2</td>\n",
       "      <td>0</td>\n",
       "      <td>0</td>\n",
       "      <td>1</td>\n",
       "      <td>0</td>\n",
       "      <td>0</td>\n",
       "      <td>0</td>\n",
       "      <td>1</td>\n",
       "      <td>0</td>\n",
       "      <td>1</td>\n",
       "      <td>1</td>\n",
       "      <td>3</td>\n",
       "      <td>235</td>\n",
       "      <td>23</td>\n",
       "      <td>0</td>\n",
       "      <td>22</td>\n",
       "      <td>199</td>\n",
       "    </tr>\n",
       "  </tbody>\n",
       "</table>\n",
       "</div>"
      ],
      "text/plain": [
       "                                                                                                                                                                                                                                           url  \\\n",
       "0                                                                                                                                                                                                                             br-icloud.com.br   \n",
       "1                                                                                                                                                                                                          mp3raid.com/music/krizz_kaliko.html   \n",
       "2                                                                                                                                                                                                              bopsecrets.org/rexroth/cr/1.htm   \n",
       "3                                                                                                                                                     http://www.garage-pirenne.be/index.php?option=com_content&view=article&id=70&vsig70_0=15   \n",
       "4  http://adventure-nicaragua.net/index.php?option=com_mailto&tmpl=component&link=aHR0cDovL2FkdmVudHVyZS1uaWNhcmFndWEubmV0L2luZGV4LnBocD9vcHRpb249Y29tX2NvbnRlbnQmdmlldz1hcnRpY2xlJmlkPTQ3OmFib3V0JmNhdGlkPTM2OmRlbW8tYXJ0aWNsZXMmSXRlbWlkPTU0   \n",
       "\n",
       "         type  use_of_ip  abnormal_url  google_index  count.  count-www  \\\n",
       "0    phishing          0             0             1       2          0   \n",
       "1      benign          0             0             1       2          0   \n",
       "2      benign          0             0             1       2          0   \n",
       "3  defacement          0             1             1       3          1   \n",
       "4  defacement          0             1             1       2          0   \n",
       "\n",
       "   count@  count_dir  count_embed_domian  short_url  count-https  count-http  \\\n",
       "0       0          0                   0          0            0           0   \n",
       "1       0          2                   0          0            0           0   \n",
       "2       0          3                   0          0            0           0   \n",
       "3       0          1                   0          0            0           1   \n",
       "4       0          1                   0          0            0           1   \n",
       "\n",
       "   count%  count?  count-  count=  url_length  hostname_length  sus_url  \\\n",
       "0       0       0       1       0          16                0        0   \n",
       "1       0       0       0       0          35                0        0   \n",
       "2       0       0       0       0          31                0        0   \n",
       "3       0       1       1       4          88               21        0   \n",
       "4       0       1       1       3         235               23        0   \n",
       "\n",
       "   count-digits  count-letters  \n",
       "0             0             13  \n",
       "1             1             29  \n",
       "2             1             25  \n",
       "3             7             63  \n",
       "4            22            199  "
      ]
     },
     "execution_count": 220,
     "metadata": {},
     "output_type": "execute_result"
    }
   ],
   "source": [
    "def letter_count(url):\n",
    "    letters = 0\n",
    "    for i in url:\n",
    "        if i.isalpha():\n",
    "            letters = letters + 1\n",
    "    return letters\n",
    "\n",
    "\n",
    "df['count-letters']= df['url'].apply(lambda i: letter_count(i))\n",
    "\n",
    "df.head()"
   ]
  },
  {
   "cell_type": "code",
   "execution_count": 221,
   "id": "e65af486",
   "metadata": {},
   "outputs": [],
   "source": [
    "#Importing dependencies\n",
    "from urllib.parse import urlparse\n",
    "from tld import get_tld\n",
    "import os.path\n",
    "\n",
    "#First Directory Length\n",
    "def fd_length(url):\n",
    "    urlpath= urlparse(url).path\n",
    "    try:\n",
    "        return len(urlpath.split('/')[1])\n",
    "    except:\n",
    "        return 0\n",
    "\n",
    "df['fd_length'] = df['url'].apply(lambda i: fd_length(i))\n",
    "\n",
    "#Length of Top Level Domain\n",
    "df['tld'] = df['url'].apply(lambda i: get_tld(i,fail_silently=True))"
   ]
  },
  {
   "cell_type": "code",
   "execution_count": 222,
   "id": "6ab792de",
   "metadata": {},
   "outputs": [],
   "source": [
    "def tld_length(tld):\n",
    "    try:\n",
    "        return len(tld)\n",
    "    except:\n",
    "        return -1\n",
    "\n",
    "df['tld_length'] = df['tld'].apply(lambda i: tld_length(i))"
   ]
  },
  {
   "cell_type": "code",
   "execution_count": 223,
   "id": "86912c92",
   "metadata": {},
   "outputs": [],
   "source": [
    "df = df.drop(\"tld\",1)"
   ]
  },
  {
   "cell_type": "code",
   "execution_count": 224,
   "id": "1213d689",
   "metadata": {},
   "outputs": [
    {
     "data": {
      "text/plain": [
       "Index(['url', 'type', 'use_of_ip', 'abnormal_url', 'google_index', 'count.',\n",
       "       'count-www', 'count@', 'count_dir', 'count_embed_domian', 'short_url',\n",
       "       'count-https', 'count-http', 'count%', 'count?', 'count-', 'count=',\n",
       "       'url_length', 'hostname_length', 'sus_url', 'count-digits',\n",
       "       'count-letters', 'fd_length', 'tld_length'],\n",
       "      dtype='object')"
      ]
     },
     "execution_count": 224,
     "metadata": {},
     "output_type": "execute_result"
    }
   ],
   "source": [
    "df.columns"
   ]
  },
  {
   "cell_type": "code",
   "execution_count": 225,
   "id": "080dc175",
   "metadata": {},
   "outputs": [
    {
     "data": {
      "text/plain": [
       "benign        428103\n",
       "defacement     96457\n",
       "phishing       94111\n",
       "malware        32520\n",
       "Name: type, dtype: int64"
      ]
     },
     "execution_count": 225,
     "metadata": {},
     "output_type": "execute_result"
    }
   ],
   "source": [
    "df['type'].value_counts()"
   ]
  },
  {
   "cell_type": "markdown",
   "id": "cb567c04",
   "metadata": {},
   "source": [
    "# **<a id=\"4\"></a><font color='3D87A6'> EDA</font>**"
   ]
  },
  {
   "cell_type": "markdown",
   "id": "3bf854f5",
   "metadata": {},
   "source": [
    "## 1. Distribution of use_of_ip"
   ]
  },
  {
   "cell_type": "code",
   "execution_count": null,
   "id": "eb52911f",
   "metadata": {},
   "outputs": [],
   "source": [
    "import seaborn as sns\n",
    "sns.set(style=\"darkgrid\")\n",
    "ax = sns.countplot(y=\"type\", data=df,hue=\"use_of_ip\")\n"
   ]
  },
  {
   "cell_type": "markdown",
   "id": "529a6e8d",
   "metadata": {},
   "source": [
    "## 2. Distribution of abnormal url"
   ]
  },
  {
   "cell_type": "code",
   "execution_count": null,
   "id": "02e850d0",
   "metadata": {},
   "outputs": [],
   "source": [
    "sns.set(style=\"darkgrid\")\n",
    "ax = sns.countplot(y=\"type\", data=df,hue=\"abnormal_url\")\n"
   ]
  },
  {
   "cell_type": "markdown",
   "id": "f2838b33",
   "metadata": {},
   "source": [
    "## 3. Distribution of Google Index"
   ]
  },
  {
   "cell_type": "code",
   "execution_count": null,
   "id": "5d42701a",
   "metadata": {},
   "outputs": [],
   "source": [
    "sns.set(style=\"darkgrid\")\n",
    "ax = sns.countplot(y=\"type\", data=df,hue=\"google_index\")"
   ]
  },
  {
   "cell_type": "markdown",
   "id": "2f5ca774",
   "metadata": {},
   "source": [
    "## 4. Distribution of Shorl URL"
   ]
  },
  {
   "cell_type": "code",
   "execution_count": null,
   "id": "1d15b666",
   "metadata": {},
   "outputs": [],
   "source": [
    "sns.set(style=\"darkgrid\")\n",
    "ax = sns.countplot(y=\"type\", data=df,hue=\"short_url\")"
   ]
  },
  {
   "cell_type": "markdown",
   "id": "80ae38c1",
   "metadata": {},
   "source": [
    "## 5. Distribution of Suspicious URL"
   ]
  },
  {
   "cell_type": "code",
   "execution_count": null,
   "id": "ce80c640",
   "metadata": {},
   "outputs": [],
   "source": [
    "sns.set(style=\"darkgrid\")\n",
    "ax = sns.countplot(y=\"type\", data=df,hue=\"sus_url\")"
   ]
  },
  {
   "cell_type": "markdown",
   "id": "056ca23a",
   "metadata": {},
   "source": [
    "## 6. Distribution of count of [.] dot"
   ]
  },
  {
   "cell_type": "code",
   "execution_count": null,
   "id": "b726818b",
   "metadata": {},
   "outputs": [],
   "source": [
    "sns.set(style=\"darkgrid\")\n",
    "ax = sns.catplot(x=\"type\", y=\"count.\", kind=\"box\", data=df)"
   ]
  },
  {
   "cell_type": "markdown",
   "id": "331462fd",
   "metadata": {},
   "source": [
    "## 7. Distribution of count-www"
   ]
  },
  {
   "cell_type": "code",
   "execution_count": null,
   "id": "ac823355",
   "metadata": {},
   "outputs": [],
   "source": [
    "sns.set(style=\"darkgrid\")\n",
    "ax = sns.catplot(x=\"type\", y=\"count-www\", kind=\"box\", data=df)"
   ]
  },
  {
   "cell_type": "markdown",
   "id": "62dd371f",
   "metadata": {},
   "source": [
    "## 8. Distribution of count@"
   ]
  },
  {
   "cell_type": "code",
   "execution_count": null,
   "id": "5dcdf5cb",
   "metadata": {},
   "outputs": [],
   "source": [
    "sns.set(style=\"darkgrid\")\n",
    "ax = sns.catplot(x=\"type\", y=\"count@\", kind=\"box\", data=df)"
   ]
  },
  {
   "cell_type": "markdown",
   "id": "012718e6",
   "metadata": {},
   "source": [
    "## 9. Distribution of count_dir"
   ]
  },
  {
   "cell_type": "code",
   "execution_count": null,
   "id": "95bcafd0",
   "metadata": {},
   "outputs": [],
   "source": [
    "sns.set(style=\"darkgrid\")\n",
    "ax = sns.catplot(x=\"type\", y=\"count_dir\", kind=\"box\", data=df)"
   ]
  },
  {
   "cell_type": "markdown",
   "id": "1aa56826",
   "metadata": {},
   "source": [
    "## 10. Distribution of hostname length"
   ]
  },
  {
   "cell_type": "code",
   "execution_count": null,
   "id": "99a82e20",
   "metadata": {},
   "outputs": [],
   "source": [
    "sns.set(style=\"darkgrid\")\n",
    "ax = sns.catplot(x=\"type\", y=\"hostname_length\", kind=\"box\", data=df)"
   ]
  },
  {
   "cell_type": "markdown",
   "id": "e100ded2",
   "metadata": {},
   "source": [
    "## 11. Distribution of first directory length"
   ]
  },
  {
   "cell_type": "code",
   "execution_count": null,
   "id": "4253aa0d",
   "metadata": {},
   "outputs": [],
   "source": [
    "sns.set(style=\"darkgrid\")\n",
    "ax = sns.catplot(x=\"type\", y=\"fd_length\", kind=\"box\", data=df)"
   ]
  },
  {
   "cell_type": "markdown",
   "id": "ab3ad926",
   "metadata": {},
   "source": [
    "## 12. Distribution of top-level domain length"
   ]
  },
  {
   "cell_type": "code",
   "execution_count": null,
   "id": "9331f76a",
   "metadata": {},
   "outputs": [],
   "source": [
    "sns.set(style=\"darkgrid\")\n",
    "ax = sns.catplot(x=\"type\", y=\"tld_length\", kind=\"box\", data=df)"
   ]
  },
  {
   "cell_type": "markdown",
   "id": "214ab4ab",
   "metadata": {},
   "source": [
    "# **<a id=\"section-5\"></a><font color='3D87A6'> Target Encoding</font>**"
   ]
  },
  {
   "cell_type": "code",
   "execution_count": 226,
   "id": "e884bc17",
   "metadata": {},
   "outputs": [
    {
     "data": {
      "text/plain": [
       "0    428103\n",
       "1     96457\n",
       "3     94111\n",
       "2     32520\n",
       "Name: type_code, dtype: int64"
      ]
     },
     "execution_count": 226,
     "metadata": {},
     "output_type": "execute_result"
    }
   ],
   "source": [
    "from sklearn.preprocessing import LabelEncoder\n",
    "\n",
    "lb_make = LabelEncoder()\n",
    "df[\"type_code\"] = lb_make.fit_transform(df[\"type\"])\n",
    "df[\"type_code\"].value_counts()\n",
    "\n"
   ]
  },
  {
   "cell_type": "markdown",
   "id": "3af8a28e",
   "metadata": {},
   "source": [
    "# **<a id=\"section-6\"></a><font color='3D87A6'> Creation of Dataframe (Features and Target) </font>**"
   ]
  },
  {
   "cell_type": "code",
   "execution_count": 227,
   "id": "9a007f1d",
   "metadata": {},
   "outputs": [],
   "source": [
    "df = df[['use_of_ip','abnormal_url', 'count.', 'count-www', 'count@',\n",
    "       'count_dir', 'count_embed_domian', 'short_url', 'count-https',\n",
    "       'count-http', 'count%', 'count?', 'count-', 'count=', 'url_length',\n",
    "       'hostname_length', 'sus_url', 'fd_length', 'tld_length', 'count-digits',\n",
    "       'count-letters','type_code']]"
   ]
  },
  {
   "cell_type": "code",
   "execution_count": 228,
   "id": "1cd710b3",
   "metadata": {},
   "outputs": [
    {
     "data": {
      "text/html": [
       "<div>\n",
       "<style scoped>\n",
       "    .dataframe tbody tr th:only-of-type {\n",
       "        vertical-align: middle;\n",
       "    }\n",
       "\n",
       "    .dataframe tbody tr th {\n",
       "        vertical-align: top;\n",
       "    }\n",
       "\n",
       "    .dataframe thead th {\n",
       "        text-align: right;\n",
       "    }\n",
       "</style>\n",
       "<table border=\"1\" class=\"dataframe\">\n",
       "  <thead>\n",
       "    <tr style=\"text-align: right;\">\n",
       "      <th></th>\n",
       "      <th>use_of_ip</th>\n",
       "      <th>abnormal_url</th>\n",
       "      <th>count.</th>\n",
       "      <th>count-www</th>\n",
       "      <th>count@</th>\n",
       "      <th>count_dir</th>\n",
       "      <th>count_embed_domian</th>\n",
       "      <th>short_url</th>\n",
       "      <th>count-https</th>\n",
       "      <th>count-http</th>\n",
       "      <th>count%</th>\n",
       "      <th>count?</th>\n",
       "      <th>count-</th>\n",
       "      <th>count=</th>\n",
       "      <th>url_length</th>\n",
       "      <th>hostname_length</th>\n",
       "      <th>sus_url</th>\n",
       "      <th>fd_length</th>\n",
       "      <th>tld_length</th>\n",
       "      <th>count-digits</th>\n",
       "      <th>count-letters</th>\n",
       "      <th>type_code</th>\n",
       "    </tr>\n",
       "  </thead>\n",
       "  <tbody>\n",
       "    <tr>\n",
       "      <th>0</th>\n",
       "      <td>0</td>\n",
       "      <td>0</td>\n",
       "      <td>2</td>\n",
       "      <td>0</td>\n",
       "      <td>0</td>\n",
       "      <td>0</td>\n",
       "      <td>0</td>\n",
       "      <td>0</td>\n",
       "      <td>0</td>\n",
       "      <td>0</td>\n",
       "      <td>0</td>\n",
       "      <td>0</td>\n",
       "      <td>1</td>\n",
       "      <td>0</td>\n",
       "      <td>16</td>\n",
       "      <td>0</td>\n",
       "      <td>0</td>\n",
       "      <td>0</td>\n",
       "      <td>-1</td>\n",
       "      <td>0</td>\n",
       "      <td>13</td>\n",
       "      <td>3</td>\n",
       "    </tr>\n",
       "    <tr>\n",
       "      <th>1</th>\n",
       "      <td>0</td>\n",
       "      <td>0</td>\n",
       "      <td>2</td>\n",
       "      <td>0</td>\n",
       "      <td>0</td>\n",
       "      <td>2</td>\n",
       "      <td>0</td>\n",
       "      <td>0</td>\n",
       "      <td>0</td>\n",
       "      <td>0</td>\n",
       "      <td>0</td>\n",
       "      <td>0</td>\n",
       "      <td>0</td>\n",
       "      <td>0</td>\n",
       "      <td>35</td>\n",
       "      <td>0</td>\n",
       "      <td>0</td>\n",
       "      <td>5</td>\n",
       "      <td>-1</td>\n",
       "      <td>1</td>\n",
       "      <td>29</td>\n",
       "      <td>0</td>\n",
       "    </tr>\n",
       "    <tr>\n",
       "      <th>2</th>\n",
       "      <td>0</td>\n",
       "      <td>0</td>\n",
       "      <td>2</td>\n",
       "      <td>0</td>\n",
       "      <td>0</td>\n",
       "      <td>3</td>\n",
       "      <td>0</td>\n",
       "      <td>0</td>\n",
       "      <td>0</td>\n",
       "      <td>0</td>\n",
       "      <td>0</td>\n",
       "      <td>0</td>\n",
       "      <td>0</td>\n",
       "      <td>0</td>\n",
       "      <td>31</td>\n",
       "      <td>0</td>\n",
       "      <td>0</td>\n",
       "      <td>7</td>\n",
       "      <td>-1</td>\n",
       "      <td>1</td>\n",
       "      <td>25</td>\n",
       "      <td>0</td>\n",
       "    </tr>\n",
       "    <tr>\n",
       "      <th>3</th>\n",
       "      <td>0</td>\n",
       "      <td>1</td>\n",
       "      <td>3</td>\n",
       "      <td>1</td>\n",
       "      <td>0</td>\n",
       "      <td>1</td>\n",
       "      <td>0</td>\n",
       "      <td>0</td>\n",
       "      <td>0</td>\n",
       "      <td>1</td>\n",
       "      <td>0</td>\n",
       "      <td>1</td>\n",
       "      <td>1</td>\n",
       "      <td>4</td>\n",
       "      <td>88</td>\n",
       "      <td>21</td>\n",
       "      <td>0</td>\n",
       "      <td>9</td>\n",
       "      <td>2</td>\n",
       "      <td>7</td>\n",
       "      <td>63</td>\n",
       "      <td>1</td>\n",
       "    </tr>\n",
       "    <tr>\n",
       "      <th>4</th>\n",
       "      <td>0</td>\n",
       "      <td>1</td>\n",
       "      <td>2</td>\n",
       "      <td>0</td>\n",
       "      <td>0</td>\n",
       "      <td>1</td>\n",
       "      <td>0</td>\n",
       "      <td>0</td>\n",
       "      <td>0</td>\n",
       "      <td>1</td>\n",
       "      <td>0</td>\n",
       "      <td>1</td>\n",
       "      <td>1</td>\n",
       "      <td>3</td>\n",
       "      <td>235</td>\n",
       "      <td>23</td>\n",
       "      <td>0</td>\n",
       "      <td>9</td>\n",
       "      <td>3</td>\n",
       "      <td>22</td>\n",
       "      <td>199</td>\n",
       "      <td>1</td>\n",
       "    </tr>\n",
       "  </tbody>\n",
       "</table>\n",
       "</div>"
      ],
      "text/plain": [
       "   use_of_ip  abnormal_url  count.  count-www  count@  count_dir  \\\n",
       "0          0             0       2          0       0          0   \n",
       "1          0             0       2          0       0          2   \n",
       "2          0             0       2          0       0          3   \n",
       "3          0             1       3          1       0          1   \n",
       "4          0             1       2          0       0          1   \n",
       "\n",
       "   count_embed_domian  short_url  count-https  count-http  count%  count?  \\\n",
       "0                   0          0            0           0       0       0   \n",
       "1                   0          0            0           0       0       0   \n",
       "2                   0          0            0           0       0       0   \n",
       "3                   0          0            0           1       0       1   \n",
       "4                   0          0            0           1       0       1   \n",
       "\n",
       "   count-  count=  url_length  hostname_length  sus_url  fd_length  \\\n",
       "0       1       0          16                0        0          0   \n",
       "1       0       0          35                0        0          5   \n",
       "2       0       0          31                0        0          7   \n",
       "3       1       4          88               21        0          9   \n",
       "4       1       3         235               23        0          9   \n",
       "\n",
       "   tld_length  count-digits  count-letters  type_code  \n",
       "0          -1             0             13          3  \n",
       "1          -1             1             29          0  \n",
       "2          -1             1             25          0  \n",
       "3           2             7             63          1  \n",
       "4           3            22            199          1  "
      ]
     },
     "execution_count": 228,
     "metadata": {},
     "output_type": "execute_result"
    }
   ],
   "source": [
    "df.head()"
   ]
  },
  {
   "cell_type": "markdown",
   "id": "01af5f52",
   "metadata": {},
   "source": [
    "# **<a id=\"section-7\"></a><font color='3D87A6'> Scaling of Data </font>**"
   ]
  },
  {
   "cell_type": "code",
   "execution_count": 229,
   "id": "fde8095c",
   "metadata": {},
   "outputs": [],
   "source": [
    "#Predictor Variables\n",
    "# filtering out google_index as it has only 1 value\n",
    "x = df.drop(\"type_code\",axis=1)\n",
    "#Target Variable\n",
    "y = df['type_code']"
   ]
  },
  {
   "cell_type": "code",
   "execution_count": 230,
   "id": "45db906e",
   "metadata": {},
   "outputs": [],
   "source": [
    "from sklearn.preprocessing import MinMaxScaler"
   ]
  },
  {
   "cell_type": "code",
   "execution_count": 231,
   "id": "5f886794",
   "metadata": {},
   "outputs": [
    {
     "data": {
      "text/html": [
       "<div>\n",
       "<style scoped>\n",
       "    .dataframe tbody tr th:only-of-type {\n",
       "        vertical-align: middle;\n",
       "    }\n",
       "\n",
       "    .dataframe tbody tr th {\n",
       "        vertical-align: top;\n",
       "    }\n",
       "\n",
       "    .dataframe thead th {\n",
       "        text-align: right;\n",
       "    }\n",
       "</style>\n",
       "<table border=\"1\" class=\"dataframe\">\n",
       "  <thead>\n",
       "    <tr style=\"text-align: right;\">\n",
       "      <th></th>\n",
       "      <th>use_of_ip</th>\n",
       "      <th>abnormal_url</th>\n",
       "      <th>count.</th>\n",
       "      <th>count-www</th>\n",
       "      <th>count@</th>\n",
       "      <th>count_dir</th>\n",
       "      <th>count_embed_domian</th>\n",
       "      <th>short_url</th>\n",
       "      <th>count-https</th>\n",
       "      <th>count-http</th>\n",
       "      <th>count%</th>\n",
       "      <th>count?</th>\n",
       "      <th>count-</th>\n",
       "      <th>count=</th>\n",
       "      <th>url_length</th>\n",
       "      <th>hostname_length</th>\n",
       "      <th>sus_url</th>\n",
       "      <th>fd_length</th>\n",
       "      <th>tld_length</th>\n",
       "      <th>count-digits</th>\n",
       "      <th>count-letters</th>\n",
       "    </tr>\n",
       "  </thead>\n",
       "  <tbody>\n",
       "    <tr>\n",
       "      <th>0</th>\n",
       "      <td>0.0</td>\n",
       "      <td>0.0</td>\n",
       "      <td>0.047619</td>\n",
       "      <td>0.0</td>\n",
       "      <td>0.0</td>\n",
       "      <td>0.000000</td>\n",
       "      <td>0.0</td>\n",
       "      <td>0.0</td>\n",
       "      <td>0.0</td>\n",
       "      <td>0.000000</td>\n",
       "      <td>0.0</td>\n",
       "      <td>0.00</td>\n",
       "      <td>0.011494</td>\n",
       "      <td>0.000000</td>\n",
       "      <td>0.006900</td>\n",
       "      <td>0.000000</td>\n",
       "      <td>0.0</td>\n",
       "      <td>0.000000</td>\n",
       "      <td>0.000</td>\n",
       "      <td>0.000000</td>\n",
       "      <td>0.006072</td>\n",
       "    </tr>\n",
       "    <tr>\n",
       "      <th>1</th>\n",
       "      <td>0.0</td>\n",
       "      <td>0.0</td>\n",
       "      <td>0.047619</td>\n",
       "      <td>0.0</td>\n",
       "      <td>0.0</td>\n",
       "      <td>0.051282</td>\n",
       "      <td>0.0</td>\n",
       "      <td>0.0</td>\n",
       "      <td>0.0</td>\n",
       "      <td>0.000000</td>\n",
       "      <td>0.0</td>\n",
       "      <td>0.00</td>\n",
       "      <td>0.000000</td>\n",
       "      <td>0.000000</td>\n",
       "      <td>0.015639</td>\n",
       "      <td>0.000000</td>\n",
       "      <td>0.0</td>\n",
       "      <td>0.012255</td>\n",
       "      <td>0.000</td>\n",
       "      <td>0.000831</td>\n",
       "      <td>0.013545</td>\n",
       "    </tr>\n",
       "    <tr>\n",
       "      <th>2</th>\n",
       "      <td>0.0</td>\n",
       "      <td>0.0</td>\n",
       "      <td>0.047619</td>\n",
       "      <td>0.0</td>\n",
       "      <td>0.0</td>\n",
       "      <td>0.076923</td>\n",
       "      <td>0.0</td>\n",
       "      <td>0.0</td>\n",
       "      <td>0.0</td>\n",
       "      <td>0.000000</td>\n",
       "      <td>0.0</td>\n",
       "      <td>0.00</td>\n",
       "      <td>0.000000</td>\n",
       "      <td>0.000000</td>\n",
       "      <td>0.013799</td>\n",
       "      <td>0.000000</td>\n",
       "      <td>0.0</td>\n",
       "      <td>0.017157</td>\n",
       "      <td>0.000</td>\n",
       "      <td>0.000831</td>\n",
       "      <td>0.011677</td>\n",
       "    </tr>\n",
       "    <tr>\n",
       "      <th>3</th>\n",
       "      <td>0.0</td>\n",
       "      <td>1.0</td>\n",
       "      <td>0.071429</td>\n",
       "      <td>0.2</td>\n",
       "      <td>0.0</td>\n",
       "      <td>0.025641</td>\n",
       "      <td>0.0</td>\n",
       "      <td>0.0</td>\n",
       "      <td>0.0</td>\n",
       "      <td>0.111111</td>\n",
       "      <td>0.0</td>\n",
       "      <td>0.05</td>\n",
       "      <td>0.011494</td>\n",
       "      <td>0.078431</td>\n",
       "      <td>0.040018</td>\n",
       "      <td>0.088983</td>\n",
       "      <td>0.0</td>\n",
       "      <td>0.022059</td>\n",
       "      <td>0.075</td>\n",
       "      <td>0.005814</td>\n",
       "      <td>0.029426</td>\n",
       "    </tr>\n",
       "    <tr>\n",
       "      <th>4</th>\n",
       "      <td>0.0</td>\n",
       "      <td>1.0</td>\n",
       "      <td>0.047619</td>\n",
       "      <td>0.0</td>\n",
       "      <td>0.0</td>\n",
       "      <td>0.025641</td>\n",
       "      <td>0.0</td>\n",
       "      <td>0.0</td>\n",
       "      <td>0.0</td>\n",
       "      <td>0.111111</td>\n",
       "      <td>0.0</td>\n",
       "      <td>0.05</td>\n",
       "      <td>0.011494</td>\n",
       "      <td>0.058824</td>\n",
       "      <td>0.107636</td>\n",
       "      <td>0.097458</td>\n",
       "      <td>0.0</td>\n",
       "      <td>0.022059</td>\n",
       "      <td>0.100</td>\n",
       "      <td>0.018272</td>\n",
       "      <td>0.092947</td>\n",
       "    </tr>\n",
       "  </tbody>\n",
       "</table>\n",
       "</div>"
      ],
      "text/plain": [
       "   use_of_ip  abnormal_url    count.  count-www  count@  count_dir  \\\n",
       "0        0.0           0.0  0.047619        0.0     0.0   0.000000   \n",
       "1        0.0           0.0  0.047619        0.0     0.0   0.051282   \n",
       "2        0.0           0.0  0.047619        0.0     0.0   0.076923   \n",
       "3        0.0           1.0  0.071429        0.2     0.0   0.025641   \n",
       "4        0.0           1.0  0.047619        0.0     0.0   0.025641   \n",
       "\n",
       "   count_embed_domian  short_url  count-https  count-http  count%  count?  \\\n",
       "0                 0.0        0.0          0.0    0.000000     0.0    0.00   \n",
       "1                 0.0        0.0          0.0    0.000000     0.0    0.00   \n",
       "2                 0.0        0.0          0.0    0.000000     0.0    0.00   \n",
       "3                 0.0        0.0          0.0    0.111111     0.0    0.05   \n",
       "4                 0.0        0.0          0.0    0.111111     0.0    0.05   \n",
       "\n",
       "     count-    count=  url_length  hostname_length  sus_url  fd_length  \\\n",
       "0  0.011494  0.000000    0.006900         0.000000      0.0   0.000000   \n",
       "1  0.000000  0.000000    0.015639         0.000000      0.0   0.012255   \n",
       "2  0.000000  0.000000    0.013799         0.000000      0.0   0.017157   \n",
       "3  0.011494  0.078431    0.040018         0.088983      0.0   0.022059   \n",
       "4  0.011494  0.058824    0.107636         0.097458      0.0   0.022059   \n",
       "\n",
       "   tld_length  count-digits  count-letters  \n",
       "0       0.000      0.000000       0.006072  \n",
       "1       0.000      0.000831       0.013545  \n",
       "2       0.000      0.000831       0.011677  \n",
       "3       0.075      0.005814       0.029426  \n",
       "4       0.100      0.018272       0.092947  "
      ]
     },
     "execution_count": 231,
     "metadata": {},
     "output_type": "execute_result"
    }
   ],
   "source": [
    "scaler = MinMaxScaler()\n",
    "scaled_data = scaler.fit_transform(x)\n",
    "x = pd.DataFrame(scaled_data,columns = x.columns)\n",
    "x.head()"
   ]
  },
  {
   "cell_type": "code",
   "execution_count": 232,
   "id": "812f84e0",
   "metadata": {},
   "outputs": [
    {
     "data": {
      "text/html": [
       "<div>\n",
       "<style scoped>\n",
       "    .dataframe tbody tr th:only-of-type {\n",
       "        vertical-align: middle;\n",
       "    }\n",
       "\n",
       "    .dataframe tbody tr th {\n",
       "        vertical-align: top;\n",
       "    }\n",
       "\n",
       "    .dataframe thead th {\n",
       "        text-align: right;\n",
       "    }\n",
       "</style>\n",
       "<table border=\"1\" class=\"dataframe\">\n",
       "  <thead>\n",
       "    <tr style=\"text-align: right;\">\n",
       "      <th></th>\n",
       "      <th>use_of_ip</th>\n",
       "      <th>abnormal_url</th>\n",
       "      <th>count.</th>\n",
       "      <th>count-www</th>\n",
       "      <th>count@</th>\n",
       "      <th>count_dir</th>\n",
       "      <th>count_embed_domian</th>\n",
       "      <th>short_url</th>\n",
       "      <th>count-https</th>\n",
       "      <th>count-http</th>\n",
       "      <th>count%</th>\n",
       "      <th>count?</th>\n",
       "      <th>count-</th>\n",
       "      <th>count=</th>\n",
       "      <th>url_length</th>\n",
       "      <th>hostname_length</th>\n",
       "      <th>sus_url</th>\n",
       "      <th>fd_length</th>\n",
       "      <th>tld_length</th>\n",
       "      <th>count-digits</th>\n",
       "      <th>count-letters</th>\n",
       "      <th>type_code</th>\n",
       "    </tr>\n",
       "  </thead>\n",
       "  <tbody>\n",
       "    <tr>\n",
       "      <th>0</th>\n",
       "      <td>0.0</td>\n",
       "      <td>0.0</td>\n",
       "      <td>0.047619</td>\n",
       "      <td>0.0</td>\n",
       "      <td>0.0</td>\n",
       "      <td>0.000000</td>\n",
       "      <td>0.0</td>\n",
       "      <td>0.0</td>\n",
       "      <td>0.0</td>\n",
       "      <td>0.000000</td>\n",
       "      <td>0.0</td>\n",
       "      <td>0.00</td>\n",
       "      <td>0.011494</td>\n",
       "      <td>0.000000</td>\n",
       "      <td>0.006900</td>\n",
       "      <td>0.000000</td>\n",
       "      <td>0.0</td>\n",
       "      <td>0.000000</td>\n",
       "      <td>0.000</td>\n",
       "      <td>0.000000</td>\n",
       "      <td>0.006072</td>\n",
       "      <td>3</td>\n",
       "    </tr>\n",
       "    <tr>\n",
       "      <th>1</th>\n",
       "      <td>0.0</td>\n",
       "      <td>0.0</td>\n",
       "      <td>0.047619</td>\n",
       "      <td>0.0</td>\n",
       "      <td>0.0</td>\n",
       "      <td>0.051282</td>\n",
       "      <td>0.0</td>\n",
       "      <td>0.0</td>\n",
       "      <td>0.0</td>\n",
       "      <td>0.000000</td>\n",
       "      <td>0.0</td>\n",
       "      <td>0.00</td>\n",
       "      <td>0.000000</td>\n",
       "      <td>0.000000</td>\n",
       "      <td>0.015639</td>\n",
       "      <td>0.000000</td>\n",
       "      <td>0.0</td>\n",
       "      <td>0.012255</td>\n",
       "      <td>0.000</td>\n",
       "      <td>0.000831</td>\n",
       "      <td>0.013545</td>\n",
       "      <td>0</td>\n",
       "    </tr>\n",
       "    <tr>\n",
       "      <th>2</th>\n",
       "      <td>0.0</td>\n",
       "      <td>0.0</td>\n",
       "      <td>0.047619</td>\n",
       "      <td>0.0</td>\n",
       "      <td>0.0</td>\n",
       "      <td>0.076923</td>\n",
       "      <td>0.0</td>\n",
       "      <td>0.0</td>\n",
       "      <td>0.0</td>\n",
       "      <td>0.000000</td>\n",
       "      <td>0.0</td>\n",
       "      <td>0.00</td>\n",
       "      <td>0.000000</td>\n",
       "      <td>0.000000</td>\n",
       "      <td>0.013799</td>\n",
       "      <td>0.000000</td>\n",
       "      <td>0.0</td>\n",
       "      <td>0.017157</td>\n",
       "      <td>0.000</td>\n",
       "      <td>0.000831</td>\n",
       "      <td>0.011677</td>\n",
       "      <td>0</td>\n",
       "    </tr>\n",
       "    <tr>\n",
       "      <th>3</th>\n",
       "      <td>0.0</td>\n",
       "      <td>1.0</td>\n",
       "      <td>0.071429</td>\n",
       "      <td>0.2</td>\n",
       "      <td>0.0</td>\n",
       "      <td>0.025641</td>\n",
       "      <td>0.0</td>\n",
       "      <td>0.0</td>\n",
       "      <td>0.0</td>\n",
       "      <td>0.111111</td>\n",
       "      <td>0.0</td>\n",
       "      <td>0.05</td>\n",
       "      <td>0.011494</td>\n",
       "      <td>0.078431</td>\n",
       "      <td>0.040018</td>\n",
       "      <td>0.088983</td>\n",
       "      <td>0.0</td>\n",
       "      <td>0.022059</td>\n",
       "      <td>0.075</td>\n",
       "      <td>0.005814</td>\n",
       "      <td>0.029426</td>\n",
       "      <td>1</td>\n",
       "    </tr>\n",
       "    <tr>\n",
       "      <th>4</th>\n",
       "      <td>0.0</td>\n",
       "      <td>1.0</td>\n",
       "      <td>0.047619</td>\n",
       "      <td>0.0</td>\n",
       "      <td>0.0</td>\n",
       "      <td>0.025641</td>\n",
       "      <td>0.0</td>\n",
       "      <td>0.0</td>\n",
       "      <td>0.0</td>\n",
       "      <td>0.111111</td>\n",
       "      <td>0.0</td>\n",
       "      <td>0.05</td>\n",
       "      <td>0.011494</td>\n",
       "      <td>0.058824</td>\n",
       "      <td>0.107636</td>\n",
       "      <td>0.097458</td>\n",
       "      <td>0.0</td>\n",
       "      <td>0.022059</td>\n",
       "      <td>0.100</td>\n",
       "      <td>0.018272</td>\n",
       "      <td>0.092947</td>\n",
       "      <td>1</td>\n",
       "    </tr>\n",
       "  </tbody>\n",
       "</table>\n",
       "</div>"
      ],
      "text/plain": [
       "   use_of_ip  abnormal_url    count.  count-www  count@  count_dir  \\\n",
       "0        0.0           0.0  0.047619        0.0     0.0   0.000000   \n",
       "1        0.0           0.0  0.047619        0.0     0.0   0.051282   \n",
       "2        0.0           0.0  0.047619        0.0     0.0   0.076923   \n",
       "3        0.0           1.0  0.071429        0.2     0.0   0.025641   \n",
       "4        0.0           1.0  0.047619        0.0     0.0   0.025641   \n",
       "\n",
       "   count_embed_domian  short_url  count-https  count-http  count%  count?  \\\n",
       "0                 0.0        0.0          0.0    0.000000     0.0    0.00   \n",
       "1                 0.0        0.0          0.0    0.000000     0.0    0.00   \n",
       "2                 0.0        0.0          0.0    0.000000     0.0    0.00   \n",
       "3                 0.0        0.0          0.0    0.111111     0.0    0.05   \n",
       "4                 0.0        0.0          0.0    0.111111     0.0    0.05   \n",
       "\n",
       "     count-    count=  url_length  hostname_length  sus_url  fd_length  \\\n",
       "0  0.011494  0.000000    0.006900         0.000000      0.0   0.000000   \n",
       "1  0.000000  0.000000    0.015639         0.000000      0.0   0.012255   \n",
       "2  0.000000  0.000000    0.013799         0.000000      0.0   0.017157   \n",
       "3  0.011494  0.078431    0.040018         0.088983      0.0   0.022059   \n",
       "4  0.011494  0.058824    0.107636         0.097458      0.0   0.022059   \n",
       "\n",
       "   tld_length  count-digits  count-letters  type_code  \n",
       "0       0.000      0.000000       0.006072          3  \n",
       "1       0.000      0.000831       0.013545          0  \n",
       "2       0.000      0.000831       0.011677          0  \n",
       "3       0.075      0.005814       0.029426          1  \n",
       "4       0.100      0.018272       0.092947          1  "
      ]
     },
     "execution_count": 232,
     "metadata": {},
     "output_type": "execute_result"
    }
   ],
   "source": [
    "df = pd.concat([x,y],axis=1)\n",
    "df.head()"
   ]
  },
  {
   "cell_type": "markdown",
   "id": "d2088bc5",
   "metadata": {},
   "source": [
    "# **<a id=\"section-8\"></a><font color='3D87A6'> Analysis after scaling </font>**"
   ]
  },
  {
   "cell_type": "code",
   "execution_count": null,
   "id": "5f6bcad7",
   "metadata": {},
   "outputs": [],
   "source": [
    "plt.figure(figsize=(5,16))\n",
    "sns.set()\n",
    "for i, feature in enumerate(x.columns):\n",
    "    plt.subplot(12,2,i+1)\n",
    "    sns.barplot(x.apply(lambda x: round(x,1))[feature],y)"
   ]
  },
  {
   "cell_type": "code",
   "execution_count": null,
   "id": "2c40026f",
   "metadata": {},
   "outputs": [],
   "source": [
    "# Analysing the distribution of data.\n",
    "plt.figure(figsize=(10,15),facecolor='white')\n",
    "plotnumber = 1\n",
    "sns.set()\n",
    "for column in df:\n",
    "    if plotnumber <= 22:\n",
    "        ax = plt.subplot(8,3,plotnumber)\n",
    "        sns.distplot(df[column])\n",
    "        plt.xlabel(column,fontsize=30)\n",
    "    plotnumber += 1\n",
    "plt.show()"
   ]
  },
  {
   "cell_type": "markdown",
   "id": "a8c52868",
   "metadata": {},
   "source": [
    "# **<a id=\"section-9\"></a><font color='3D87A6'> Correlation and heatmap </font>**"
   ]
  },
  {
   "cell_type": "code",
   "execution_count": 58,
   "id": "1a6dceda",
   "metadata": {},
   "outputs": [
    {
     "data": {
      "text/html": [
       "<style type=\"text/css\">\n",
       "#T_37cba_row0_col0, #T_37cba_row1_col1, #T_37cba_row1_col9, #T_37cba_row1_col15, #T_37cba_row1_col18, #T_37cba_row2_col2, #T_37cba_row3_col3, #T_37cba_row4_col4, #T_37cba_row5_col5, #T_37cba_row6_col6, #T_37cba_row7_col7, #T_37cba_row8_col8, #T_37cba_row9_col1, #T_37cba_row9_col9, #T_37cba_row9_col15, #T_37cba_row9_col18, #T_37cba_row10_col10, #T_37cba_row11_col11, #T_37cba_row12_col12, #T_37cba_row13_col13, #T_37cba_row14_col14, #T_37cba_row14_col20, #T_37cba_row15_col1, #T_37cba_row15_col9, #T_37cba_row15_col15, #T_37cba_row16_col16, #T_37cba_row17_col17, #T_37cba_row18_col1, #T_37cba_row18_col9, #T_37cba_row18_col18, #T_37cba_row19_col19, #T_37cba_row20_col14, #T_37cba_row20_col20, #T_37cba_row21_col21 {\n",
       "  background-color: red;\n",
       "}\n",
       "</style>\n",
       "<table id=\"T_37cba\">\n",
       "  <thead>\n",
       "    <tr>\n",
       "      <th class=\"blank level0\" >&nbsp;</th>\n",
       "      <th id=\"T_37cba_level0_col0\" class=\"col_heading level0 col0\" >use_of_ip</th>\n",
       "      <th id=\"T_37cba_level0_col1\" class=\"col_heading level0 col1\" >abnormal_url</th>\n",
       "      <th id=\"T_37cba_level0_col2\" class=\"col_heading level0 col2\" >count.</th>\n",
       "      <th id=\"T_37cba_level0_col3\" class=\"col_heading level0 col3\" >count-www</th>\n",
       "      <th id=\"T_37cba_level0_col4\" class=\"col_heading level0 col4\" >count@</th>\n",
       "      <th id=\"T_37cba_level0_col5\" class=\"col_heading level0 col5\" >count_dir</th>\n",
       "      <th id=\"T_37cba_level0_col6\" class=\"col_heading level0 col6\" >count_embed_domian</th>\n",
       "      <th id=\"T_37cba_level0_col7\" class=\"col_heading level0 col7\" >short_url</th>\n",
       "      <th id=\"T_37cba_level0_col8\" class=\"col_heading level0 col8\" >count-https</th>\n",
       "      <th id=\"T_37cba_level0_col9\" class=\"col_heading level0 col9\" >count-http</th>\n",
       "      <th id=\"T_37cba_level0_col10\" class=\"col_heading level0 col10\" >count%</th>\n",
       "      <th id=\"T_37cba_level0_col11\" class=\"col_heading level0 col11\" >count?</th>\n",
       "      <th id=\"T_37cba_level0_col12\" class=\"col_heading level0 col12\" >count-</th>\n",
       "      <th id=\"T_37cba_level0_col13\" class=\"col_heading level0 col13\" >count=</th>\n",
       "      <th id=\"T_37cba_level0_col14\" class=\"col_heading level0 col14\" >url_length</th>\n",
       "      <th id=\"T_37cba_level0_col15\" class=\"col_heading level0 col15\" >hostname_length</th>\n",
       "      <th id=\"T_37cba_level0_col16\" class=\"col_heading level0 col16\" >sus_url</th>\n",
       "      <th id=\"T_37cba_level0_col17\" class=\"col_heading level0 col17\" >fd_length</th>\n",
       "      <th id=\"T_37cba_level0_col18\" class=\"col_heading level0 col18\" >tld_length</th>\n",
       "      <th id=\"T_37cba_level0_col19\" class=\"col_heading level0 col19\" >count-digits</th>\n",
       "      <th id=\"T_37cba_level0_col20\" class=\"col_heading level0 col20\" >count-letters</th>\n",
       "      <th id=\"T_37cba_level0_col21\" class=\"col_heading level0 col21\" >type_code</th>\n",
       "    </tr>\n",
       "  </thead>\n",
       "  <tbody>\n",
       "    <tr>\n",
       "      <th id=\"T_37cba_level0_row0\" class=\"row_heading level0 row0\" >use_of_ip</th>\n",
       "      <td id=\"T_37cba_row0_col0\" class=\"data row0 col0\" >1.000000</td>\n",
       "      <td id=\"T_37cba_row0_col1\" class=\"data row0 col1\" >0.200000</td>\n",
       "      <td id=\"T_37cba_row0_col2\" class=\"data row0 col2\" >0.100000</td>\n",
       "      <td id=\"T_37cba_row0_col3\" class=\"data row0 col3\" >-0.000000</td>\n",
       "      <td id=\"T_37cba_row0_col4\" class=\"data row0 col4\" >-0.000000</td>\n",
       "      <td id=\"T_37cba_row0_col5\" class=\"data row0 col5\" >-0.000000</td>\n",
       "      <td id=\"T_37cba_row0_col6\" class=\"data row0 col6\" >0.000000</td>\n",
       "      <td id=\"T_37cba_row0_col7\" class=\"data row0 col7\" >-0.000000</td>\n",
       "      <td id=\"T_37cba_row0_col8\" class=\"data row0 col8\" >-0.000000</td>\n",
       "      <td id=\"T_37cba_row0_col9\" class=\"data row0 col9\" >0.200000</td>\n",
       "      <td id=\"T_37cba_row0_col10\" class=\"data row0 col10\" >-0.000000</td>\n",
       "      <td id=\"T_37cba_row0_col11\" class=\"data row0 col11\" >-0.100000</td>\n",
       "      <td id=\"T_37cba_row0_col12\" class=\"data row0 col12\" >-0.100000</td>\n",
       "      <td id=\"T_37cba_row0_col13\" class=\"data row0 col13\" >-0.000000</td>\n",
       "      <td id=\"T_37cba_row0_col14\" class=\"data row0 col14\" >-0.100000</td>\n",
       "      <td id=\"T_37cba_row0_col15\" class=\"data row0 col15\" >0.100000</td>\n",
       "      <td id=\"T_37cba_row0_col16\" class=\"data row0 col16\" >-0.000000</td>\n",
       "      <td id=\"T_37cba_row0_col17\" class=\"data row0 col17\" >-0.000000</td>\n",
       "      <td id=\"T_37cba_row0_col18\" class=\"data row0 col18\" >-0.100000</td>\n",
       "      <td id=\"T_37cba_row0_col19\" class=\"data row0 col19\" >0.100000</td>\n",
       "      <td id=\"T_37cba_row0_col20\" class=\"data row0 col20\" >-0.100000</td>\n",
       "      <td id=\"T_37cba_row0_col21\" class=\"data row0 col21\" >0.100000</td>\n",
       "    </tr>\n",
       "    <tr>\n",
       "      <th id=\"T_37cba_level0_row1\" class=\"row_heading level0 row1\" >abnormal_url</th>\n",
       "      <td id=\"T_37cba_row1_col0\" class=\"data row1 col0\" >0.200000</td>\n",
       "      <td id=\"T_37cba_row1_col1\" class=\"data row1 col1\" >1.000000</td>\n",
       "      <td id=\"T_37cba_row1_col2\" class=\"data row1 col2\" >0.200000</td>\n",
       "      <td id=\"T_37cba_row1_col3\" class=\"data row1 col3\" >0.300000</td>\n",
       "      <td id=\"T_37cba_row1_col4\" class=\"data row1 col4\" >0.000000</td>\n",
       "      <td id=\"T_37cba_row1_col5\" class=\"data row1 col5\" >0.000000</td>\n",
       "      <td id=\"T_37cba_row1_col6\" class=\"data row1 col6\" >0.000000</td>\n",
       "      <td id=\"T_37cba_row1_col7\" class=\"data row1 col7\" >-0.000000</td>\n",
       "      <td id=\"T_37cba_row1_col8\" class=\"data row1 col8\" >0.200000</td>\n",
       "      <td id=\"T_37cba_row1_col9\" class=\"data row1 col9\" >1.000000</td>\n",
       "      <td id=\"T_37cba_row1_col10\" class=\"data row1 col10\" >0.200000</td>\n",
       "      <td id=\"T_37cba_row1_col11\" class=\"data row1 col11\" >0.300000</td>\n",
       "      <td id=\"T_37cba_row1_col12\" class=\"data row1 col12\" >0.200000</td>\n",
       "      <td id=\"T_37cba_row1_col13\" class=\"data row1 col13\" >0.400000</td>\n",
       "      <td id=\"T_37cba_row1_col14\" class=\"data row1 col14\" >0.400000</td>\n",
       "      <td id=\"T_37cba_row1_col15\" class=\"data row1 col15\" >0.900000</td>\n",
       "      <td id=\"T_37cba_row1_col16\" class=\"data row1 col16\" >-0.000000</td>\n",
       "      <td id=\"T_37cba_row1_col17\" class=\"data row1 col17\" >0.100000</td>\n",
       "      <td id=\"T_37cba_row1_col18\" class=\"data row1 col18\" >0.900000</td>\n",
       "      <td id=\"T_37cba_row1_col19\" class=\"data row1 col19\" >0.200000</td>\n",
       "      <td id=\"T_37cba_row1_col20\" class=\"data row1 col20\" >0.300000</td>\n",
       "      <td id=\"T_37cba_row1_col21\" class=\"data row1 col21\" >0.300000</td>\n",
       "    </tr>\n",
       "    <tr>\n",
       "      <th id=\"T_37cba_level0_row2\" class=\"row_heading level0 row2\" >count.</th>\n",
       "      <td id=\"T_37cba_row2_col0\" class=\"data row2 col0\" >0.100000</td>\n",
       "      <td id=\"T_37cba_row2_col1\" class=\"data row2 col1\" >0.200000</td>\n",
       "      <td id=\"T_37cba_row2_col2\" class=\"data row2 col2\" >1.000000</td>\n",
       "      <td id=\"T_37cba_row2_col3\" class=\"data row2 col3\" >0.400000</td>\n",
       "      <td id=\"T_37cba_row2_col4\" class=\"data row2 col4\" >0.000000</td>\n",
       "      <td id=\"T_37cba_row2_col5\" class=\"data row2 col5\" >0.000000</td>\n",
       "      <td id=\"T_37cba_row2_col6\" class=\"data row2 col6\" >0.000000</td>\n",
       "      <td id=\"T_37cba_row2_col7\" class=\"data row2 col7\" >0.000000</td>\n",
       "      <td id=\"T_37cba_row2_col8\" class=\"data row2 col8\" >0.000000</td>\n",
       "      <td id=\"T_37cba_row2_col9\" class=\"data row2 col9\" >0.200000</td>\n",
       "      <td id=\"T_37cba_row2_col10\" class=\"data row2 col10\" >-0.000000</td>\n",
       "      <td id=\"T_37cba_row2_col11\" class=\"data row2 col11\" >0.300000</td>\n",
       "      <td id=\"T_37cba_row2_col12\" class=\"data row2 col12\" >-0.100000</td>\n",
       "      <td id=\"T_37cba_row2_col13\" class=\"data row2 col13\" >0.200000</td>\n",
       "      <td id=\"T_37cba_row2_col14\" class=\"data row2 col14\" >0.400000</td>\n",
       "      <td id=\"T_37cba_row2_col15\" class=\"data row2 col15\" >0.300000</td>\n",
       "      <td id=\"T_37cba_row2_col16\" class=\"data row2 col16\" >0.300000</td>\n",
       "      <td id=\"T_37cba_row2_col17\" class=\"data row2 col17\" >0.100000</td>\n",
       "      <td id=\"T_37cba_row2_col18\" class=\"data row2 col18\" >0.200000</td>\n",
       "      <td id=\"T_37cba_row2_col19\" class=\"data row2 col19\" >0.300000</td>\n",
       "      <td id=\"T_37cba_row2_col20\" class=\"data row2 col20\" >0.400000</td>\n",
       "      <td id=\"T_37cba_row2_col21\" class=\"data row2 col21\" >0.200000</td>\n",
       "    </tr>\n",
       "    <tr>\n",
       "      <th id=\"T_37cba_level0_row3\" class=\"row_heading level0 row3\" >count-www</th>\n",
       "      <td id=\"T_37cba_row3_col0\" class=\"data row3 col0\" >-0.000000</td>\n",
       "      <td id=\"T_37cba_row3_col1\" class=\"data row3 col1\" >0.300000</td>\n",
       "      <td id=\"T_37cba_row3_col2\" class=\"data row3 col2\" >0.400000</td>\n",
       "      <td id=\"T_37cba_row3_col3\" class=\"data row3 col3\" >1.000000</td>\n",
       "      <td id=\"T_37cba_row3_col4\" class=\"data row3 col4\" >-0.000000</td>\n",
       "      <td id=\"T_37cba_row3_col5\" class=\"data row3 col5\" >0.000000</td>\n",
       "      <td id=\"T_37cba_row3_col6\" class=\"data row3 col6\" >0.000000</td>\n",
       "      <td id=\"T_37cba_row3_col7\" class=\"data row3 col7\" >-0.000000</td>\n",
       "      <td id=\"T_37cba_row3_col8\" class=\"data row3 col8\" >-0.000000</td>\n",
       "      <td id=\"T_37cba_row3_col9\" class=\"data row3 col9\" >0.300000</td>\n",
       "      <td id=\"T_37cba_row3_col10\" class=\"data row3 col10\" >-0.000000</td>\n",
       "      <td id=\"T_37cba_row3_col11\" class=\"data row3 col11\" >0.200000</td>\n",
       "      <td id=\"T_37cba_row3_col12\" class=\"data row3 col12\" >-0.100000</td>\n",
       "      <td id=\"T_37cba_row3_col13\" class=\"data row3 col13\" >0.300000</td>\n",
       "      <td id=\"T_37cba_row3_col14\" class=\"data row3 col14\" >0.200000</td>\n",
       "      <td id=\"T_37cba_row3_col15\" class=\"data row3 col15\" >0.400000</td>\n",
       "      <td id=\"T_37cba_row3_col16\" class=\"data row3 col16\" >0.100000</td>\n",
       "      <td id=\"T_37cba_row3_col17\" class=\"data row3 col17\" >-0.000000</td>\n",
       "      <td id=\"T_37cba_row3_col18\" class=\"data row3 col18\" >0.300000</td>\n",
       "      <td id=\"T_37cba_row3_col19\" class=\"data row3 col19\" >-0.000000</td>\n",
       "      <td id=\"T_37cba_row3_col20\" class=\"data row3 col20\" >0.200000</td>\n",
       "      <td id=\"T_37cba_row3_col21\" class=\"data row3 col21\" >0.400000</td>\n",
       "    </tr>\n",
       "    <tr>\n",
       "      <th id=\"T_37cba_level0_row4\" class=\"row_heading level0 row4\" >count@</th>\n",
       "      <td id=\"T_37cba_row4_col0\" class=\"data row4 col0\" >-0.000000</td>\n",
       "      <td id=\"T_37cba_row4_col1\" class=\"data row4 col1\" >0.000000</td>\n",
       "      <td id=\"T_37cba_row4_col2\" class=\"data row4 col2\" >0.000000</td>\n",
       "      <td id=\"T_37cba_row4_col3\" class=\"data row4 col3\" >-0.000000</td>\n",
       "      <td id=\"T_37cba_row4_col4\" class=\"data row4 col4\" >1.000000</td>\n",
       "      <td id=\"T_37cba_row4_col5\" class=\"data row4 col5\" >0.000000</td>\n",
       "      <td id=\"T_37cba_row4_col6\" class=\"data row4 col6\" >0.000000</td>\n",
       "      <td id=\"T_37cba_row4_col7\" class=\"data row4 col7\" >0.000000</td>\n",
       "      <td id=\"T_37cba_row4_col8\" class=\"data row4 col8\" >0.100000</td>\n",
       "      <td id=\"T_37cba_row4_col9\" class=\"data row4 col9\" >0.000000</td>\n",
       "      <td id=\"T_37cba_row4_col10\" class=\"data row4 col10\" >-0.000000</td>\n",
       "      <td id=\"T_37cba_row4_col11\" class=\"data row4 col11\" >0.000000</td>\n",
       "      <td id=\"T_37cba_row4_col12\" class=\"data row4 col12\" >0.000000</td>\n",
       "      <td id=\"T_37cba_row4_col13\" class=\"data row4 col13\" >0.000000</td>\n",
       "      <td id=\"T_37cba_row4_col14\" class=\"data row4 col14\" >0.000000</td>\n",
       "      <td id=\"T_37cba_row4_col15\" class=\"data row4 col15\" >0.000000</td>\n",
       "      <td id=\"T_37cba_row4_col16\" class=\"data row4 col16\" >0.000000</td>\n",
       "      <td id=\"T_37cba_row4_col17\" class=\"data row4 col17\" >0.000000</td>\n",
       "      <td id=\"T_37cba_row4_col18\" class=\"data row4 col18\" >0.100000</td>\n",
       "      <td id=\"T_37cba_row4_col19\" class=\"data row4 col19\" >0.000000</td>\n",
       "      <td id=\"T_37cba_row4_col20\" class=\"data row4 col20\" >0.000000</td>\n",
       "      <td id=\"T_37cba_row4_col21\" class=\"data row4 col21\" >0.000000</td>\n",
       "    </tr>\n",
       "    <tr>\n",
       "      <th id=\"T_37cba_level0_row5\" class=\"row_heading level0 row5\" >count_dir</th>\n",
       "      <td id=\"T_37cba_row5_col0\" class=\"data row5 col0\" >-0.000000</td>\n",
       "      <td id=\"T_37cba_row5_col1\" class=\"data row5 col1\" >0.000000</td>\n",
       "      <td id=\"T_37cba_row5_col2\" class=\"data row5 col2\" >0.000000</td>\n",
       "      <td id=\"T_37cba_row5_col3\" class=\"data row5 col3\" >0.000000</td>\n",
       "      <td id=\"T_37cba_row5_col4\" class=\"data row5 col4\" >0.000000</td>\n",
       "      <td id=\"T_37cba_row5_col5\" class=\"data row5 col5\" >1.000000</td>\n",
       "      <td id=\"T_37cba_row5_col6\" class=\"data row5 col6\" >0.100000</td>\n",
       "      <td id=\"T_37cba_row5_col7\" class=\"data row5 col7\" >0.000000</td>\n",
       "      <td id=\"T_37cba_row5_col8\" class=\"data row5 col8\" >0.000000</td>\n",
       "      <td id=\"T_37cba_row5_col9\" class=\"data row5 col9\" >0.000000</td>\n",
       "      <td id=\"T_37cba_row5_col10\" class=\"data row5 col10\" >0.000000</td>\n",
       "      <td id=\"T_37cba_row5_col11\" class=\"data row5 col11\" >-0.200000</td>\n",
       "      <td id=\"T_37cba_row5_col12\" class=\"data row5 col12\" >0.200000</td>\n",
       "      <td id=\"T_37cba_row5_col13\" class=\"data row5 col13\" >-0.200000</td>\n",
       "      <td id=\"T_37cba_row5_col14\" class=\"data row5 col14\" >0.300000</td>\n",
       "      <td id=\"T_37cba_row5_col15\" class=\"data row5 col15\" >-0.000000</td>\n",
       "      <td id=\"T_37cba_row5_col16\" class=\"data row5 col16\" >0.100000</td>\n",
       "      <td id=\"T_37cba_row5_col17\" class=\"data row5 col17\" >-0.100000</td>\n",
       "      <td id=\"T_37cba_row5_col18\" class=\"data row5 col18\" >0.000000</td>\n",
       "      <td id=\"T_37cba_row5_col19\" class=\"data row5 col19\" >0.200000</td>\n",
       "      <td id=\"T_37cba_row5_col20\" class=\"data row5 col20\" >0.300000</td>\n",
       "      <td id=\"T_37cba_row5_col21\" class=\"data row5 col21\" >-0.100000</td>\n",
       "    </tr>\n",
       "    <tr>\n",
       "      <th id=\"T_37cba_level0_row6\" class=\"row_heading level0 row6\" >count_embed_domian</th>\n",
       "      <td id=\"T_37cba_row6_col0\" class=\"data row6 col0\" >0.000000</td>\n",
       "      <td id=\"T_37cba_row6_col1\" class=\"data row6 col1\" >0.000000</td>\n",
       "      <td id=\"T_37cba_row6_col2\" class=\"data row6 col2\" >0.000000</td>\n",
       "      <td id=\"T_37cba_row6_col3\" class=\"data row6 col3\" >0.000000</td>\n",
       "      <td id=\"T_37cba_row6_col4\" class=\"data row6 col4\" >0.000000</td>\n",
       "      <td id=\"T_37cba_row6_col5\" class=\"data row6 col5\" >0.100000</td>\n",
       "      <td id=\"T_37cba_row6_col6\" class=\"data row6 col6\" >1.000000</td>\n",
       "      <td id=\"T_37cba_row6_col7\" class=\"data row6 col7\" >0.000000</td>\n",
       "      <td id=\"T_37cba_row6_col8\" class=\"data row6 col8\" >0.000000</td>\n",
       "      <td id=\"T_37cba_row6_col9\" class=\"data row6 col9\" >0.000000</td>\n",
       "      <td id=\"T_37cba_row6_col10\" class=\"data row6 col10\" >-0.000000</td>\n",
       "      <td id=\"T_37cba_row6_col11\" class=\"data row6 col11\" >-0.000000</td>\n",
       "      <td id=\"T_37cba_row6_col12\" class=\"data row6 col12\" >-0.000000</td>\n",
       "      <td id=\"T_37cba_row6_col13\" class=\"data row6 col13\" >-0.000000</td>\n",
       "      <td id=\"T_37cba_row6_col14\" class=\"data row6 col14\" >0.000000</td>\n",
       "      <td id=\"T_37cba_row6_col15\" class=\"data row6 col15\" >0.000000</td>\n",
       "      <td id=\"T_37cba_row6_col16\" class=\"data row6 col16\" >0.000000</td>\n",
       "      <td id=\"T_37cba_row6_col17\" class=\"data row6 col17\" >-0.000000</td>\n",
       "      <td id=\"T_37cba_row6_col18\" class=\"data row6 col18\" >0.000000</td>\n",
       "      <td id=\"T_37cba_row6_col19\" class=\"data row6 col19\" >-0.000000</td>\n",
       "      <td id=\"T_37cba_row6_col20\" class=\"data row6 col20\" >0.000000</td>\n",
       "      <td id=\"T_37cba_row6_col21\" class=\"data row6 col21\" >-0.000000</td>\n",
       "    </tr>\n",
       "    <tr>\n",
       "      <th id=\"T_37cba_level0_row7\" class=\"row_heading level0 row7\" >short_url</th>\n",
       "      <td id=\"T_37cba_row7_col0\" class=\"data row7 col0\" >-0.000000</td>\n",
       "      <td id=\"T_37cba_row7_col1\" class=\"data row7 col1\" >-0.000000</td>\n",
       "      <td id=\"T_37cba_row7_col2\" class=\"data row7 col2\" >0.000000</td>\n",
       "      <td id=\"T_37cba_row7_col3\" class=\"data row7 col3\" >-0.000000</td>\n",
       "      <td id=\"T_37cba_row7_col4\" class=\"data row7 col4\" >0.000000</td>\n",
       "      <td id=\"T_37cba_row7_col5\" class=\"data row7 col5\" >0.000000</td>\n",
       "      <td id=\"T_37cba_row7_col6\" class=\"data row7 col6\" >0.000000</td>\n",
       "      <td id=\"T_37cba_row7_col7\" class=\"data row7 col7\" >1.000000</td>\n",
       "      <td id=\"T_37cba_row7_col8\" class=\"data row7 col8\" >0.000000</td>\n",
       "      <td id=\"T_37cba_row7_col9\" class=\"data row7 col9\" >-0.000000</td>\n",
       "      <td id=\"T_37cba_row7_col10\" class=\"data row7 col10\" >-0.000000</td>\n",
       "      <td id=\"T_37cba_row7_col11\" class=\"data row7 col11\" >-0.000000</td>\n",
       "      <td id=\"T_37cba_row7_col12\" class=\"data row7 col12\" >0.000000</td>\n",
       "      <td id=\"T_37cba_row7_col13\" class=\"data row7 col13\" >-0.000000</td>\n",
       "      <td id=\"T_37cba_row7_col14\" class=\"data row7 col14\" >0.000000</td>\n",
       "      <td id=\"T_37cba_row7_col15\" class=\"data row7 col15\" >-0.000000</td>\n",
       "      <td id=\"T_37cba_row7_col16\" class=\"data row7 col16\" >-0.000000</td>\n",
       "      <td id=\"T_37cba_row7_col17\" class=\"data row7 col17\" >-0.000000</td>\n",
       "      <td id=\"T_37cba_row7_col18\" class=\"data row7 col18\" >-0.000000</td>\n",
       "      <td id=\"T_37cba_row7_col19\" class=\"data row7 col19\" >-0.000000</td>\n",
       "      <td id=\"T_37cba_row7_col20\" class=\"data row7 col20\" >0.000000</td>\n",
       "      <td id=\"T_37cba_row7_col21\" class=\"data row7 col21\" >-0.000000</td>\n",
       "    </tr>\n",
       "    <tr>\n",
       "      <th id=\"T_37cba_level0_row8\" class=\"row_heading level0 row8\" >count-https</th>\n",
       "      <td id=\"T_37cba_row8_col0\" class=\"data row8 col0\" >-0.000000</td>\n",
       "      <td id=\"T_37cba_row8_col1\" class=\"data row8 col1\" >0.200000</td>\n",
       "      <td id=\"T_37cba_row8_col2\" class=\"data row8 col2\" >0.000000</td>\n",
       "      <td id=\"T_37cba_row8_col3\" class=\"data row8 col3\" >-0.000000</td>\n",
       "      <td id=\"T_37cba_row8_col4\" class=\"data row8 col4\" >0.100000</td>\n",
       "      <td id=\"T_37cba_row8_col5\" class=\"data row8 col5\" >0.000000</td>\n",
       "      <td id=\"T_37cba_row8_col6\" class=\"data row8 col6\" >0.000000</td>\n",
       "      <td id=\"T_37cba_row8_col7\" class=\"data row8 col7\" >0.000000</td>\n",
       "      <td id=\"T_37cba_row8_col8\" class=\"data row8 col8\" >1.000000</td>\n",
       "      <td id=\"T_37cba_row8_col9\" class=\"data row8 col9\" >0.300000</td>\n",
       "      <td id=\"T_37cba_row8_col10\" class=\"data row8 col10\" >0.000000</td>\n",
       "      <td id=\"T_37cba_row8_col11\" class=\"data row8 col11\" >0.000000</td>\n",
       "      <td id=\"T_37cba_row8_col12\" class=\"data row8 col12\" >-0.000000</td>\n",
       "      <td id=\"T_37cba_row8_col13\" class=\"data row8 col13\" >0.000000</td>\n",
       "      <td id=\"T_37cba_row8_col14\" class=\"data row8 col14\" >0.100000</td>\n",
       "      <td id=\"T_37cba_row8_col15\" class=\"data row8 col15\" >0.200000</td>\n",
       "      <td id=\"T_37cba_row8_col16\" class=\"data row8 col16\" >0.000000</td>\n",
       "      <td id=\"T_37cba_row8_col17\" class=\"data row8 col17\" >-0.000000</td>\n",
       "      <td id=\"T_37cba_row8_col18\" class=\"data row8 col18\" >0.200000</td>\n",
       "      <td id=\"T_37cba_row8_col19\" class=\"data row8 col19\" >0.100000</td>\n",
       "      <td id=\"T_37cba_row8_col20\" class=\"data row8 col20\" >0.100000</td>\n",
       "      <td id=\"T_37cba_row8_col21\" class=\"data row8 col21\" >0.200000</td>\n",
       "    </tr>\n",
       "    <tr>\n",
       "      <th id=\"T_37cba_level0_row9\" class=\"row_heading level0 row9\" >count-http</th>\n",
       "      <td id=\"T_37cba_row9_col0\" class=\"data row9 col0\" >0.200000</td>\n",
       "      <td id=\"T_37cba_row9_col1\" class=\"data row9 col1\" >1.000000</td>\n",
       "      <td id=\"T_37cba_row9_col2\" class=\"data row9 col2\" >0.200000</td>\n",
       "      <td id=\"T_37cba_row9_col3\" class=\"data row9 col3\" >0.300000</td>\n",
       "      <td id=\"T_37cba_row9_col4\" class=\"data row9 col4\" >0.000000</td>\n",
       "      <td id=\"T_37cba_row9_col5\" class=\"data row9 col5\" >0.000000</td>\n",
       "      <td id=\"T_37cba_row9_col6\" class=\"data row9 col6\" >0.000000</td>\n",
       "      <td id=\"T_37cba_row9_col7\" class=\"data row9 col7\" >-0.000000</td>\n",
       "      <td id=\"T_37cba_row9_col8\" class=\"data row9 col8\" >0.300000</td>\n",
       "      <td id=\"T_37cba_row9_col9\" class=\"data row9 col9\" >1.000000</td>\n",
       "      <td id=\"T_37cba_row9_col10\" class=\"data row9 col10\" >0.200000</td>\n",
       "      <td id=\"T_37cba_row9_col11\" class=\"data row9 col11\" >0.300000</td>\n",
       "      <td id=\"T_37cba_row9_col12\" class=\"data row9 col12\" >0.100000</td>\n",
       "      <td id=\"T_37cba_row9_col13\" class=\"data row9 col13\" >0.400000</td>\n",
       "      <td id=\"T_37cba_row9_col14\" class=\"data row9 col14\" >0.400000</td>\n",
       "      <td id=\"T_37cba_row9_col15\" class=\"data row9 col15\" >0.900000</td>\n",
       "      <td id=\"T_37cba_row9_col16\" class=\"data row9 col16\" >0.000000</td>\n",
       "      <td id=\"T_37cba_row9_col17\" class=\"data row9 col17\" >0.100000</td>\n",
       "      <td id=\"T_37cba_row9_col18\" class=\"data row9 col18\" >0.900000</td>\n",
       "      <td id=\"T_37cba_row9_col19\" class=\"data row9 col19\" >0.200000</td>\n",
       "      <td id=\"T_37cba_row9_col20\" class=\"data row9 col20\" >0.400000</td>\n",
       "      <td id=\"T_37cba_row9_col21\" class=\"data row9 col21\" >0.300000</td>\n",
       "    </tr>\n",
       "    <tr>\n",
       "      <th id=\"T_37cba_level0_row10\" class=\"row_heading level0 row10\" >count%</th>\n",
       "      <td id=\"T_37cba_row10_col0\" class=\"data row10 col0\" >-0.000000</td>\n",
       "      <td id=\"T_37cba_row10_col1\" class=\"data row10 col1\" >0.200000</td>\n",
       "      <td id=\"T_37cba_row10_col2\" class=\"data row10 col2\" >-0.000000</td>\n",
       "      <td id=\"T_37cba_row10_col3\" class=\"data row10 col3\" >-0.000000</td>\n",
       "      <td id=\"T_37cba_row10_col4\" class=\"data row10 col4\" >-0.000000</td>\n",
       "      <td id=\"T_37cba_row10_col5\" class=\"data row10 col5\" >0.000000</td>\n",
       "      <td id=\"T_37cba_row10_col6\" class=\"data row10 col6\" >-0.000000</td>\n",
       "      <td id=\"T_37cba_row10_col7\" class=\"data row10 col7\" >-0.000000</td>\n",
       "      <td id=\"T_37cba_row10_col8\" class=\"data row10 col8\" >0.000000</td>\n",
       "      <td id=\"T_37cba_row10_col9\" class=\"data row10 col9\" >0.200000</td>\n",
       "      <td id=\"T_37cba_row10_col10\" class=\"data row10 col10\" >1.000000</td>\n",
       "      <td id=\"T_37cba_row10_col11\" class=\"data row10 col11\" >0.000000</td>\n",
       "      <td id=\"T_37cba_row10_col12\" class=\"data row10 col12\" >0.000000</td>\n",
       "      <td id=\"T_37cba_row10_col13\" class=\"data row10 col13\" >-0.000000</td>\n",
       "      <td id=\"T_37cba_row10_col14\" class=\"data row10 col14\" >0.300000</td>\n",
       "      <td id=\"T_37cba_row10_col15\" class=\"data row10 col15\" >0.100000</td>\n",
       "      <td id=\"T_37cba_row10_col16\" class=\"data row10 col16\" >-0.000000</td>\n",
       "      <td id=\"T_37cba_row10_col17\" class=\"data row10 col17\" >0.200000</td>\n",
       "      <td id=\"T_37cba_row10_col18\" class=\"data row10 col18\" >0.200000</td>\n",
       "      <td id=\"T_37cba_row10_col19\" class=\"data row10 col19\" >0.400000</td>\n",
       "      <td id=\"T_37cba_row10_col20\" class=\"data row10 col20\" >0.100000</td>\n",
       "      <td id=\"T_37cba_row10_col21\" class=\"data row10 col21\" >-0.000000</td>\n",
       "    </tr>\n",
       "    <tr>\n",
       "      <th id=\"T_37cba_level0_row11\" class=\"row_heading level0 row11\" >count?</th>\n",
       "      <td id=\"T_37cba_row11_col0\" class=\"data row11 col0\" >-0.100000</td>\n",
       "      <td id=\"T_37cba_row11_col1\" class=\"data row11 col1\" >0.300000</td>\n",
       "      <td id=\"T_37cba_row11_col2\" class=\"data row11 col2\" >0.300000</td>\n",
       "      <td id=\"T_37cba_row11_col3\" class=\"data row11 col3\" >0.200000</td>\n",
       "      <td id=\"T_37cba_row11_col4\" class=\"data row11 col4\" >0.000000</td>\n",
       "      <td id=\"T_37cba_row11_col5\" class=\"data row11 col5\" >-0.200000</td>\n",
       "      <td id=\"T_37cba_row11_col6\" class=\"data row11 col6\" >-0.000000</td>\n",
       "      <td id=\"T_37cba_row11_col7\" class=\"data row11 col7\" >-0.000000</td>\n",
       "      <td id=\"T_37cba_row11_col8\" class=\"data row11 col8\" >0.000000</td>\n",
       "      <td id=\"T_37cba_row11_col9\" class=\"data row11 col9\" >0.300000</td>\n",
       "      <td id=\"T_37cba_row11_col10\" class=\"data row11 col10\" >0.000000</td>\n",
       "      <td id=\"T_37cba_row11_col11\" class=\"data row11 col11\" >1.000000</td>\n",
       "      <td id=\"T_37cba_row11_col12\" class=\"data row11 col12\" >-0.100000</td>\n",
       "      <td id=\"T_37cba_row11_col13\" class=\"data row11 col13\" >0.700000</td>\n",
       "      <td id=\"T_37cba_row11_col14\" class=\"data row11 col14\" >0.400000</td>\n",
       "      <td id=\"T_37cba_row11_col15\" class=\"data row11 col15\" >0.200000</td>\n",
       "      <td id=\"T_37cba_row11_col16\" class=\"data row11 col16\" >0.200000</td>\n",
       "      <td id=\"T_37cba_row11_col17\" class=\"data row11 col17\" >-0.000000</td>\n",
       "      <td id=\"T_37cba_row11_col18\" class=\"data row11 col18\" >0.300000</td>\n",
       "      <td id=\"T_37cba_row11_col19\" class=\"data row11 col19\" >0.200000</td>\n",
       "      <td id=\"T_37cba_row11_col20\" class=\"data row11 col20\" >0.400000</td>\n",
       "      <td id=\"T_37cba_row11_col21\" class=\"data row11 col21\" >-0.000000</td>\n",
       "    </tr>\n",
       "    <tr>\n",
       "      <th id=\"T_37cba_level0_row12\" class=\"row_heading level0 row12\" >count-</th>\n",
       "      <td id=\"T_37cba_row12_col0\" class=\"data row12 col0\" >-0.100000</td>\n",
       "      <td id=\"T_37cba_row12_col1\" class=\"data row12 col1\" >0.200000</td>\n",
       "      <td id=\"T_37cba_row12_col2\" class=\"data row12 col2\" >-0.100000</td>\n",
       "      <td id=\"T_37cba_row12_col3\" class=\"data row12 col3\" >-0.100000</td>\n",
       "      <td id=\"T_37cba_row12_col4\" class=\"data row12 col4\" >0.000000</td>\n",
       "      <td id=\"T_37cba_row12_col5\" class=\"data row12 col5\" >0.200000</td>\n",
       "      <td id=\"T_37cba_row12_col6\" class=\"data row12 col6\" >-0.000000</td>\n",
       "      <td id=\"T_37cba_row12_col7\" class=\"data row12 col7\" >0.000000</td>\n",
       "      <td id=\"T_37cba_row12_col8\" class=\"data row12 col8\" >-0.000000</td>\n",
       "      <td id=\"T_37cba_row12_col9\" class=\"data row12 col9\" >0.100000</td>\n",
       "      <td id=\"T_37cba_row12_col10\" class=\"data row12 col10\" >0.000000</td>\n",
       "      <td id=\"T_37cba_row12_col11\" class=\"data row12 col11\" >-0.100000</td>\n",
       "      <td id=\"T_37cba_row12_col12\" class=\"data row12 col12\" >1.000000</td>\n",
       "      <td id=\"T_37cba_row12_col13\" class=\"data row12 col13\" >-0.000000</td>\n",
       "      <td id=\"T_37cba_row12_col14\" class=\"data row12 col14\" >0.400000</td>\n",
       "      <td id=\"T_37cba_row12_col15\" class=\"data row12 col15\" >0.100000</td>\n",
       "      <td id=\"T_37cba_row12_col16\" class=\"data row12 col16\" >0.000000</td>\n",
       "      <td id=\"T_37cba_row12_col17\" class=\"data row12 col17\" >0.200000</td>\n",
       "      <td id=\"T_37cba_row12_col18\" class=\"data row12 col18\" >0.200000</td>\n",
       "      <td id=\"T_37cba_row12_col19\" class=\"data row12 col19\" >0.100000</td>\n",
       "      <td id=\"T_37cba_row12_col20\" class=\"data row12 col20\" >0.400000</td>\n",
       "      <td id=\"T_37cba_row12_col21\" class=\"data row12 col21\" >-0.200000</td>\n",
       "    </tr>\n",
       "    <tr>\n",
       "      <th id=\"T_37cba_level0_row13\" class=\"row_heading level0 row13\" >count=</th>\n",
       "      <td id=\"T_37cba_row13_col0\" class=\"data row13 col0\" >-0.000000</td>\n",
       "      <td id=\"T_37cba_row13_col1\" class=\"data row13 col1\" >0.400000</td>\n",
       "      <td id=\"T_37cba_row13_col2\" class=\"data row13 col2\" >0.200000</td>\n",
       "      <td id=\"T_37cba_row13_col3\" class=\"data row13 col3\" >0.300000</td>\n",
       "      <td id=\"T_37cba_row13_col4\" class=\"data row13 col4\" >0.000000</td>\n",
       "      <td id=\"T_37cba_row13_col5\" class=\"data row13 col5\" >-0.200000</td>\n",
       "      <td id=\"T_37cba_row13_col6\" class=\"data row13 col6\" >-0.000000</td>\n",
       "      <td id=\"T_37cba_row13_col7\" class=\"data row13 col7\" >-0.000000</td>\n",
       "      <td id=\"T_37cba_row13_col8\" class=\"data row13 col8\" >0.000000</td>\n",
       "      <td id=\"T_37cba_row13_col9\" class=\"data row13 col9\" >0.400000</td>\n",
       "      <td id=\"T_37cba_row13_col10\" class=\"data row13 col10\" >-0.000000</td>\n",
       "      <td id=\"T_37cba_row13_col11\" class=\"data row13 col11\" >0.700000</td>\n",
       "      <td id=\"T_37cba_row13_col12\" class=\"data row13 col12\" >-0.000000</td>\n",
       "      <td id=\"T_37cba_row13_col13\" class=\"data row13 col13\" >1.000000</td>\n",
       "      <td id=\"T_37cba_row13_col14\" class=\"data row13 col14\" >0.500000</td>\n",
       "      <td id=\"T_37cba_row13_col15\" class=\"data row13 col15\" >0.400000</td>\n",
       "      <td id=\"T_37cba_row13_col16\" class=\"data row13 col16\" >0.100000</td>\n",
       "      <td id=\"T_37cba_row13_col17\" class=\"data row13 col17\" >-0.000000</td>\n",
       "      <td id=\"T_37cba_row13_col18\" class=\"data row13 col18\" >0.400000</td>\n",
       "      <td id=\"T_37cba_row13_col19\" class=\"data row13 col19\" >0.200000</td>\n",
       "      <td id=\"T_37cba_row13_col20\" class=\"data row13 col20\" >0.500000</td>\n",
       "      <td id=\"T_37cba_row13_col21\" class=\"data row13 col21\" >0.000000</td>\n",
       "    </tr>\n",
       "    <tr>\n",
       "      <th id=\"T_37cba_level0_row14\" class=\"row_heading level0 row14\" >url_length</th>\n",
       "      <td id=\"T_37cba_row14_col0\" class=\"data row14 col0\" >-0.100000</td>\n",
       "      <td id=\"T_37cba_row14_col1\" class=\"data row14 col1\" >0.400000</td>\n",
       "      <td id=\"T_37cba_row14_col2\" class=\"data row14 col2\" >0.400000</td>\n",
       "      <td id=\"T_37cba_row14_col3\" class=\"data row14 col3\" >0.200000</td>\n",
       "      <td id=\"T_37cba_row14_col4\" class=\"data row14 col4\" >0.000000</td>\n",
       "      <td id=\"T_37cba_row14_col5\" class=\"data row14 col5\" >0.300000</td>\n",
       "      <td id=\"T_37cba_row14_col6\" class=\"data row14 col6\" >0.000000</td>\n",
       "      <td id=\"T_37cba_row14_col7\" class=\"data row14 col7\" >0.000000</td>\n",
       "      <td id=\"T_37cba_row14_col8\" class=\"data row14 col8\" >0.100000</td>\n",
       "      <td id=\"T_37cba_row14_col9\" class=\"data row14 col9\" >0.400000</td>\n",
       "      <td id=\"T_37cba_row14_col10\" class=\"data row14 col10\" >0.300000</td>\n",
       "      <td id=\"T_37cba_row14_col11\" class=\"data row14 col11\" >0.400000</td>\n",
       "      <td id=\"T_37cba_row14_col12\" class=\"data row14 col12\" >0.400000</td>\n",
       "      <td id=\"T_37cba_row14_col13\" class=\"data row14 col13\" >0.500000</td>\n",
       "      <td id=\"T_37cba_row14_col14\" class=\"data row14 col14\" >1.000000</td>\n",
       "      <td id=\"T_37cba_row14_col15\" class=\"data row14 col15\" >0.400000</td>\n",
       "      <td id=\"T_37cba_row14_col16\" class=\"data row14 col16\" >0.300000</td>\n",
       "      <td id=\"T_37cba_row14_col17\" class=\"data row14 col17\" >0.200000</td>\n",
       "      <td id=\"T_37cba_row14_col18\" class=\"data row14 col18\" >0.400000</td>\n",
       "      <td id=\"T_37cba_row14_col19\" class=\"data row14 col19\" >0.700000</td>\n",
       "      <td id=\"T_37cba_row14_col20\" class=\"data row14 col20\" >1.000000</td>\n",
       "      <td id=\"T_37cba_row14_col21\" class=\"data row14 col21\" >-0.100000</td>\n",
       "    </tr>\n",
       "    <tr>\n",
       "      <th id=\"T_37cba_level0_row15\" class=\"row_heading level0 row15\" >hostname_length</th>\n",
       "      <td id=\"T_37cba_row15_col0\" class=\"data row15 col0\" >0.100000</td>\n",
       "      <td id=\"T_37cba_row15_col1\" class=\"data row15 col1\" >0.900000</td>\n",
       "      <td id=\"T_37cba_row15_col2\" class=\"data row15 col2\" >0.300000</td>\n",
       "      <td id=\"T_37cba_row15_col3\" class=\"data row15 col3\" >0.400000</td>\n",
       "      <td id=\"T_37cba_row15_col4\" class=\"data row15 col4\" >0.000000</td>\n",
       "      <td id=\"T_37cba_row15_col5\" class=\"data row15 col5\" >-0.000000</td>\n",
       "      <td id=\"T_37cba_row15_col6\" class=\"data row15 col6\" >0.000000</td>\n",
       "      <td id=\"T_37cba_row15_col7\" class=\"data row15 col7\" >-0.000000</td>\n",
       "      <td id=\"T_37cba_row15_col8\" class=\"data row15 col8\" >0.200000</td>\n",
       "      <td id=\"T_37cba_row15_col9\" class=\"data row15 col9\" >0.900000</td>\n",
       "      <td id=\"T_37cba_row15_col10\" class=\"data row15 col10\" >0.100000</td>\n",
       "      <td id=\"T_37cba_row15_col11\" class=\"data row15 col11\" >0.200000</td>\n",
       "      <td id=\"T_37cba_row15_col12\" class=\"data row15 col12\" >0.100000</td>\n",
       "      <td id=\"T_37cba_row15_col13\" class=\"data row15 col13\" >0.400000</td>\n",
       "      <td id=\"T_37cba_row15_col14\" class=\"data row15 col14\" >0.400000</td>\n",
       "      <td id=\"T_37cba_row15_col15\" class=\"data row15 col15\" >1.000000</td>\n",
       "      <td id=\"T_37cba_row15_col16\" class=\"data row15 col16\" >0.000000</td>\n",
       "      <td id=\"T_37cba_row15_col17\" class=\"data row15 col17\" >0.100000</td>\n",
       "      <td id=\"T_37cba_row15_col18\" class=\"data row15 col18\" >0.800000</td>\n",
       "      <td id=\"T_37cba_row15_col19\" class=\"data row15 col19\" >0.100000</td>\n",
       "      <td id=\"T_37cba_row15_col20\" class=\"data row15 col20\" >0.400000</td>\n",
       "      <td id=\"T_37cba_row15_col21\" class=\"data row15 col21\" >0.300000</td>\n",
       "    </tr>\n",
       "    <tr>\n",
       "      <th id=\"T_37cba_level0_row16\" class=\"row_heading level0 row16\" >sus_url</th>\n",
       "      <td id=\"T_37cba_row16_col0\" class=\"data row16 col0\" >-0.000000</td>\n",
       "      <td id=\"T_37cba_row16_col1\" class=\"data row16 col1\" >-0.000000</td>\n",
       "      <td id=\"T_37cba_row16_col2\" class=\"data row16 col2\" >0.300000</td>\n",
       "      <td id=\"T_37cba_row16_col3\" class=\"data row16 col3\" >0.100000</td>\n",
       "      <td id=\"T_37cba_row16_col4\" class=\"data row16 col4\" >0.000000</td>\n",
       "      <td id=\"T_37cba_row16_col5\" class=\"data row16 col5\" >0.100000</td>\n",
       "      <td id=\"T_37cba_row16_col6\" class=\"data row16 col6\" >0.000000</td>\n",
       "      <td id=\"T_37cba_row16_col7\" class=\"data row16 col7\" >-0.000000</td>\n",
       "      <td id=\"T_37cba_row16_col8\" class=\"data row16 col8\" >0.000000</td>\n",
       "      <td id=\"T_37cba_row16_col9\" class=\"data row16 col9\" >0.000000</td>\n",
       "      <td id=\"T_37cba_row16_col10\" class=\"data row16 col10\" >-0.000000</td>\n",
       "      <td id=\"T_37cba_row16_col11\" class=\"data row16 col11\" >0.200000</td>\n",
       "      <td id=\"T_37cba_row16_col12\" class=\"data row16 col12\" >0.000000</td>\n",
       "      <td id=\"T_37cba_row16_col13\" class=\"data row16 col13\" >0.100000</td>\n",
       "      <td id=\"T_37cba_row16_col14\" class=\"data row16 col14\" >0.300000</td>\n",
       "      <td id=\"T_37cba_row16_col15\" class=\"data row16 col15\" >0.000000</td>\n",
       "      <td id=\"T_37cba_row16_col16\" class=\"data row16 col16\" >1.000000</td>\n",
       "      <td id=\"T_37cba_row16_col17\" class=\"data row16 col17\" >0.000000</td>\n",
       "      <td id=\"T_37cba_row16_col18\" class=\"data row16 col18\" >0.000000</td>\n",
       "      <td id=\"T_37cba_row16_col19\" class=\"data row16 col19\" >0.200000</td>\n",
       "      <td id=\"T_37cba_row16_col20\" class=\"data row16 col20\" >0.300000</td>\n",
       "      <td id=\"T_37cba_row16_col21\" class=\"data row16 col21\" >0.000000</td>\n",
       "    </tr>\n",
       "    <tr>\n",
       "      <th id=\"T_37cba_level0_row17\" class=\"row_heading level0 row17\" >fd_length</th>\n",
       "      <td id=\"T_37cba_row17_col0\" class=\"data row17 col0\" >-0.000000</td>\n",
       "      <td id=\"T_37cba_row17_col1\" class=\"data row17 col1\" >0.100000</td>\n",
       "      <td id=\"T_37cba_row17_col2\" class=\"data row17 col2\" >0.100000</td>\n",
       "      <td id=\"T_37cba_row17_col3\" class=\"data row17 col3\" >-0.000000</td>\n",
       "      <td id=\"T_37cba_row17_col4\" class=\"data row17 col4\" >0.000000</td>\n",
       "      <td id=\"T_37cba_row17_col5\" class=\"data row17 col5\" >-0.100000</td>\n",
       "      <td id=\"T_37cba_row17_col6\" class=\"data row17 col6\" >-0.000000</td>\n",
       "      <td id=\"T_37cba_row17_col7\" class=\"data row17 col7\" >-0.000000</td>\n",
       "      <td id=\"T_37cba_row17_col8\" class=\"data row17 col8\" >-0.000000</td>\n",
       "      <td id=\"T_37cba_row17_col9\" class=\"data row17 col9\" >0.100000</td>\n",
       "      <td id=\"T_37cba_row17_col10\" class=\"data row17 col10\" >0.200000</td>\n",
       "      <td id=\"T_37cba_row17_col11\" class=\"data row17 col11\" >-0.000000</td>\n",
       "      <td id=\"T_37cba_row17_col12\" class=\"data row17 col12\" >0.200000</td>\n",
       "      <td id=\"T_37cba_row17_col13\" class=\"data row17 col13\" >-0.000000</td>\n",
       "      <td id=\"T_37cba_row17_col14\" class=\"data row17 col14\" >0.200000</td>\n",
       "      <td id=\"T_37cba_row17_col15\" class=\"data row17 col15\" >0.100000</td>\n",
       "      <td id=\"T_37cba_row17_col16\" class=\"data row17 col16\" >0.000000</td>\n",
       "      <td id=\"T_37cba_row17_col17\" class=\"data row17 col17\" >1.000000</td>\n",
       "      <td id=\"T_37cba_row17_col18\" class=\"data row17 col18\" >0.100000</td>\n",
       "      <td id=\"T_37cba_row17_col19\" class=\"data row17 col19\" >0.200000</td>\n",
       "      <td id=\"T_37cba_row17_col20\" class=\"data row17 col20\" >0.200000</td>\n",
       "      <td id=\"T_37cba_row17_col21\" class=\"data row17 col21\" >-0.000000</td>\n",
       "    </tr>\n",
       "    <tr>\n",
       "      <th id=\"T_37cba_level0_row18\" class=\"row_heading level0 row18\" >tld_length</th>\n",
       "      <td id=\"T_37cba_row18_col0\" class=\"data row18 col0\" >-0.100000</td>\n",
       "      <td id=\"T_37cba_row18_col1\" class=\"data row18 col1\" >0.900000</td>\n",
       "      <td id=\"T_37cba_row18_col2\" class=\"data row18 col2\" >0.200000</td>\n",
       "      <td id=\"T_37cba_row18_col3\" class=\"data row18 col3\" >0.300000</td>\n",
       "      <td id=\"T_37cba_row18_col4\" class=\"data row18 col4\" >0.100000</td>\n",
       "      <td id=\"T_37cba_row18_col5\" class=\"data row18 col5\" >0.000000</td>\n",
       "      <td id=\"T_37cba_row18_col6\" class=\"data row18 col6\" >0.000000</td>\n",
       "      <td id=\"T_37cba_row18_col7\" class=\"data row18 col7\" >-0.000000</td>\n",
       "      <td id=\"T_37cba_row18_col8\" class=\"data row18 col8\" >0.200000</td>\n",
       "      <td id=\"T_37cba_row18_col9\" class=\"data row18 col9\" >0.900000</td>\n",
       "      <td id=\"T_37cba_row18_col10\" class=\"data row18 col10\" >0.200000</td>\n",
       "      <td id=\"T_37cba_row18_col11\" class=\"data row18 col11\" >0.300000</td>\n",
       "      <td id=\"T_37cba_row18_col12\" class=\"data row18 col12\" >0.200000</td>\n",
       "      <td id=\"T_37cba_row18_col13\" class=\"data row18 col13\" >0.400000</td>\n",
       "      <td id=\"T_37cba_row18_col14\" class=\"data row18 col14\" >0.400000</td>\n",
       "      <td id=\"T_37cba_row18_col15\" class=\"data row18 col15\" >0.800000</td>\n",
       "      <td id=\"T_37cba_row18_col16\" class=\"data row18 col16\" >0.000000</td>\n",
       "      <td id=\"T_37cba_row18_col17\" class=\"data row18 col17\" >0.100000</td>\n",
       "      <td id=\"T_37cba_row18_col18\" class=\"data row18 col18\" >1.000000</td>\n",
       "      <td id=\"T_37cba_row18_col19\" class=\"data row18 col19\" >0.100000</td>\n",
       "      <td id=\"T_37cba_row18_col20\" class=\"data row18 col20\" >0.400000</td>\n",
       "      <td id=\"T_37cba_row18_col21\" class=\"data row18 col21\" >0.300000</td>\n",
       "    </tr>\n",
       "    <tr>\n",
       "      <th id=\"T_37cba_level0_row19\" class=\"row_heading level0 row19\" >count-digits</th>\n",
       "      <td id=\"T_37cba_row19_col0\" class=\"data row19 col0\" >0.100000</td>\n",
       "      <td id=\"T_37cba_row19_col1\" class=\"data row19 col1\" >0.200000</td>\n",
       "      <td id=\"T_37cba_row19_col2\" class=\"data row19 col2\" >0.300000</td>\n",
       "      <td id=\"T_37cba_row19_col3\" class=\"data row19 col3\" >-0.000000</td>\n",
       "      <td id=\"T_37cba_row19_col4\" class=\"data row19 col4\" >0.000000</td>\n",
       "      <td id=\"T_37cba_row19_col5\" class=\"data row19 col5\" >0.200000</td>\n",
       "      <td id=\"T_37cba_row19_col6\" class=\"data row19 col6\" >-0.000000</td>\n",
       "      <td id=\"T_37cba_row19_col7\" class=\"data row19 col7\" >-0.000000</td>\n",
       "      <td id=\"T_37cba_row19_col8\" class=\"data row19 col8\" >0.100000</td>\n",
       "      <td id=\"T_37cba_row19_col9\" class=\"data row19 col9\" >0.200000</td>\n",
       "      <td id=\"T_37cba_row19_col10\" class=\"data row19 col10\" >0.400000</td>\n",
       "      <td id=\"T_37cba_row19_col11\" class=\"data row19 col11\" >0.200000</td>\n",
       "      <td id=\"T_37cba_row19_col12\" class=\"data row19 col12\" >0.100000</td>\n",
       "      <td id=\"T_37cba_row19_col13\" class=\"data row19 col13\" >0.200000</td>\n",
       "      <td id=\"T_37cba_row19_col14\" class=\"data row19 col14\" >0.700000</td>\n",
       "      <td id=\"T_37cba_row19_col15\" class=\"data row19 col15\" >0.100000</td>\n",
       "      <td id=\"T_37cba_row19_col16\" class=\"data row19 col16\" >0.200000</td>\n",
       "      <td id=\"T_37cba_row19_col17\" class=\"data row19 col17\" >0.200000</td>\n",
       "      <td id=\"T_37cba_row19_col18\" class=\"data row19 col18\" >0.100000</td>\n",
       "      <td id=\"T_37cba_row19_col19\" class=\"data row19 col19\" >1.000000</td>\n",
       "      <td id=\"T_37cba_row19_col20\" class=\"data row19 col20\" >0.500000</td>\n",
       "      <td id=\"T_37cba_row19_col21\" class=\"data row19 col21\" >-0.000000</td>\n",
       "    </tr>\n",
       "    <tr>\n",
       "      <th id=\"T_37cba_level0_row20\" class=\"row_heading level0 row20\" >count-letters</th>\n",
       "      <td id=\"T_37cba_row20_col0\" class=\"data row20 col0\" >-0.100000</td>\n",
       "      <td id=\"T_37cba_row20_col1\" class=\"data row20 col1\" >0.300000</td>\n",
       "      <td id=\"T_37cba_row20_col2\" class=\"data row20 col2\" >0.400000</td>\n",
       "      <td id=\"T_37cba_row20_col3\" class=\"data row20 col3\" >0.200000</td>\n",
       "      <td id=\"T_37cba_row20_col4\" class=\"data row20 col4\" >0.000000</td>\n",
       "      <td id=\"T_37cba_row20_col5\" class=\"data row20 col5\" >0.300000</td>\n",
       "      <td id=\"T_37cba_row20_col6\" class=\"data row20 col6\" >0.000000</td>\n",
       "      <td id=\"T_37cba_row20_col7\" class=\"data row20 col7\" >0.000000</td>\n",
       "      <td id=\"T_37cba_row20_col8\" class=\"data row20 col8\" >0.100000</td>\n",
       "      <td id=\"T_37cba_row20_col9\" class=\"data row20 col9\" >0.400000</td>\n",
       "      <td id=\"T_37cba_row20_col10\" class=\"data row20 col10\" >0.100000</td>\n",
       "      <td id=\"T_37cba_row20_col11\" class=\"data row20 col11\" >0.400000</td>\n",
       "      <td id=\"T_37cba_row20_col12\" class=\"data row20 col12\" >0.400000</td>\n",
       "      <td id=\"T_37cba_row20_col13\" class=\"data row20 col13\" >0.500000</td>\n",
       "      <td id=\"T_37cba_row20_col14\" class=\"data row20 col14\" >1.000000</td>\n",
       "      <td id=\"T_37cba_row20_col15\" class=\"data row20 col15\" >0.400000</td>\n",
       "      <td id=\"T_37cba_row20_col16\" class=\"data row20 col16\" >0.300000</td>\n",
       "      <td id=\"T_37cba_row20_col17\" class=\"data row20 col17\" >0.200000</td>\n",
       "      <td id=\"T_37cba_row20_col18\" class=\"data row20 col18\" >0.400000</td>\n",
       "      <td id=\"T_37cba_row20_col19\" class=\"data row20 col19\" >0.500000</td>\n",
       "      <td id=\"T_37cba_row20_col20\" class=\"data row20 col20\" >1.000000</td>\n",
       "      <td id=\"T_37cba_row20_col21\" class=\"data row20 col21\" >-0.100000</td>\n",
       "    </tr>\n",
       "    <tr>\n",
       "      <th id=\"T_37cba_level0_row21\" class=\"row_heading level0 row21\" >type_code</th>\n",
       "      <td id=\"T_37cba_row21_col0\" class=\"data row21 col0\" >0.100000</td>\n",
       "      <td id=\"T_37cba_row21_col1\" class=\"data row21 col1\" >0.300000</td>\n",
       "      <td id=\"T_37cba_row21_col2\" class=\"data row21 col2\" >0.200000</td>\n",
       "      <td id=\"T_37cba_row21_col3\" class=\"data row21 col3\" >0.400000</td>\n",
       "      <td id=\"T_37cba_row21_col4\" class=\"data row21 col4\" >0.000000</td>\n",
       "      <td id=\"T_37cba_row21_col5\" class=\"data row21 col5\" >-0.100000</td>\n",
       "      <td id=\"T_37cba_row21_col6\" class=\"data row21 col6\" >-0.000000</td>\n",
       "      <td id=\"T_37cba_row21_col7\" class=\"data row21 col7\" >-0.000000</td>\n",
       "      <td id=\"T_37cba_row21_col8\" class=\"data row21 col8\" >0.200000</td>\n",
       "      <td id=\"T_37cba_row21_col9\" class=\"data row21 col9\" >0.300000</td>\n",
       "      <td id=\"T_37cba_row21_col10\" class=\"data row21 col10\" >-0.000000</td>\n",
       "      <td id=\"T_37cba_row21_col11\" class=\"data row21 col11\" >-0.000000</td>\n",
       "      <td id=\"T_37cba_row21_col12\" class=\"data row21 col12\" >-0.200000</td>\n",
       "      <td id=\"T_37cba_row21_col13\" class=\"data row21 col13\" >0.000000</td>\n",
       "      <td id=\"T_37cba_row21_col14\" class=\"data row21 col14\" >-0.100000</td>\n",
       "      <td id=\"T_37cba_row21_col15\" class=\"data row21 col15\" >0.300000</td>\n",
       "      <td id=\"T_37cba_row21_col16\" class=\"data row21 col16\" >0.000000</td>\n",
       "      <td id=\"T_37cba_row21_col17\" class=\"data row21 col17\" >-0.000000</td>\n",
       "      <td id=\"T_37cba_row21_col18\" class=\"data row21 col18\" >0.300000</td>\n",
       "      <td id=\"T_37cba_row21_col19\" class=\"data row21 col19\" >-0.000000</td>\n",
       "      <td id=\"T_37cba_row21_col20\" class=\"data row21 col20\" >-0.100000</td>\n",
       "      <td id=\"T_37cba_row21_col21\" class=\"data row21 col21\" >1.000000</td>\n",
       "    </tr>\n",
       "  </tbody>\n",
       "</table>\n"
      ],
      "text/plain": [
       "<pandas.io.formats.style.Styler at 0x1e248067c70>"
      ]
     },
     "execution_count": 58,
     "metadata": {},
     "output_type": "execute_result"
    }
   ],
   "source": [
    "corr = df.corr().apply(lambda x: round(x,2))\n",
    "z = corr.style.highlight_between(left=-1,right=-0.90,color='red').highlight_between(left=0.90,right=1,color='red')\n",
    "z"
   ]
  },
  {
   "cell_type": "code",
   "execution_count": 59,
   "id": "0aef1a7a",
   "metadata": {},
   "outputs": [
    {
     "data": {
      "image/png": "[encoded data removed]",
      "text/plain": [
       "<Figure size 1800x1800 with 2 Axes>"
      ]
     },
     "metadata": {},
     "output_type": "display_data"
    }
   ],
   "source": [
    "plt.figure(figsize=(18,18))\n",
    "sns.heatmap(corr,annot = True)\n",
    "plt.show()"
   ]
  },
  {
   "cell_type": "markdown",
   "id": "f4bb183e",
   "metadata": {},
   "source": [
    "# **<a id=\"section-10\"></a><font color='3D87A6'> p_value and variance inflation factor </font>**\n",
    "### checking 'P>|t|' > 0.05 and vif > 5"
   ]
  },
  {
   "cell_type": "code",
   "execution_count": 60,
   "id": "5c4621b7",
   "metadata": {},
   "outputs": [],
   "source": [
    "import statsmodels.api as sm\n",
    "from statsmodels.stats.outliers_influence import variance_inflation_factor\n",
    "sm_data = sm.add_constant(x)"
   ]
  },
  {
   "cell_type": "code",
   "execution_count": 62,
   "id": "c4e3a740",
   "metadata": {},
   "outputs": [
    {
     "name": "stdout",
     "output_type": "stream",
     "text": [
      "Warning: Maximum number of iterations has been exceeded.\n",
      "         Current function value: 0.348706\n",
      "         Iterations: 35\n"
     ]
    },
    {
     "name": "stderr",
     "output_type": "stream",
     "text": [
      "C:\\Users\\DELL\\anaconda3\\lib\\site-packages\\statsmodels\\base\\model.py:604: ConvergenceWarning: Maximum Likelihood optimization failed to converge. Check mle_retvals\n",
      "  warnings.warn(\"Maximum Likelihood optimization failed to \"\n"
     ]
    }
   ],
   "source": [
    "sm_model = sm.MNLogit(y,sm_data).fit()"
   ]
  },
  {
   "cell_type": "code",
   "execution_count": 63,
   "id": "0087af57",
   "metadata": {},
   "outputs": [
    {
     "data": {
      "text/html": [
       "<div>\n",
       "<style scoped>\n",
       "    .dataframe tbody tr th:only-of-type {\n",
       "        vertical-align: middle;\n",
       "    }\n",
       "\n",
       "    .dataframe tbody tr th {\n",
       "        vertical-align: top;\n",
       "    }\n",
       "\n",
       "    .dataframe thead th {\n",
       "        text-align: right;\n",
       "    }\n",
       "</style>\n",
       "<table border=\"1\" class=\"dataframe\">\n",
       "  <thead>\n",
       "    <tr style=\"text-align: right;\">\n",
       "      <th></th>\n",
       "      <th>0</th>\n",
       "      <th>1</th>\n",
       "      <th>2</th>\n",
       "    </tr>\n",
       "  </thead>\n",
       "  <tbody>\n",
       "    <tr>\n",
       "      <th>const</th>\n",
       "      <td>9.272129e-01</td>\n",
       "      <td>0.000000e+00</td>\n",
       "      <td>7.370294e-152</td>\n",
       "    </tr>\n",
       "    <tr>\n",
       "      <th>use_of_ip</th>\n",
       "      <td>9.594611e-01</td>\n",
       "      <td>4.484388e-32</td>\n",
       "      <td>3.060984e-16</td>\n",
       "    </tr>\n",
       "    <tr>\n",
       "      <th>abnormal_url</th>\n",
       "      <td>9.065773e-01</td>\n",
       "      <td>0.000000e+00</td>\n",
       "      <td>3.475961e-62</td>\n",
       "    </tr>\n",
       "    <tr>\n",
       "      <th>count.</th>\n",
       "      <td>1.071432e-20</td>\n",
       "      <td>0.000000e+00</td>\n",
       "      <td>2.018376e-121</td>\n",
       "    </tr>\n",
       "    <tr>\n",
       "      <th>count-www</th>\n",
       "      <td>0.000000e+00</td>\n",
       "      <td>0.000000e+00</td>\n",
       "      <td>0.000000e+00</td>\n",
       "    </tr>\n",
       "    <tr>\n",
       "      <th>count@</th>\n",
       "      <td>7.463945e-13</td>\n",
       "      <td>1.152723e-01</td>\n",
       "      <td>1.773031e-106</td>\n",
       "    </tr>\n",
       "    <tr>\n",
       "      <th>count_dir</th>\n",
       "      <td>0.000000e+00</td>\n",
       "      <td>1.754404e-27</td>\n",
       "      <td>0.000000e+00</td>\n",
       "    </tr>\n",
       "    <tr>\n",
       "      <th>count_embed_domian</th>\n",
       "      <td>9.778799e-01</td>\n",
       "      <td>1.564371e-16</td>\n",
       "      <td>1.100243e-40</td>\n",
       "    </tr>\n",
       "    <tr>\n",
       "      <th>short_url</th>\n",
       "      <td>5.816493e-95</td>\n",
       "      <td>2.035795e-08</td>\n",
       "      <td>4.579256e-05</td>\n",
       "    </tr>\n",
       "    <tr>\n",
       "      <th>count-https</th>\n",
       "      <td>8.955565e-01</td>\n",
       "      <td>0.000000e+00</td>\n",
       "      <td>0.000000e+00</td>\n",
       "    </tr>\n",
       "    <tr>\n",
       "      <th>count-http</th>\n",
       "      <td>1.770945e-161</td>\n",
       "      <td>3.154806e-07</td>\n",
       "      <td>1.780487e-52</td>\n",
       "    </tr>\n",
       "    <tr>\n",
       "      <th>count%</th>\n",
       "      <td>2.158083e-04</td>\n",
       "      <td>2.600053e-89</td>\n",
       "      <td>5.548428e-84</td>\n",
       "    </tr>\n",
       "    <tr>\n",
       "      <th>count?</th>\n",
       "      <td>7.973774e-68</td>\n",
       "      <td>1.233317e-178</td>\n",
       "      <td>0.000000e+00</td>\n",
       "    </tr>\n",
       "    <tr>\n",
       "      <th>count-</th>\n",
       "      <td>1.668763e-47</td>\n",
       "      <td>1.560751e-39</td>\n",
       "      <td>0.000000e+00</td>\n",
       "    </tr>\n",
       "    <tr>\n",
       "      <th>count=</th>\n",
       "      <td>1.803001e-146</td>\n",
       "      <td>0.000000e+00</td>\n",
       "      <td>3.147118e-04</td>\n",
       "    </tr>\n",
       "    <tr>\n",
       "      <th>url_length</th>\n",
       "      <td>1.813182e-186</td>\n",
       "      <td>6.279263e-112</td>\n",
       "      <td>1.116394e-68</td>\n",
       "    </tr>\n",
       "    <tr>\n",
       "      <th>hostname_length</th>\n",
       "      <td>0.000000e+00</td>\n",
       "      <td>0.000000e+00</td>\n",
       "      <td>0.000000e+00</td>\n",
       "    </tr>\n",
       "    <tr>\n",
       "      <th>sus_url</th>\n",
       "      <td>0.000000e+00</td>\n",
       "      <td>2.030041e-265</td>\n",
       "      <td>1.625471e-18</td>\n",
       "    </tr>\n",
       "    <tr>\n",
       "      <th>fd_length</th>\n",
       "      <td>0.000000e+00</td>\n",
       "      <td>1.462111e-194</td>\n",
       "      <td>0.000000e+00</td>\n",
       "    </tr>\n",
       "    <tr>\n",
       "      <th>tld_length</th>\n",
       "      <td>3.324944e-51</td>\n",
       "      <td>5.312648e-151</td>\n",
       "      <td>1.971623e-06</td>\n",
       "    </tr>\n",
       "    <tr>\n",
       "      <th>count-digits</th>\n",
       "      <td>1.379812e-72</td>\n",
       "      <td>1.461603e-128</td>\n",
       "      <td>5.946008e-87</td>\n",
       "    </tr>\n",
       "    <tr>\n",
       "      <th>count-letters</th>\n",
       "      <td>3.783399e-172</td>\n",
       "      <td>2.819341e-42</td>\n",
       "      <td>3.990139e-36</td>\n",
       "    </tr>\n",
       "  </tbody>\n",
       "</table>\n",
       "</div>"
      ],
      "text/plain": [
       "                                0              1              2\n",
       "const                9.272129e-01   0.000000e+00  7.370294e-152\n",
       "use_of_ip            9.594611e-01   4.484388e-32   3.060984e-16\n",
       "abnormal_url         9.065773e-01   0.000000e+00   3.475961e-62\n",
       "count.               1.071432e-20   0.000000e+00  2.018376e-121\n",
       "count-www            0.000000e+00   0.000000e+00   0.000000e+00\n",
       "count@               7.463945e-13   1.152723e-01  1.773031e-106\n",
       "count_dir            0.000000e+00   1.754404e-27   0.000000e+00\n",
       "count_embed_domian   9.778799e-01   1.564371e-16   1.100243e-40\n",
       "short_url            5.816493e-95   2.035795e-08   4.579256e-05\n",
       "count-https          8.955565e-01   0.000000e+00   0.000000e+00\n",
       "count-http          1.770945e-161   3.154806e-07   1.780487e-52\n",
       "count%               2.158083e-04   2.600053e-89   5.548428e-84\n",
       "count?               7.973774e-68  1.233317e-178   0.000000e+00\n",
       "count-               1.668763e-47   1.560751e-39   0.000000e+00\n",
       "count=              1.803001e-146   0.000000e+00   3.147118e-04\n",
       "url_length          1.813182e-186  6.279263e-112   1.116394e-68\n",
       "hostname_length      0.000000e+00   0.000000e+00   0.000000e+00\n",
       "sus_url              0.000000e+00  2.030041e-265   1.625471e-18\n",
       "fd_length            0.000000e+00  1.462111e-194   0.000000e+00\n",
       "tld_length           3.324944e-51  5.312648e-151   1.971623e-06\n",
       "count-digits         1.379812e-72  1.461603e-128   5.946008e-87\n",
       "count-letters       3.783399e-172   2.819341e-42   3.990139e-36"
      ]
     },
     "execution_count": 63,
     "metadata": {},
     "output_type": "execute_result"
    }
   ],
   "source": [
    "sm_model.pvalues"
   ]
  },
  {
   "cell_type": "markdown",
   "id": "a64a710f",
   "metadata": {},
   "source": [
    "#### creating the function to create dataframe to show vif and p_value at a time to comapare both wrt that feature(column)"
   ]
  },
  {
   "cell_type": "raw",
   "id": "ae1e7fe2",
   "metadata": {},
   "source": [
    "def df_of_vif_pvalue():\n",
    "    p_value_df = pd.DataFrame(sm_model.pvalues.apply(lambda sm_data: round(sm_data,6))).reset_indesm_data()\n",
    "    p_value_df.columns=[\"feature_names\",'p_value_1','p_value_2','p_value_3']\n",
    "    def VIF(sm_data):\n",
    "        vif_df = pd.DataFrame()\n",
    "        vif_df[\"feature_names\"] = sm_data.columns\n",
    "        vif_df[\"vif\"] = [variance_inflation_factor(sm_data.values,i) for i in range(sm_data.shape[1])]\n",
    "        vif_df[\"vif\"] = round(vif_df[\"vif\"],2)\n",
    "        vif_df = vif_df.sort_values(by = \"vif\",ascending = False)\n",
    "        return vif_df\n",
    "    global vif_pvalue_df\n",
    "    vif_pvalue_df = pd.merge(p_value_df,VIF(sm_data), on = \"feature_names\")\n",
    "    return vif_pvalue_df"
   ]
  },
  {
   "cell_type": "markdown",
   "id": "58080b90",
   "metadata": {},
   "source": [
    "## creating the function to check high vif and p_value both"
   ]
  },
  {
   "cell_type": "raw",
   "id": "2516dca5",
   "metadata": {},
   "source": [
    "def High_vif_pvalue(vif_pvalue_df):\n",
    "    global lst_feature_to_del\n",
    "    lst_feature_to_del = []\n",
    "    '''vif_pvalue is a DataFrame having pvalues and vif'''\n",
    "    for i in range(len(vif_pvalue_df)):\n",
    "        if vif_pvalue_df[\"vif\"][i] > 5 and vif_pvalue_df['p_value_1','p_value_2','p_value_3'][i] >0.05:\n",
    "            lst_feature_to_del.append(vif_pvalue_df[\"feature_names\"][i])\n",
    "    return lst_feature_to_del"
   ]
  },
  {
   "cell_type": "raw",
   "id": "08c3bfa2",
   "metadata": {},
   "source": [
    "def High_vif_pvalue1(vif_pvalue_df):\n",
    "    global lst_feature_to_del\n",
    "    lst_feature_to_del = []\n",
    "    '''vif_pvalue is a DataFrame having pvalues and vif'''\n",
    "    for i in range(len(vif_pvalue_df)):\n",
    "        if vif_pvalue_df[\"vif\"][i] > 5 and vif_pvalue_df[\"p_values_1\"][i] >0.05:\n",
    "            lst_feature_to_del.append(vif_pvalue_df[\"feature_names\"][i])\n",
    "    return lst_feature_to_del"
   ]
  },
  {
   "cell_type": "raw",
   "id": "864cd194",
   "metadata": {},
   "source": [
    "## checking the features whose vif and p_value both are high\n",
    "High_vif_pvalue1(vif_pvalue_df1)"
   ]
  },
  {
   "cell_type": "markdown",
   "id": "a028c23d",
   "metadata": {},
   "source": [
    "# **<a id=\"section-11\"></a><font color='3D87A6'> Train Test Split </font>**\n"
   ]
  },
  {
   "cell_type": "code",
   "execution_count": 157,
   "id": "c0b6ea77",
   "metadata": {},
   "outputs": [],
   "source": [
    "x_train, x_test, y_train, y_test = train_test_split(x, y, stratify=y, test_size=0.9,shuffle=True, random_state=5)"
   ]
  },
  {
   "cell_type": "code",
   "execution_count": 158,
   "id": "cc65393f",
   "metadata": {},
   "outputs": [
    {
     "data": {
      "text/plain": [
       "((65119, 21), (65119,), (586072, 21), (586072,))"
      ]
     },
     "execution_count": 158,
     "metadata": {},
     "output_type": "execute_result"
    }
   ],
   "source": [
    "x_train.shape,y_train.shape,x_test.shape,y_test.shape"
   ]
  },
  {
   "cell_type": "code",
   "execution_count": 159,
   "id": "9fa76c3c",
   "metadata": {},
   "outputs": [],
   "source": [
    "x_trai, x_tes, y_trai, y_tes = train_test_split(x, y, stratify=y, test_size=0.1,shuffle=True, random_state=5)"
   ]
  },
  {
   "cell_type": "markdown",
   "id": "3a282411",
   "metadata": {},
   "source": [
    "# **<a id=\"section-12\"></a><font color='3D87A6'> Data Balancing </font>**\n"
   ]
  },
  {
   "cell_type": "code",
   "execution_count": 160,
   "id": "0227c6d1",
   "metadata": {},
   "outputs": [
    {
     "data": {
      "text/plain": [
       "0    42810\n",
       "1     9646\n",
       "3     9411\n",
       "2     3252\n",
       "Name: type_code, dtype: int64"
      ]
     },
     "execution_count": 160,
     "metadata": {},
     "output_type": "execute_result"
    }
   ],
   "source": [
    "y_train.value_counts()"
   ]
  },
  {
   "cell_type": "code",
   "execution_count": 161,
   "id": "9a5b15cc",
   "metadata": {},
   "outputs": [],
   "source": [
    "from imblearn.over_sampling import SMOTE"
   ]
  },
  {
   "cell_type": "code",
   "execution_count": 162,
   "id": "5b09f384",
   "metadata": {},
   "outputs": [],
   "source": [
    "smote = SMOTE(random_state=42)\n",
    "\n",
    "# Fit the SMOTE object to the training data and oversample it\n",
    "x_train_oversampled, y_train_oversampled = smote.fit_resample(x_train, y_train)"
   ]
  },
  {
   "cell_type": "code",
   "execution_count": 163,
   "id": "ccac6094",
   "metadata": {},
   "outputs": [
    {
     "data": {
      "text/plain": [
       "0    42810\n",
       "3    42810\n",
       "2    42810\n",
       "1    42810\n",
       "Name: type_code, dtype: int64"
      ]
     },
     "execution_count": 163,
     "metadata": {},
     "output_type": "execute_result"
    }
   ],
   "source": [
    "y_train_oversampled.value_counts()"
   ]
  },
  {
   "cell_type": "markdown",
   "id": "becc5af1",
   "metadata": {},
   "source": [
    "# **<a id=\"section-13\"></a><font color='3D87A6'> Model Building & Hyperparameter tuning </font>**"
   ]
  },
  {
   "cell_type": "code",
   "execution_count": 164,
   "id": "9aa32095",
   "metadata": {},
   "outputs": [],
   "source": [
    "from sklearn.model_selection import GridSearchCV\n",
    "from sklearn.svm import SVC\n",
    "from sklearn.linear_model import LogisticRegression\n",
    "from sklearn.ensemble import RandomForestClassifier, GradientBoostingClassifier, AdaBoostClassifier,BaggingClassifier\n",
    "from sklearn.neighbors import KNeighborsClassifier\n",
    "from sklearn.tree import DecisionTreeClassifier\n",
    "from xgboost import XGBClassifier"
   ]
  },
  {
   "cell_type": "code",
   "execution_count": null,
   "id": "3c666c16",
   "metadata": {},
   "outputs": [],
   "source": [
    "model_params = {\n",
    "    \"random_forest\": {'model' : RandomForestClassifier(),\n",
    "                      'params' : {'n_estimators' : [200,250,100,150]\n",
    "                                 }\n",
    "                     },\n",
    "    'logistic_regression' : {\n",
    "        'model' : LogisticRegression(solver='sag', multi_class='multinomial'),\n",
    "        'params':{\"C\" : [1,5,10,50]}\n",
    "    },\n",
    "    \"GradientBoostingClassifier\":{\"model\": GradientBoostingClassifier(),\n",
    "                                \"params\" : {'learning_rate':[0.1,0.2,0.3],'n_estimators':list(range(1,200,50)),'subsample':[1.0,2.0,3.0,4.0],'criterion':['friedman_mse']}\n",
    "                                  },\n",
    "    \"KNN\" : {\"model\" : KNeighborsClassifier(),\n",
    "            \"params\" : {\"n_neighbors\":list(range(3,20,6)),'weights':['uniform'],'algorithm':['auto'],'leaf_size':list(range(10,60,15)),'p':[2,4,5,6],'metric':['minkowski']}\n",
    "            }\n",
    "    }"
   ]
  },
  {
   "cell_type": "code",
   "execution_count": null,
   "id": "e8cec32d",
   "metadata": {},
   "outputs": [],
   "source": [
    "scores = []\n",
    "\n",
    "for model_name, mp in model_params.items():\n",
    "    clf = GridSearchCV(mp[\"model\"],mp['params'], cv =10, return_train_score = False)\n",
    "    clf.fit(x, y)\n",
    "    scores.append({\n",
    "        \"model\" : model_name,\n",
    "        'best_score': clf.best_score_,\n",
    "        'best_params' : clf.best_params_})\n",
    "mod_df = pd.DataFrame(scores,columns = [\"model\",\"best_score\",\"best_params\"])\n",
    "mod_df"
   ]
  },
  {
   "cell_type": "code",
   "execution_count": null,
   "id": "ce90c980",
   "metadata": {},
   "outputs": [],
   "source": [
    "model_params = {\n",
    "    'decision_tree': {'model': DecisionTreeClassifier(),\n",
    "            'params' : {\n",
    "                \"criterion\" :[\"gini\", \"entropy\"],\n",
    "                'splitter': [ 'best'],\n",
    "                \"min_samples_split\": [2,4,6],\n",
    "                'random_state': [36]}\n",
    "           },\n",
    "    \"AdaBoostDT\": {'model' : AdaBoostClassifier(),\n",
    "                   'params' : {'n_estimators' : [10,50,100,150,200],\n",
    "                               'learning_rate':[0.1,0.2,0.3,0.4],\n",
    "                               \"algorithm\" : ['SAMME', 'SAMME.R']}\n",
    "                     },\n",
    "    'xgboost_classifier' : {'model' : XGBClassifier(objective='multi:softmax', num_classes=4),\n",
    "        'params':{\"n_estimators\" : [1,30,100,150,200],\n",
    "                 'learning_rate':[0.1,0.2,0.3,0.4],\n",
    "                 }\n",
    "                           }\n",
    "}"
   ]
  },
  {
   "cell_type": "code",
   "execution_count": null,
   "id": "3d539ec4",
   "metadata": {},
   "outputs": [],
   "source": [
    "scores = []\n",
    "\n",
    "for model_name, mp in model_params.items():\n",
    "    clf = GridSearchCV(mp[\"model\"],mp['params'], cv =10, return_train_score = False)\n",
    "    clf.fit(x, y)\n",
    "    scores.append({\n",
    "        \"model\" : model_name,\n",
    "        'best_score': clf.best_score_,\n",
    "        'best_params' : clf.best_params_})\n",
    "mod_df1 = pd.DataFrame(scores,columns = [\"model\",\"best_score\",\"best_params\"])\n",
    "mod_df1"
   ]
  },
  {
   "cell_type": "code",
   "execution_count": null,
   "id": "92047f45",
   "metadata": {},
   "outputs": [],
   "source": [
    "modeles_df = pd.concat([mod_df,mod_df1]).set_index('model',drop = True)\n",
    "modeles_df"
   ]
  },
  {
   "cell_type": "code",
   "execution_count": 165,
   "id": "4e40301a",
   "metadata": {},
   "outputs": [
    {
     "data": {
      "text/plain": [
       "(21, 22)"
      ]
     },
     "execution_count": 165,
     "metadata": {},
     "output_type": "execute_result"
    }
   ],
   "source": [
    "len(x.columns),len(df.columns)"
   ]
  },
  {
   "cell_type": "code",
   "execution_count": 166,
   "id": "1b896e91",
   "metadata": {},
   "outputs": [
    {
     "data": {
      "text/html": [
       "<div>\n",
       "<style scoped>\n",
       "    .dataframe tbody tr th:only-of-type {\n",
       "        vertical-align: middle;\n",
       "    }\n",
       "\n",
       "    .dataframe tbody tr th {\n",
       "        vertical-align: top;\n",
       "    }\n",
       "\n",
       "    .dataframe thead th {\n",
       "        text-align: right;\n",
       "    }\n",
       "</style>\n",
       "<table border=\"1\" class=\"dataframe\">\n",
       "  <thead>\n",
       "    <tr style=\"text-align: right;\">\n",
       "      <th></th>\n",
       "      <th>use_of_ip</th>\n",
       "      <th>abnormal_url</th>\n",
       "      <th>count.</th>\n",
       "      <th>count-www</th>\n",
       "      <th>count@</th>\n",
       "      <th>count_dir</th>\n",
       "      <th>count_embed_domian</th>\n",
       "      <th>short_url</th>\n",
       "      <th>count-https</th>\n",
       "      <th>count-http</th>\n",
       "      <th>count%</th>\n",
       "      <th>count?</th>\n",
       "      <th>count-</th>\n",
       "      <th>count=</th>\n",
       "      <th>url_length</th>\n",
       "      <th>hostname_length</th>\n",
       "      <th>sus_url</th>\n",
       "      <th>fd_length</th>\n",
       "      <th>tld_length</th>\n",
       "      <th>count-digits</th>\n",
       "      <th>count-letters</th>\n",
       "      <th>type_code</th>\n",
       "    </tr>\n",
       "  </thead>\n",
       "  <tbody>\n",
       "    <tr>\n",
       "      <th>0</th>\n",
       "      <td>0.0</td>\n",
       "      <td>0.0</td>\n",
       "      <td>0.047619</td>\n",
       "      <td>0.0</td>\n",
       "      <td>0.0</td>\n",
       "      <td>0.000000</td>\n",
       "      <td>0.0</td>\n",
       "      <td>0.0</td>\n",
       "      <td>0.0</td>\n",
       "      <td>0.000000</td>\n",
       "      <td>0.0</td>\n",
       "      <td>0.00</td>\n",
       "      <td>0.011494</td>\n",
       "      <td>0.000000</td>\n",
       "      <td>0.006900</td>\n",
       "      <td>0.000000</td>\n",
       "      <td>0.0</td>\n",
       "      <td>0.000000</td>\n",
       "      <td>0.000</td>\n",
       "      <td>0.000000</td>\n",
       "      <td>0.006072</td>\n",
       "      <td>3</td>\n",
       "    </tr>\n",
       "    <tr>\n",
       "      <th>1</th>\n",
       "      <td>0.0</td>\n",
       "      <td>0.0</td>\n",
       "      <td>0.047619</td>\n",
       "      <td>0.0</td>\n",
       "      <td>0.0</td>\n",
       "      <td>0.051282</td>\n",
       "      <td>0.0</td>\n",
       "      <td>0.0</td>\n",
       "      <td>0.0</td>\n",
       "      <td>0.000000</td>\n",
       "      <td>0.0</td>\n",
       "      <td>0.00</td>\n",
       "      <td>0.000000</td>\n",
       "      <td>0.000000</td>\n",
       "      <td>0.015639</td>\n",
       "      <td>0.000000</td>\n",
       "      <td>0.0</td>\n",
       "      <td>0.012255</td>\n",
       "      <td>0.000</td>\n",
       "      <td>0.000831</td>\n",
       "      <td>0.013545</td>\n",
       "      <td>0</td>\n",
       "    </tr>\n",
       "    <tr>\n",
       "      <th>2</th>\n",
       "      <td>0.0</td>\n",
       "      <td>0.0</td>\n",
       "      <td>0.047619</td>\n",
       "      <td>0.0</td>\n",
       "      <td>0.0</td>\n",
       "      <td>0.076923</td>\n",
       "      <td>0.0</td>\n",
       "      <td>0.0</td>\n",
       "      <td>0.0</td>\n",
       "      <td>0.000000</td>\n",
       "      <td>0.0</td>\n",
       "      <td>0.00</td>\n",
       "      <td>0.000000</td>\n",
       "      <td>0.000000</td>\n",
       "      <td>0.013799</td>\n",
       "      <td>0.000000</td>\n",
       "      <td>0.0</td>\n",
       "      <td>0.017157</td>\n",
       "      <td>0.000</td>\n",
       "      <td>0.000831</td>\n",
       "      <td>0.011677</td>\n",
       "      <td>0</td>\n",
       "    </tr>\n",
       "    <tr>\n",
       "      <th>3</th>\n",
       "      <td>0.0</td>\n",
       "      <td>1.0</td>\n",
       "      <td>0.071429</td>\n",
       "      <td>0.2</td>\n",
       "      <td>0.0</td>\n",
       "      <td>0.025641</td>\n",
       "      <td>0.0</td>\n",
       "      <td>0.0</td>\n",
       "      <td>0.0</td>\n",
       "      <td>0.111111</td>\n",
       "      <td>0.0</td>\n",
       "      <td>0.05</td>\n",
       "      <td>0.011494</td>\n",
       "      <td>0.078431</td>\n",
       "      <td>0.040018</td>\n",
       "      <td>0.088983</td>\n",
       "      <td>0.0</td>\n",
       "      <td>0.022059</td>\n",
       "      <td>0.075</td>\n",
       "      <td>0.005814</td>\n",
       "      <td>0.029426</td>\n",
       "      <td>1</td>\n",
       "    </tr>\n",
       "    <tr>\n",
       "      <th>4</th>\n",
       "      <td>0.0</td>\n",
       "      <td>1.0</td>\n",
       "      <td>0.047619</td>\n",
       "      <td>0.0</td>\n",
       "      <td>0.0</td>\n",
       "      <td>0.025641</td>\n",
       "      <td>0.0</td>\n",
       "      <td>0.0</td>\n",
       "      <td>0.0</td>\n",
       "      <td>0.111111</td>\n",
       "      <td>0.0</td>\n",
       "      <td>0.05</td>\n",
       "      <td>0.011494</td>\n",
       "      <td>0.058824</td>\n",
       "      <td>0.107636</td>\n",
       "      <td>0.097458</td>\n",
       "      <td>0.0</td>\n",
       "      <td>0.022059</td>\n",
       "      <td>0.100</td>\n",
       "      <td>0.018272</td>\n",
       "      <td>0.092947</td>\n",
       "      <td>1</td>\n",
       "    </tr>\n",
       "  </tbody>\n",
       "</table>\n",
       "</div>"
      ],
      "text/plain": [
       "   use_of_ip  abnormal_url    count.  count-www  count@  count_dir  \\\n",
       "0        0.0           0.0  0.047619        0.0     0.0   0.000000   \n",
       "1        0.0           0.0  0.047619        0.0     0.0   0.051282   \n",
       "2        0.0           0.0  0.047619        0.0     0.0   0.076923   \n",
       "3        0.0           1.0  0.071429        0.2     0.0   0.025641   \n",
       "4        0.0           1.0  0.047619        0.0     0.0   0.025641   \n",
       "\n",
       "   count_embed_domian  short_url  count-https  count-http  count%  count?  \\\n",
       "0                 0.0        0.0          0.0    0.000000     0.0    0.00   \n",
       "1                 0.0        0.0          0.0    0.000000     0.0    0.00   \n",
       "2                 0.0        0.0          0.0    0.000000     0.0    0.00   \n",
       "3                 0.0        0.0          0.0    0.111111     0.0    0.05   \n",
       "4                 0.0        0.0          0.0    0.111111     0.0    0.05   \n",
       "\n",
       "     count-    count=  url_length  hostname_length  sus_url  fd_length  \\\n",
       "0  0.011494  0.000000    0.006900         0.000000      0.0   0.000000   \n",
       "1  0.000000  0.000000    0.015639         0.000000      0.0   0.012255   \n",
       "2  0.000000  0.000000    0.013799         0.000000      0.0   0.017157   \n",
       "3  0.011494  0.078431    0.040018         0.088983      0.0   0.022059   \n",
       "4  0.011494  0.058824    0.107636         0.097458      0.0   0.022059   \n",
       "\n",
       "   tld_length  count-digits  count-letters  type_code  \n",
       "0       0.000      0.000000       0.006072          3  \n",
       "1       0.000      0.000831       0.013545          0  \n",
       "2       0.000      0.000831       0.011677          0  \n",
       "3       0.075      0.005814       0.029426          1  \n",
       "4       0.100      0.018272       0.092947          1  "
      ]
     },
     "execution_count": 166,
     "metadata": {},
     "output_type": "execute_result"
    }
   ],
   "source": [
    "df.head()"
   ]
  },
  {
   "cell_type": "code",
   "execution_count": 167,
   "id": "6e77451e",
   "metadata": {},
   "outputs": [
    {
     "data": {
      "text/html": [
       "<div>\n",
       "<style scoped>\n",
       "    .dataframe tbody tr th:only-of-type {\n",
       "        vertical-align: middle;\n",
       "    }\n",
       "\n",
       "    .dataframe tbody tr th {\n",
       "        vertical-align: top;\n",
       "    }\n",
       "\n",
       "    .dataframe thead th {\n",
       "        text-align: right;\n",
       "    }\n",
       "</style>\n",
       "<table border=\"1\" class=\"dataframe\">\n",
       "  <thead>\n",
       "    <tr style=\"text-align: right;\">\n",
       "      <th></th>\n",
       "      <th>use_of_ip</th>\n",
       "      <th>abnormal_url</th>\n",
       "      <th>count.</th>\n",
       "      <th>count-www</th>\n",
       "      <th>count@</th>\n",
       "      <th>count_dir</th>\n",
       "      <th>count_embed_domian</th>\n",
       "      <th>short_url</th>\n",
       "      <th>count-https</th>\n",
       "      <th>count-http</th>\n",
       "      <th>count%</th>\n",
       "      <th>count?</th>\n",
       "      <th>count-</th>\n",
       "      <th>count=</th>\n",
       "      <th>url_length</th>\n",
       "      <th>hostname_length</th>\n",
       "      <th>sus_url</th>\n",
       "      <th>fd_length</th>\n",
       "      <th>tld_length</th>\n",
       "      <th>count-digits</th>\n",
       "      <th>count-letters</th>\n",
       "    </tr>\n",
       "  </thead>\n",
       "  <tbody>\n",
       "    <tr>\n",
       "      <th>0</th>\n",
       "      <td>0.0</td>\n",
       "      <td>0.0</td>\n",
       "      <td>0.047619</td>\n",
       "      <td>0.0</td>\n",
       "      <td>0.0</td>\n",
       "      <td>0.000000</td>\n",
       "      <td>0.0</td>\n",
       "      <td>0.0</td>\n",
       "      <td>0.0</td>\n",
       "      <td>0.000000</td>\n",
       "      <td>0.0</td>\n",
       "      <td>0.00</td>\n",
       "      <td>0.011494</td>\n",
       "      <td>0.000000</td>\n",
       "      <td>0.006900</td>\n",
       "      <td>0.000000</td>\n",
       "      <td>0.0</td>\n",
       "      <td>0.000000</td>\n",
       "      <td>0.000</td>\n",
       "      <td>0.000000</td>\n",
       "      <td>0.006072</td>\n",
       "    </tr>\n",
       "    <tr>\n",
       "      <th>1</th>\n",
       "      <td>0.0</td>\n",
       "      <td>0.0</td>\n",
       "      <td>0.047619</td>\n",
       "      <td>0.0</td>\n",
       "      <td>0.0</td>\n",
       "      <td>0.051282</td>\n",
       "      <td>0.0</td>\n",
       "      <td>0.0</td>\n",
       "      <td>0.0</td>\n",
       "      <td>0.000000</td>\n",
       "      <td>0.0</td>\n",
       "      <td>0.00</td>\n",
       "      <td>0.000000</td>\n",
       "      <td>0.000000</td>\n",
       "      <td>0.015639</td>\n",
       "      <td>0.000000</td>\n",
       "      <td>0.0</td>\n",
       "      <td>0.012255</td>\n",
       "      <td>0.000</td>\n",
       "      <td>0.000831</td>\n",
       "      <td>0.013545</td>\n",
       "    </tr>\n",
       "    <tr>\n",
       "      <th>2</th>\n",
       "      <td>0.0</td>\n",
       "      <td>0.0</td>\n",
       "      <td>0.047619</td>\n",
       "      <td>0.0</td>\n",
       "      <td>0.0</td>\n",
       "      <td>0.076923</td>\n",
       "      <td>0.0</td>\n",
       "      <td>0.0</td>\n",
       "      <td>0.0</td>\n",
       "      <td>0.000000</td>\n",
       "      <td>0.0</td>\n",
       "      <td>0.00</td>\n",
       "      <td>0.000000</td>\n",
       "      <td>0.000000</td>\n",
       "      <td>0.013799</td>\n",
       "      <td>0.000000</td>\n",
       "      <td>0.0</td>\n",
       "      <td>0.017157</td>\n",
       "      <td>0.000</td>\n",
       "      <td>0.000831</td>\n",
       "      <td>0.011677</td>\n",
       "    </tr>\n",
       "    <tr>\n",
       "      <th>3</th>\n",
       "      <td>0.0</td>\n",
       "      <td>1.0</td>\n",
       "      <td>0.071429</td>\n",
       "      <td>0.2</td>\n",
       "      <td>0.0</td>\n",
       "      <td>0.025641</td>\n",
       "      <td>0.0</td>\n",
       "      <td>0.0</td>\n",
       "      <td>0.0</td>\n",
       "      <td>0.111111</td>\n",
       "      <td>0.0</td>\n",
       "      <td>0.05</td>\n",
       "      <td>0.011494</td>\n",
       "      <td>0.078431</td>\n",
       "      <td>0.040018</td>\n",
       "      <td>0.088983</td>\n",
       "      <td>0.0</td>\n",
       "      <td>0.022059</td>\n",
       "      <td>0.075</td>\n",
       "      <td>0.005814</td>\n",
       "      <td>0.029426</td>\n",
       "    </tr>\n",
       "    <tr>\n",
       "      <th>4</th>\n",
       "      <td>0.0</td>\n",
       "      <td>1.0</td>\n",
       "      <td>0.047619</td>\n",
       "      <td>0.0</td>\n",
       "      <td>0.0</td>\n",
       "      <td>0.025641</td>\n",
       "      <td>0.0</td>\n",
       "      <td>0.0</td>\n",
       "      <td>0.0</td>\n",
       "      <td>0.111111</td>\n",
       "      <td>0.0</td>\n",
       "      <td>0.05</td>\n",
       "      <td>0.011494</td>\n",
       "      <td>0.058824</td>\n",
       "      <td>0.107636</td>\n",
       "      <td>0.097458</td>\n",
       "      <td>0.0</td>\n",
       "      <td>0.022059</td>\n",
       "      <td>0.100</td>\n",
       "      <td>0.018272</td>\n",
       "      <td>0.092947</td>\n",
       "    </tr>\n",
       "  </tbody>\n",
       "</table>\n",
       "</div>"
      ],
      "text/plain": [
       "   use_of_ip  abnormal_url    count.  count-www  count@  count_dir  \\\n",
       "0        0.0           0.0  0.047619        0.0     0.0   0.000000   \n",
       "1        0.0           0.0  0.047619        0.0     0.0   0.051282   \n",
       "2        0.0           0.0  0.047619        0.0     0.0   0.076923   \n",
       "3        0.0           1.0  0.071429        0.2     0.0   0.025641   \n",
       "4        0.0           1.0  0.047619        0.0     0.0   0.025641   \n",
       "\n",
       "   count_embed_domian  short_url  count-https  count-http  count%  count?  \\\n",
       "0                 0.0        0.0          0.0    0.000000     0.0    0.00   \n",
       "1                 0.0        0.0          0.0    0.000000     0.0    0.00   \n",
       "2                 0.0        0.0          0.0    0.000000     0.0    0.00   \n",
       "3                 0.0        0.0          0.0    0.111111     0.0    0.05   \n",
       "4                 0.0        0.0          0.0    0.111111     0.0    0.05   \n",
       "\n",
       "     count-    count=  url_length  hostname_length  sus_url  fd_length  \\\n",
       "0  0.011494  0.000000    0.006900         0.000000      0.0   0.000000   \n",
       "1  0.000000  0.000000    0.015639         0.000000      0.0   0.012255   \n",
       "2  0.000000  0.000000    0.013799         0.000000      0.0   0.017157   \n",
       "3  0.011494  0.078431    0.040018         0.088983      0.0   0.022059   \n",
       "4  0.011494  0.058824    0.107636         0.097458      0.0   0.022059   \n",
       "\n",
       "   tld_length  count-digits  count-letters  \n",
       "0       0.000      0.000000       0.006072  \n",
       "1       0.000      0.000831       0.013545  \n",
       "2       0.000      0.000831       0.011677  \n",
       "3       0.075      0.005814       0.029426  \n",
       "4       0.100      0.018272       0.092947  "
      ]
     },
     "execution_count": 167,
     "metadata": {},
     "output_type": "execute_result"
    }
   ],
   "source": [
    "x.head()"
   ]
  },
  {
   "cell_type": "markdown",
   "id": "f5d5316d",
   "metadata": {},
   "source": [
    "# **<a id=\"section-14\"></a><font color='3D87A6'> ANN Model </font>**"
   ]
  },
  {
   "cell_type": "code",
   "execution_count": 172,
   "id": "81facea0",
   "metadata": {},
   "outputs": [],
   "source": [
    "import tensorflow\n",
    "from tensorflow import keras\n",
    "from keras import Sequential\n",
    "from keras.layers import Dense,Dropout"
   ]
  },
  {
   "cell_type": "code",
   "execution_count": null,
   "id": "ebbd9e32",
   "metadata": {},
   "outputs": [],
   "source": [
    "pip install keras_tuner"
   ]
  },
  {
   "cell_type": "code",
   "execution_count": 173,
   "id": "79940d09",
   "metadata": {},
   "outputs": [],
   "source": [
    "import keras_tuner as kt"
   ]
  },
  {
   "cell_type": "code",
   "execution_count": 179,
   "id": "dba4cce3",
   "metadata": {},
   "outputs": [],
   "source": [
    "def build_model(hp):\n",
    "  model=Sequential()\n",
    "  counter=0\n",
    "  for i in range(hp.Int(\"num_layers\",min_value=1,max_value=10)):\n",
    "    if counter==0:\n",
    "      model.add(Dense(units=hp.Int(\"units\"+str(i),min_value=8,max_value=128,step=8),activation=hp.Choice('Activation'+str(i),values=['relu','tanh','sigmoid']),input_dim=21))\n",
    "      model.add(Dropout(hp.Choice(\"dropout\"+str(i),values=[0.1,0.2,0.3,0.4,0.5,0.6,0.7,0.8,0.9]))) \n",
    "    else:\n",
    "      model.add(Dense(units=hp.Int(\"units\"+str(i),min_value=8,max_value=128,step=8),activation=hp.Choice('Activation'+str(i),values=['relu','tanh','sigmoid'])))\n",
    "      model.add(Dropout(hp.Choice(\"dropout\"+str(i),values=[0.1,0.2,0.3,0.4,0.5,0.6,0.7,0.8,0.9])))\n",
    "    counter+=1\n",
    "  model.add(Dense(4,activation='softmax'))\n",
    "  optimizer=hp.Choice(\"optimizer\",values=['adam','rmsprop','adadelta','sgd','nadam'])\n",
    "  model.compile(optimizer=optimizer,loss='sparse_categorical_crossentropy',metrics=['accuracy'])\n",
    "  return model\n"
   ]
  },
  {
   "cell_type": "code",
   "execution_count": 180,
   "id": "df78a9fd",
   "metadata": {},
   "outputs": [
    {
     "name": "stdout",
     "output_type": "stream",
     "text": [
      "INFO:tensorflow:Reloading Oracle from existing project tuning\\final1\\oracle.json\n"
     ]
    }
   ],
   "source": [
    "tuner=kt.RandomSearch(build_model,objective=\"val_accuracy\",max_trials=3,directory=\"tuning\",project_name=\"final1\")"
   ]
  },
  {
   "cell_type": "code",
   "execution_count": 181,
   "id": "e8757357",
   "metadata": {},
   "outputs": [
    {
     "name": "stdout",
     "output_type": "stream",
     "text": [
      "Trial 3 Complete [00h 05m 03s]\n",
      "val_accuracy: 0.8514742255210876\n",
      "\n",
      "Best val_accuracy So Far: 0.8514742255210876\n",
      "Total elapsed time: 00h 13m 21s\n",
      "INFO:tensorflow:Oracle triggered exit\n"
     ]
    }
   ],
   "source": [
    "tuner.search(x_train,y_train,epochs=5,validation_data=(x_tes,y_tes))"
   ]
  },
  {
   "cell_type": "code",
   "execution_count": 182,
   "id": "7aff8829",
   "metadata": {},
   "outputs": [
    {
     "data": {
      "text/plain": [
       "{'num_layers': 9,\n",
       " 'units0': 112,\n",
       " 'Activation0': 'relu',\n",
       " 'dropout0': 0.4,\n",
       " 'optimizer': 'nadam',\n",
       " 'units1': 96,\n",
       " 'Activation1': 'sigmoid',\n",
       " 'dropout1': 0.3,\n",
       " 'units2': 120,\n",
       " 'Activation2': 'tanh',\n",
       " 'dropout2': 0.6,\n",
       " 'units3': 32,\n",
       " 'Activation3': 'sigmoid',\n",
       " 'dropout3': 0.2,\n",
       " 'units4': 112,\n",
       " 'Activation4': 'sigmoid',\n",
       " 'dropout4': 0.4,\n",
       " 'units5': 72,\n",
       " 'Activation5': 'relu',\n",
       " 'dropout5': 0.3,\n",
       " 'units6': 80,\n",
       " 'Activation6': 'tanh',\n",
       " 'dropout6': 0.2,\n",
       " 'units7': 8,\n",
       " 'Activation7': 'relu',\n",
       " 'dropout7': 0.1,\n",
       " 'units8': 8,\n",
       " 'Activation8': 'relu',\n",
       " 'dropout8': 0.1}"
      ]
     },
     "execution_count": 182,
     "metadata": {},
     "output_type": "execute_result"
    }
   ],
   "source": [
    "tuner.get_best_hyperparameters()[0].values"
   ]
  },
  {
   "cell_type": "code",
   "execution_count": 183,
   "id": "1ea2627e",
   "metadata": {},
   "outputs": [],
   "source": [
    "model=tuner.get_best_models(num_models=1)[0]"
   ]
  },
  {
   "cell_type": "code",
   "execution_count": 184,
   "id": "f8afcf3f",
   "metadata": {},
   "outputs": [
    {
     "name": "stdout",
     "output_type": "stream",
     "text": [
      "Model: \"sequential\"\n",
      "_________________________________________________________________\n",
      " Layer (type)                Output Shape              Param #   \n",
      "=================================================================\n",
      " dense (Dense)               (None, 112)               2464      \n",
      "                                                                 \n",
      " dropout (Dropout)           (None, 112)               0         \n",
      "                                                                 \n",
      " dense_1 (Dense)             (None, 96)                10848     \n",
      "                                                                 \n",
      " dropout_1 (Dropout)         (None, 96)                0         \n",
      "                                                                 \n",
      " dense_2 (Dense)             (None, 120)               11640     \n",
      "                                                                 \n",
      " dropout_2 (Dropout)         (None, 120)               0         \n",
      "                                                                 \n",
      " dense_3 (Dense)             (None, 32)                3872      \n",
      "                                                                 \n",
      " dropout_3 (Dropout)         (None, 32)                0         \n",
      "                                                                 \n",
      " dense_4 (Dense)             (None, 112)               3696      \n",
      "                                                                 \n",
      " dropout_4 (Dropout)         (None, 112)               0         \n",
      "                                                                 \n",
      " dense_5 (Dense)             (None, 72)                8136      \n",
      "                                                                 \n",
      " dropout_5 (Dropout)         (None, 72)                0         \n",
      "                                                                 \n",
      " dense_6 (Dense)             (None, 80)                5840      \n",
      "                                                                 \n",
      " dropout_6 (Dropout)         (None, 80)                0         \n",
      "                                                                 \n",
      " dense_7 (Dense)             (None, 8)                 648       \n",
      "                                                                 \n",
      " dropout_7 (Dropout)         (None, 8)                 0         \n",
      "                                                                 \n",
      " dense_8 (Dense)             (None, 8)                 72        \n",
      "                                                                 \n",
      " dropout_8 (Dropout)         (None, 8)                 0         \n",
      "                                                                 \n",
      " dense_9 (Dense)             (None, 4)                 36        \n",
      "                                                                 \n",
      "=================================================================\n",
      "Total params: 47,252\n",
      "Trainable params: 47,252\n",
      "Non-trainable params: 0\n",
      "_________________________________________________________________\n"
     ]
    }
   ],
   "source": [
    "model.summary()"
   ]
  },
  {
   "cell_type": "code",
   "execution_count": 187,
   "id": "65b671cd",
   "metadata": {},
   "outputs": [
    {
     "name": "stdout",
     "output_type": "stream",
     "text": [
      "Epoch 6/20\n",
      "2035/2035 [==============================] - 90s 42ms/step - loss: 0.4636 - accuracy: 0.8330 - val_loss: 0.4316 - val_accuracy: 0.8471\n",
      "Epoch 7/20\n",
      "2035/2035 [==============================] - 31s 15ms/step - loss: 0.4576 - accuracy: 0.8391 - val_loss: 0.4242 - val_accuracy: 0.8477\n",
      "Epoch 8/20\n",
      "2035/2035 [==============================] - 30s 15ms/step - loss: 0.4510 - accuracy: 0.8427 - val_loss: 0.4129 - val_accuracy: 0.8588\n",
      "Epoch 9/20\n",
      "2035/2035 [==============================] - 23s 11ms/step - loss: 0.4467 - accuracy: 0.8463 - val_loss: 0.4118 - val_accuracy: 0.8599\n",
      "Epoch 10/20\n",
      "2035/2035 [==============================] - 26s 13ms/step - loss: 0.4436 - accuracy: 0.8532 - val_loss: 0.4073 - val_accuracy: 0.8645\n",
      "Epoch 11/20\n",
      "2035/2035 [==============================] - 27s 13ms/step - loss: 0.4363 - accuracy: 0.8608 - val_loss: 0.3874 - val_accuracy: 0.8851\n",
      "Epoch 12/20\n",
      "2035/2035 [==============================] - 26s 13ms/step - loss: 0.4275 - accuracy: 0.8691 - val_loss: 0.3768 - val_accuracy: 0.8837\n",
      "Epoch 13/20\n",
      "2035/2035 [==============================] - 22s 11ms/step - loss: 0.4237 - accuracy: 0.8713 - val_loss: 0.3736 - val_accuracy: 0.8931\n",
      "Epoch 14/20\n",
      "2035/2035 [==============================] - 25s 12ms/step - loss: 0.4136 - accuracy: 0.8780 - val_loss: 0.3696 - val_accuracy: 0.8933\n",
      "Epoch 15/20\n",
      "2035/2035 [==============================] - 27s 13ms/step - loss: 0.4107 - accuracy: 0.8799 - val_loss: 0.3612 - val_accuracy: 0.8934\n",
      "Epoch 16/20\n",
      "2035/2035 [==============================] - 20s 10ms/step - loss: 0.4067 - accuracy: 0.8808 - val_loss: 0.3515 - val_accuracy: 0.8985\n",
      "Epoch 17/20\n",
      "2035/2035 [==============================] - 29s 14ms/step - loss: 0.3975 - accuracy: 0.8849 - val_loss: 0.3425 - val_accuracy: 0.8989\n",
      "Epoch 18/20\n",
      "2035/2035 [==============================] - 24s 12ms/step - loss: 0.3885 - accuracy: 0.8859 - val_loss: 0.3310 - val_accuracy: 0.8968\n",
      "Epoch 19/20\n",
      "2035/2035 [==============================] - 27s 13ms/step - loss: 0.3839 - accuracy: 0.8854 - val_loss: 0.3224 - val_accuracy: 0.9004\n",
      "Epoch 20/20\n",
      "2035/2035 [==============================] - 26s 13ms/step - loss: 0.3749 - accuracy: 0.8872 - val_loss: 0.3222 - val_accuracy: 0.9045\n"
     ]
    },
    {
     "data": {
      "text/plain": [
       "<keras.callbacks.History at 0x1e2742eaf10>"
      ]
     },
     "execution_count": 187,
     "metadata": {},
     "output_type": "execute_result"
    }
   ],
   "source": [
    "model.fit(x_train,y_train,epochs=20,initial_epoch=5,validation_data=(x_tes,y_tes))"
   ]
  },
  {
   "cell_type": "code",
   "execution_count": 188,
   "id": "3be4bf38",
   "metadata": {},
   "outputs": [
    {
     "name": "stdout",
     "output_type": "stream",
     "text": [
      "2035/2035 [==============================] - 8s 4ms/step - loss: 0.3222 - accuracy: 0.9045\n"
     ]
    },
    {
     "data": {
      "text/plain": [
       "[0.3221694529056549, 0.9044686555862427]"
      ]
     },
     "execution_count": 188,
     "metadata": {},
     "output_type": "execute_result"
    }
   ],
   "source": [
    "model.evaluate(x_tes,y_tes)"
   ]
  },
  {
   "cell_type": "code",
   "execution_count": null,
   "id": "be4a128f",
   "metadata": {},
   "outputs": [],
   "source": [
    "ndjeie"
   ]
  },
  {
   "cell_type": "markdown",
   "id": "93249842",
   "metadata": {},
   "source": [
    "# **<a id=\"section-15\"></a><font color='3D87A6'> Creating Best Model </font>**"
   ]
  },
  {
   "cell_type": "raw",
   "id": "8128911d",
   "metadata": {},
   "source": [
    "best_parameter_for_xgboost_classifier = modeles_df.loc[\"xgboost_classifier\"]['best_params']\n",
    "best_parameter_for_xgboost_classifier"
   ]
  },
  {
   "cell_type": "code",
   "execution_count": null,
   "id": "a46d99dc",
   "metadata": {},
   "outputs": [],
   "source": [
    "LogisticRegression()"
   ]
  },
  {
   "cell_type": "code",
   "execution_count": null,
   "id": "b058673b",
   "metadata": {},
   "outputs": [],
   "source": []
  },
  {
   "cell_type": "code",
   "execution_count": null,
   "id": "b4bf6b8e",
   "metadata": {},
   "outputs": [],
   "source": [
    "def main(url):\n",
    "    \n",
    "    status = []\n",
    "    \n",
    "    status.append(having_ip_address(url))\n",
    "    status.append(abnormal_url(url))\n",
    "    status.append(count_dot(url))\n",
    "    status.append(count_www(url))\n",
    "    status.append(count_atrate(url))\n",
    "    status.append(no_of_dir(url))\n",
    "    status.append(no_of_embed(url))\n",
    "    \n",
    "    status.append(shortening_service(url))\n",
    "    status.append(count_https(url))\n",
    "    status.append(count_http(url))\n",
    "    \n",
    "    status.append(count_per(url))\n",
    "    status.append(count_ques(url))\n",
    "    status.append(count_hyphen(url))\n",
    "    status.append(count_equal(url))\n",
    "    \n",
    "    status.append(url_length(url))\n",
    "    status.append(hostname_length(url))\n",
    "    status.append(suspicious_words(url))\n",
    "    status.append(digit_count(url))\n",
    "    status.append(letter_count(url))\n",
    "    status.append(fd_length(url))\n",
    "    tld = get_tld(url,fail_silently=True)\n",
    "      \n",
    "    status.append(tld_length(tld))\n",
    "    \n",
    "    \n",
    "    \n",
    "\n",
    "    return status"
   ]
  },
  {
   "cell_type": "code",
   "execution_count": null,
   "id": "2ac4eee4",
   "metadata": {},
   "outputs": [],
   "source": [
    "\n",
    "def get_prediction_from_url(test_url):\n",
    "    features_test = main(test_url)\n",
    "    # Due to updates to scikit-learn, we now need a 2D array as a parameter to the predict function.\n",
    "    features_test = np.array(features_test).reshape((1, -1))\n",
    "\n",
    "    \n",
    "\n",
    "    pred = svc.predict(features_test)\n",
    "    if int(pred[0]) == 0:\n",
    "        \n",
    "        res=\"SAFE\"\n",
    "        return res\n",
    "    elif int(pred[0]) == 1.0:\n",
    "        \n",
    "        res=\"DEFACEMENT\"\n",
    "        return res\n",
    "    elif int(pred[0]) == 2.0:\n",
    "        res=\"PHISHING\"\n",
    "        return res\n",
    "        \n",
    "    elif int(pred[0]) == 3.0:\n",
    "        \n",
    "        res=\"MALWARE\"\n",
    "        return res\n",
    "    "
   ]
  },
  {
   "cell_type": "code",
   "execution_count": null,
   "id": "05a7ab66",
   "metadata": {},
   "outputs": [],
   "source": [
    "\n",
    "urls = ['titaniumcorporate.co.za','en.wikipedia.org/wiki/North_Dakota',\"http://adventure-nicaragua.net/index.php?option=com_mailto&tmpl=component&link=aHR0cDovL2FkdmVudHVyZS1uaWNhcmFndWEubmV0L2luZGV4LnBocD9vcHRpb249Y29tX2NvbnRlbnQmdmlldz1hcnRpY2xlJmlkPTQ3OmFib3V0JmNhdGlkPTM2OmRlbW8tYXJ0aWNsZXMmSXRlbWlkPTU0\",\"yourbittorrent.com/?q=anthony-hamilton-soulife\",\"http://www.szabadmunkaero.hu/cimoldal.html?start=12\",\"http://www.szabadmunkaero.hu/cimoldal.html?start=12\"]\n",
    "for url in urls:\n",
    "     print(get_prediction_from_url(url))\n"
   ]
  },
  {
   "cell_type": "code",
   "execution_count": null,
   "id": "1c885cb6",
   "metadata": {},
   "outputs": [],
   "source": []
  },
  {
   "cell_type": "code",
   "execution_count": null,
   "id": "e3a50779",
   "metadata": {},
   "outputs": [],
   "source": []
  },
  {
   "cell_type": "markdown",
   "id": "d89fd07a",
   "metadata": {},
   "source": []
  },
  {
   "cell_type": "markdown",
   "id": "dc2e0b82",
   "metadata": {},
   "source": [
    "### first we creating the decision tree model to show the plot of decision tree and then we create our best model i.e.xgboost_classifier model"
   ]
  },
  {
   "cell_type": "code",
   "execution_count": null,
   "id": "695807b8",
   "metadata": {},
   "outputs": [],
   "source": [
    "best_parameter_for_decision_tree = modeles_df.loc[\"decision_tree\"]['best_params']\n",
    "best_parameter_for_decision_tree"
   ]
  },
  {
   "cell_type": "code",
   "execution_count": null,
   "id": "883803ed",
   "metadata": {},
   "outputs": [],
   "source": [
    "model_decision_tree= DecisionTreeClassifier(criterion = 'entropy', min_samples_split= 6, splitter ='best',random_state=36)\n",
    "model_decision_tree.fit(x_train,y_train)"
   ]
  },
  {
   "cell_type": "code",
   "execution_count": null,
   "id": "112b5709",
   "metadata": {},
   "outputs": [],
   "source": [
    "model_decision_tree.score(x_test,y_test)"
   ]
  },
  {
   "cell_type": "code",
   "execution_count": null,
   "id": "2edd097e",
   "metadata": {},
   "outputs": [],
   "source": [
    "from sklearn.tree import plot_tree\n",
    "\n",
    "\n",
    "feature_names = x.columns  ##Xvariables\n",
    "target_names = y.unique().tolist()\n",
    "target_names=[str(i) for i in target_names]\n",
    "print(target_names)#list of target classes\n",
    "\n",
    "plot_tree(model_decision_tree,\n",
    "          feature_names = feature_names,\n",
    "          class_names = target_names,\n",
    "          filled=True,\n",
    "          rounded=True\n",
    "          )\n",
    "plt.figure(figsize=(25,16))\n",
    "plt.savefig('tree.png') ##plt.savefig to save in given file name"
   ]
  },
  {
   "cell_type": "code",
   "execution_count": null,
   "id": "e27f8150",
   "metadata": {},
   "outputs": [],
   "source": [
    "y_test_pred_dt=model_decision_tree.predict(x_test)"
   ]
  },
  {
   "cell_type": "code",
   "execution_count": null,
   "id": "7a8b71f1",
   "metadata": {},
   "outputs": [],
   "source": [
    "print(\"accuracy of best model(decision_tree) : \",accuracy_score(y_test,y_test_pred_dt)*100,\"%\")"
   ]
  },
  {
   "cell_type": "code",
   "execution_count": null,
   "id": "3234abee",
   "metadata": {},
   "outputs": [],
   "source": [
    "print(classification_report(y_test,y_test_pred_dt))"
   ]
  },
  {
   "cell_type": "markdown",
   "id": "38b4bb18",
   "metadata": {},
   "source": [
    "# **<a id=\"section-10\"></a><font color='3D87A6'> Creating our best model </font>**"
   ]
  },
  {
   "cell_type": "code",
   "execution_count": null,
   "id": "942209f1",
   "metadata": {},
   "outputs": [],
   "source": [
    "best_parameter_for_xgboost_classifier = modeles_df.loc[\"xgboost_classifier\"]['best_params']\n",
    "best_parameter_for_xgboost_classifier"
   ]
  },
  {
   "cell_type": "code",
   "execution_count": null,
   "id": "a324a89a",
   "metadata": {},
   "outputs": [],
   "source": [
    "model_xgboost_classifier= XGBClassifier(learning_rate=0.3,n_estimators=200)\n",
    "model_xgboost_classifier.fit(x_train,y_train)"
   ]
  },
  {
   "cell_type": "code",
   "execution_count": null,
   "id": "c516663e",
   "metadata": {},
   "outputs": [],
   "source": [
    "y_test_pred = model_xgboost_classifier.predict(x_test)"
   ]
  },
  {
   "cell_type": "code",
   "execution_count": null,
   "id": "7edbabbd",
   "metadata": {},
   "outputs": [],
   "source": [
    "accuracy_score(y_test,y_test_pred)"
   ]
  },
  {
   "cell_type": "code",
   "execution_count": null,
   "id": "3af4dfc2",
   "metadata": {},
   "outputs": [],
   "source": [
    "cm = confusion_matrix(y_test,y_test_pred)\n",
    "cm"
   ]
  },
  {
   "cell_type": "code",
   "execution_count": null,
   "id": "4fcc5062",
   "metadata": {},
   "outputs": [],
   "source": [
    "TN=cm[0,0]\n",
    "TP=cm[1,1]\n",
    "FN=cm[1,0]\n",
    "FP=cm[0,1]\n",
    "sensitivity=TP/float(TP+FN)\n",
    "specificity=TN/float(TN+FP)"
   ]
  },
  {
   "cell_type": "code",
   "execution_count": null,
   "id": "9c58ae1e",
   "metadata": {},
   "outputs": [],
   "source": [
    "print('The acuuracy of the model = TP+TN/(TP+TN+FP+FN) = ',(TP+TN)/float(TP+TN+FP+FN),'\\n\\n',\n",
    "\n",
    "'Missclassifications = 1-Accuracy = ',1-((TP+TN)/float(TP+TN+FP+FN)),'\\n\\n',\n",
    "\n",
    "'Sensitivity/Recall or True Positive Rate = TP/(TP+FN) = ',TP/float(TP+FN),'\\n\\n',\n",
    "\n",
    "'Specificity or True Negative Rate = TN/(TN+FP) = ',TN/float(TN+FP),'\\n\\n',\n",
    "\n",
    "'Precision/Positive Predictive value = TP/(TP+FP) = ',TP/float(TP+FP),'\\n\\n',\n",
    "\n",
    "'Negative predictive Value = TN/(TN+FN) = ',TN/float(TN+FN),'\\n\\n',\n",
    "\n",
    "'Positive Likelihood Ratio = Sensitivity/(1-Specificity) = ',sensitivity/(1-specificity),'\\n\\n',\n",
    "\n",
    "'Negative likelihood Ratio = (1-Sensitivity)/Specificity = ',(1-sensitivity)/specificity)"
   ]
  },
  {
   "cell_type": "code",
   "execution_count": null,
   "id": "995bccb1",
   "metadata": {},
   "outputs": [],
   "source": [
    "print(\"accuracy of best model(XGBClassifier) : \",accuracy_score(y_test,y_test_pred)*100,\"%\")"
   ]
  },
  {
   "cell_type": "markdown",
   "id": "1e5b28ec",
   "metadata": {},
   "source": [
    "# **<a id=\"section-11\"></a><font color='3D87A6'> roc curve</font>**"
   ]
  },
  {
   "cell_type": "code",
   "execution_count": null,
   "id": "3e74bba2",
   "metadata": {},
   "outputs": [],
   "source": [
    "y_pred_prob = model_xgboost_classifier.predict_proba(x_test)\n",
    "y_pred_prob = y_pred_prob[:,1]"
   ]
  },
  {
   "cell_type": "code",
   "execution_count": null,
   "id": "7a5d280d",
   "metadata": {},
   "outputs": [],
   "source": [
    "roc_auc_score_test = roc_auc_score(y_test,y_pred_prob)\n",
    "roc_auc_score_test"
   ]
  },
  {
   "cell_type": "code",
   "execution_count": null,
   "id": "4889bd8d",
   "metadata": {},
   "outputs": [],
   "source": [
    "fpr,tpr,thresholds = roc_curve(y_test,y_pred_prob)"
   ]
  },
  {
   "cell_type": "code",
   "execution_count": null,
   "id": "362208c3",
   "metadata": {},
   "outputs": [],
   "source": [
    "plt.plot(fpr,tpr,color= \"orange\",label = \"ROC\")\n",
    "plt.plot([0,1],[0,1],color='blue',linestyle='--',label='ROC Curve test using svc(area = %0.4f)' % roc_auc_score_test)\n",
    "plt.xlabel('False possitive rate')\n",
    "plt.ylabel('True possitive rate')\n",
    "plt.title('roc curve test using XGBClassifier')\n",
    "plt.legend()\n",
    "plt.show()"
   ]
  },
  {
   "cell_type": "markdown",
   "id": "9ba89a2d",
   "metadata": {},
   "source": [
    "# **<a id=\"section-12\"></a><font color='3D87A6'> Classification Report </font>**"
   ]
  },
  {
   "cell_type": "code",
   "execution_count": null,
   "id": "087a9780",
   "metadata": {},
   "outputs": [],
   "source": [
    "print(classification_report(y_test,y_test_pred))"
   ]
  }
 ],
 "metadata": {
  "kernelspec": {
   "display_name": "Python 3 (ipykernel)",
   "language": "python",
   "name": "python3"
  },
  "language_info": {
   "codemirror_mode": {
    "name": "ipython",
    "version": 3
   },
   "file_extension": ".py",
   "mimetype": "text/x-python",
   "name": "python",
   "nbconvert_exporter": "python",
   "pygments_lexer": "ipython3",
   "version": "3.8.8"
  }
 },
 "nbformat": 4,
 "nbformat_minor": 5
}
